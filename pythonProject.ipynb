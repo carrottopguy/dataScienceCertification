{
 "cells": [
  {
   "cell_type": "markdown",
   "id": "c84ae337",
   "metadata": {},
   "source": [
    "# Intro to Python: Projects"
   ]
  },
  {
   "cell_type": "markdown",
   "id": "c8623d69",
   "metadata": {},
   "source": [
    "### Module 1 Project 1"
   ]
  },
  {
   "cell_type": "code",
   "execution_count": null,
   "id": "f0376f13",
   "metadata": {},
   "outputs": [
    {
     "name": "stdout",
     "output_type": "stream",
     "text": [
      "hello world\n"
     ]
    }
   ],
   "source": [
    "print('hello world')\n",
    "# Comment Example"
   ]
  },
  {
   "cell_type": "code",
   "execution_count": 2,
   "id": "de1718e1",
   "metadata": {},
   "outputs": [
    {
     "name": "stdout",
     "output_type": "stream",
     "text": [
      "3.9.1 (tags/v3.9.1:1e5d33e, Dec  7 2020, 17:08:21) [MSC v.1927 64 bit (AMD64)]\n"
     ]
    }
   ],
   "source": [
    "import sys\n",
    "print(sys.version)"
   ]
  },
  {
   "cell_type": "code",
   "execution_count": 4,
   "id": "52118a3e",
   "metadata": {},
   "outputs": [
    {
     "name": "stdout",
     "output_type": "stream",
     "text": [
      "17\n"
     ]
    }
   ],
   "source": [
    "z = 2 + 15 \n",
    "print(z)"
   ]
  },
  {
   "cell_type": "markdown",
   "id": "2ca6ddc1",
   "metadata": {},
   "source": [
    "## Module 1 Project 2 ~ Types and Typecasting"
   ]
  },
  {
   "cell_type": "code",
   "execution_count": 5,
   "id": "2a84a880",
   "metadata": {},
   "outputs": [
    {
     "name": "stdout",
     "output_type": "stream",
     "text": [
      "12 <class 'int'>\n"
     ]
    }
   ],
   "source": [
    "# integer\n",
    "x = 12\n",
    "print(x, type(x))"
   ]
  },
  {
   "cell_type": "code",
   "execution_count": 6,
   "id": "d89d74e4",
   "metadata": {},
   "outputs": [
    {
     "name": "stdout",
     "output_type": "stream",
     "text": [
      "12.5 <class 'float'>\n"
     ]
    }
   ],
   "source": [
    "# float\n",
    "y = 12.5\n",
    "print(y, type(y))\n"
   ]
  },
  {
   "cell_type": "code",
   "execution_count": 7,
   "id": "924d0710",
   "metadata": {},
   "outputs": [
    {
     "name": "stdout",
     "output_type": "stream",
     "text": [
      "Hello <class 'str'>\n"
     ]
    }
   ],
   "source": [
    "# string\n",
    "z = \"Hello\"\n",
    "print(z, type(z))"
   ]
  },
  {
   "cell_type": "code",
   "execution_count": null,
   "id": "c0fca3ee",
   "metadata": {},
   "outputs": [],
   "source": [
    "# boolean\n",
    "a = True\n",
    "print(a, type(a))"
   ]
  },
  {
   "cell_type": "code",
   "execution_count": 20,
   "id": "e8eceb75",
   "metadata": {},
   "outputs": [
    {
     "name": "stdout",
     "output_type": "stream",
     "text": [
      "1.0 <class 'float'>\n",
      "1 <class 'str'>\n",
      "True <class 'bool'>\n",
      "-4 <class 'str'>\n",
      "-4 <class 'int'>\n"
     ]
    }
   ],
   "source": [
    "# typecasting\n",
    "x = 1   # int\n",
    "y = float(x)  # int to float\n",
    "print(y, type(y))\n",
    "z = str(x) # int to string\n",
    "print(z, type(z))\n",
    "a = bool(x)  # int to boolean\n",
    "print(a, type(a))\n",
    "s = '-4'\n",
    "print(s, type(s))\n",
    "t = int(s)  # string to int\n",
    "print(t, type(t))"
   ]
  },
  {
   "cell_type": "code",
   "execution_count": 31,
   "id": "82edfee7",
   "metadata": {},
   "outputs": [
    {
     "name": "stdout",
     "output_type": "stream",
     "text": [
      "<class 'float'>\n",
      "<class 'int'>\n",
      "<class 'str'>\n",
      "<class 'bool'>\n",
      "<class 'int'>\n",
      "<class 'float'>\n",
      "-8223\n"
     ]
    }
   ],
   "source": [
    "print(type(6/2))  # division always returns float\n",
    "print(type(6//2)) # floor division returns int if both operands are int\n",
    "print(type('Hello World'))  # string\n",
    "print(type('hello'=='World'))  # boolean\n",
    "print(type(int('1001')))\n",
    "print(type(float('1234.56')))\n",
    "print(str(123-456-7890))"
   ]
  },
  {
   "cell_type": "markdown",
   "id": "b3d9ff06",
   "metadata": {},
   "source": [
    "## Module 1 Project 3 ~ Expressions and Variables"
   ]
  },
  {
   "cell_type": "code",
   "execution_count": 42,
   "id": "ee47084c",
   "metadata": {},
   "outputs": [
    {
     "name": "stdout",
     "output_type": "stream",
     "text": [
      "Addition: 5 + 10 = 15\n",
      "Subtraction: 10 - 5 = 5\n",
      "Multiplication: 4 * 3 = 12\n",
      "Division: 22 / 4 = 5.5\n",
      "Integer Division: 22 // 4 = 5\n",
      "Modulus (i.e. remainder): 22 % 4 = 2\n",
      "Exponentiation: 2 ** 3 = 8\n"
     ]
    }
   ],
   "source": [
    "# Addition\n",
    "x = 5\n",
    "y = 10\n",
    "z = x + y\n",
    "print(\"Addition:\", x, '+', y, '=', z)\n",
    "# Subtraction\n",
    "a = 10\n",
    "b = 5\n",
    "c = a - b\n",
    "print(\"Subtraction:\", a, '-', b, '=', c)\n",
    "# Multiplication\n",
    "m = 4\n",
    "n = 3\n",
    "p = m * n\n",
    "print(\"Multiplication:\", m, '*', n, '=', p)\n",
    "# Division\n",
    "d = 22\n",
    "e = 4\n",
    "f = d / e\n",
    "print(\"Division:\", d, '/', e, '=', f)\n",
    "## Integer Division\n",
    "g = d // e\n",
    "print(\"Integer Division:\", d, '//', e, '=', g)\n",
    "## Modulus\n",
    "h = d % e\n",
    "print(\"Modulus (i.e. remainder):\", d, '%', e, '=', h)\n",
    "## Exponentiation\n",
    "i = 2\n",
    "j = 3\n",
    "k = i ** j\n",
    "print(\"Exponentiation:\", i, '**', j, '=', k)"
   ]
  },
  {
   "cell_type": "code",
   "execution_count": 48,
   "id": "4c85e8d6",
   "metadata": {},
   "outputs": [
    {
     "name": "stdout",
     "output_type": "stream",
     "text": [
      "120\n",
      "3.0\n",
      "{'hours': 2, 'minutes': 30}\n"
     ]
    }
   ],
   "source": [
    "def hours_to_minutes(hours):\n",
    "    return hours * 60\n",
    "\n",
    "def minutes_to_hours_remainder(minutes):\n",
    "    return {'hours': minutes // 60, 'minutes': minutes % 60}\n",
    "\n",
    "def minutes_to_hours(minutes):\n",
    "    return minutes / 60\n",
    "\n",
    "print(hours_to_minutes(2))\n",
    "print(minutes_to_hours(180))\n",
    "print(minutes_to_hours_remainder(150))"
   ]
  },
  {
   "cell_type": "markdown",
   "id": "9cd99ae8",
   "metadata": {},
   "source": [
    "## Module 1 Project 4 Strings and String Operations"
   ]
  },
  {
   "cell_type": "code",
   "execution_count": 50,
   "id": "a7dc2ef4",
   "metadata": {},
   "outputs": [
    {
     "name": "stdout",
     "output_type": "stream",
     "text": [
      "Name: The BodyGuard\n"
     ]
    }
   ],
   "source": [
    "name = \"The BodyGuard\"\n",
    "print(\"Name:\", name)"
   ]
  },
  {
   "cell_type": "code",
   "execution_count": 58,
   "id": "8457468f",
   "metadata": {},
   "outputs": [
    {
     "name": "stdout",
     "output_type": "stream",
     "text": [
      "T\n",
      "h\n",
      "d\n",
      "The\n",
      "BodyGuard\n",
      "Guard\n",
      "Body\n",
      "TeBdGad\n",
      "drauGydoB ehT\n",
      "TeB\n"
     ]
    }
   ],
   "source": [
    "# Indexes and Slicing\n",
    "print(name[0])       # First character\n",
    "print(name[1])       # Second character\n",
    "print(name[-1])      # Last character\n",
    "print(name[0:3])     # First three characters\n",
    "print(name[4:])      # From the fifth character to the end\n",
    "print(name[-5:])     # Last 5 characters\n",
    "print(name[4:8])     # Internal Slice\n",
    "print(name[::2])     # Every other character from string\n",
    "print(name[::-1])    # Reversed string\n",
    "print(name[0:5:2])   # every other character, up to index 5"
   ]
  },
  {
   "cell_type": "code",
   "execution_count": 68,
   "id": "d129efd8",
   "metadata": {},
   "outputs": [
    {
     "name": "stdout",
     "output_type": "stream",
     "text": [
      "The BodyGuard is an action thriller film\n",
      "Echo! Echo! Echo! \n",
      "He said, \"I'm here.\"\n",
      "Newline character:\\n\n",
      "Next line.\n",
      "Tab character:\\t\tTabbed text.\n"
     ]
    }
   ],
   "source": [
    "# String Operations\n",
    "# concatenation\n",
    "statement = name + \" is an action thriller film\"\n",
    "print(statement)\n",
    "# repetition\n",
    "echo = \"Echo! \" * 3\n",
    "print(echo)\n",
    "# Escape sequences\n",
    "print(\"He said, \\\"I'm here.\\\"\")\n",
    "print('Newline character:\\\\n\\nNext line.')\n",
    "print ('Tab character:\\\\t\\tTabbed text.')"
   ]
  },
  {
   "cell_type": "code",
   "execution_count": 76,
   "id": "99f8f683",
   "metadata": {},
   "outputs": [
    {
     "name": "stdout",
     "output_type": "stream",
     "text": [
      "HELLO, WORLD, MY NAME IS JUSTIN!\n",
      "hello, world, my name is justin!\n",
      "Hello, World, My Name Is Justin!\n",
      "hello, Python, my name is Justin!\n",
      "['hello', 'World', 'my name is Justin!']\n",
      "25\n",
      "hello, World, my name is Alice!\n",
      "-1\n",
      "-1 means not found\n"
     ]
    }
   ],
   "source": [
    "# String Manipulation\n",
    "greeting = \"hello, World, my name is Justin!\"\n",
    "print(greeting.upper())      # Convert to uppercase\n",
    "print(greeting.lower())      # Convert to lowercase\n",
    "print(greeting.title())      # Convert to title case\n",
    "print(greeting.replace(\"World\", \"Python\"))  # Replace substring\n",
    "print(greeting.split(\", \"))  # Split string into a list\n",
    "person = 'Justin'\n",
    "new_person = 'Alice'\n",
    "print(greeting.find(person))  # Find substring index\n",
    "print(greeting.replace(person, new_person))  # Replace substring with new name\n",
    "print(greeting.find(new_person))  # Find new substring index \n",
    "print('-1 means not found')"
   ]
  },
  {
   "cell_type": "code",
   "execution_count": 79,
   "id": "0f5e49d5",
   "metadata": {},
   "outputs": [
    {
     "name": "stdout",
     "output_type": "stream",
     "text": [
      "<re.Match object; span=(4, 8), match='Body'>\n",
      "Pattern found at index: 4\n"
     ]
    }
   ],
   "source": [
    "# Regex and more complex string operations\n",
    "import re\n",
    "s1 = \"The BodyGuard is the best album\"\n",
    "pattern = \"Body\"\n",
    "result = re.search(pattern, s1)\n",
    "print(result)\n",
    "if result:\n",
    "    print(\"Pattern found at index:\", result.start())\n",
    "else:\n",
    "    print(\"Pattern not found\")"
   ]
  },
  {
   "cell_type": "code",
   "execution_count": 83,
   "id": "1b500345",
   "metadata": {},
   "outputs": [
    {
     "name": "stdout",
     "output_type": "stream",
     "text": [
      "['123-456-7890', '9876543210']\n",
      "No matches found in:\n",
      " \t My office number is 123 456 7890.\n"
     ]
    }
   ],
   "source": [
    "# Special Sequences\n",
    "# \\d - matches any digit (0-9)\n",
    "# \\D - matches any non-digit character\n",
    "# \\w - matches any alphanumeric character (letters and digits)\n",
    "# \\W - matches any non-alphanumeric character\n",
    "# \\s - matches any whitespace character (spaces, tabs, line breaks)\n",
    "# \\S - matches any non-whitespace character\n",
    "\n",
    "phone_pattern = r'\\d{3}-*?\\d{3}-*?\\d{4}'  # Pattern to match phone numbers like 123-456-7890 or 1234567890\n",
    "test_string = \"Contact me at 123-456-7890 or 9876543210.\"\n",
    "test2_string = \"My office number is 123 456 7890.\"\n",
    "matches = re.findall(phone_pattern, test_string)\n",
    "matches2 = re.findall(phone_pattern, test2_string)\n",
    "if matches:\n",
    "    print(matches)\n",
    "else:\n",
    "    print(\"No matches found in:\\n\", '\\t',test_string)\n",
    "if matches2:\n",
    "    print(matches2)\n",
    "else:\n",
    "    print(\"No matches found in:\\n\", '\\t', test2_string)"
   ]
  },
  {
   "cell_type": "code",
   "execution_count": 88,
   "id": "897a1436",
   "metadata": {},
   "outputs": [
    {
     "name": "stdout",
     "output_type": "stream",
     "text": [
      "First Names: ['Alice', 'Bob', 'Charlie', 'Diana', 'Ethan']\n",
      "Last Names: ['Smith', 'Johnson', 'Lee', 'King', 'Brown']\n"
     ]
    }
   ],
   "source": [
    "names_list = [\"Alice Smith\", \"Bob Johnson\", \"Charlie Lee\", \"Diana King\", \"Ethan Brown\"]\n",
    "first_names = []\n",
    "last_names = []\n",
    "for name in names_list:\n",
    "    first, last = re.split('\\s+', name)\n",
    "    first_names.append(first)\n",
    "    last_names.append(last)\n",
    "print(\"First Names:\", first_names)\n",
    "print(\"Last Names:\", last_names)"
   ]
  },
  {
   "cell_type": "markdown",
   "id": "9a45d05f",
   "metadata": {},
   "source": [
    "## Module 2 Project 1 - Lists and Tuples "
   ]
  },
  {
   "cell_type": "code",
   "execution_count": 89,
   "id": "c0775d2b",
   "metadata": {},
   "outputs": [
    {
     "name": "stdout",
     "output_type": "stream",
     "text": [
      "['string', 123, 45.67, True, [1, 2, 3], (4, 5), {'key': 'value'}]\n",
      "string\n",
      "{'key': 'value'}\n",
      "<class 'list'>\n"
     ]
    }
   ],
   "source": [
    "L = ['string', 123, 45.67, True, [1, 2, 3], (4, 5), {'key': 'value'}]\n",
    "print(L)\n",
    "print(L[0])          # First element\n",
    "print(L[-1])         # Last element\n",
    "print(type(L))   # List type"
   ]
  },
  {
   "cell_type": "code",
   "execution_count": 101,
   "id": "c4c790f9",
   "metadata": {},
   "outputs": [
    {
     "name": "stdout",
     "output_type": "stream",
     "text": [
      "Popular Artists List: ['The Weeknd', 'Prince', 'Dua Lipa', 'Drake', 'Ariana Grande', 'Billie Eilish']\n",
      "Updated Popular Artists List (Append): ['The Weeknd', 'Prince', 'Dua Lipa', 'Drake', 'Ariana Grande', 'Billie Eilish', 'Olivia Rodrigo']\n",
      "Final Popular Artists List (Extend): ['The Weeknd', 'Prince', 'Dua Lipa', 'Drake', 'Ariana Grande', 'Billie Eilish', 'Olivia Rodrigo', 'Taylor Swift', 'Ed Sheeran', 'Beyoncé', 'Bruno Mars', 'Kendrick Lamar']\n",
      "After Removing 'Drake': ['The Weeknd', 'Prince', 'Dua Lipa', 'Ariana Grande', 'Billie Eilish', 'Olivia Rodrigo', 'Taylor Swift', 'Ed Sheeran', 'Beyoncé', 'Bruno Mars', 'Kendrick Lamar']\n",
      "After updating 'Prince': ['The Weeknd', 'The Artist formerly known as Prince', 'Dua Lipa', 'Ariana Grande', 'Billie Eilish', 'Olivia Rodrigo', 'Taylor Swift', 'Ed Sheeran', 'Beyoncé', 'Bruno Mars', 'Kendrick Lamar']\n",
      "Raw String: The,BodyGuard,is,the,best,album\n",
      "List from String: ['The', 'BodyGuard', 'is', 'the', 'best', 'album']\n"
     ]
    }
   ],
   "source": [
    "popularArtists = ['The Weeknd', 'Prince', 'Dua Lipa', 'Drake', 'Ariana Grande', 'Billie Eilish']\n",
    "otherArtists = ['Taylor Swift', 'Ed Sheeran', 'Beyoncé', 'Bruno Mars', 'Kendrick Lamar']\n",
    "print(\"Popular Artists List:\", popularArtists)\n",
    "popularArtists.append('Olivia Rodrigo')\n",
    "print(\"Updated Popular Artists List (Append):\", popularArtists)\n",
    "popularArtists.extend(otherArtists)\n",
    "print(\"Final Popular Artists List (Extend):\", popularArtists)\n",
    "popularArtists.remove('Drake')\n",
    "print(\"After Removing 'Drake':\", popularArtists)\n",
    "popularArtists[1] = 'The Artist formerly known as Prince'\n",
    "print(\"After updating 'Prince':\", popularArtists)\n",
    "\n",
    "commaSeperatedString = \"The,BodyGuard,is,the,best,album\"\n",
    "print('Raw String:', commaSeperatedString)\n",
    "commaSeperatedList = commaSeperatedString.split(',')\n",
    "print('List from String:', commaSeperatedList)"
   ]
  },
  {
   "cell_type": "code",
   "execution_count": 96,
   "id": "5283dc43",
   "metadata": {},
   "outputs": [
    {
     "name": "stdout",
     "output_type": "stream",
     "text": [
      "Example List before append: [1, 2, 3, 4, 5]\n",
      "After appending 6 to exampleList:\n",
      "\tExample List: [1, 2, 3, 4, 5, 6]\n",
      "\tSample List: [1, 2, 3, 4, 5, 6]\n",
      "Example List 2 before append: [6, 7, 8, 9, 10]\n",
      "After appending 11 to exampleList2:\n",
      "\tExample List 2: [6, 7, 8, 9, 10, 11]\n",
      "\tSample List 2 using slicing: [6, 7, 8, 9, 10]\n",
      "\tSample List 3 using .copy(): [6, 7, 8, 9, 10]\n"
     ]
    }
   ],
   "source": [
    "exampleList = [1, 2, 3, 4, 5]\n",
    "print(\"Example List before append:\", exampleList)\n",
    "sampleList = exampleList\n",
    "exampleList.append(6)\n",
    "print(\"After appending 6 to exampleList:\")\n",
    "print(\"\\tExample List:\", exampleList)\n",
    "print(\"\\tSample List:\", sampleList)\n",
    "\n",
    "exampleList2 = [6, 7, 8, 9, 10]\n",
    "print(\"Example List 2 before append:\", exampleList2)\n",
    "sampleList2 = exampleList2[:]\n",
    "sampleList3 = exampleList2.copy()\n",
    "exampleList2.append(11)\n",
    "print(\"After appending 11 to exampleList2:\")\n",
    "print(\"\\tExample List 2:\", exampleList2)\n",
    "print(\"\\tSample List 2 using slicing:\", sampleList2)\n",
    "print(\"\\tSample List 3 using .copy():\", sampleList3)\n"
   ]
  },
  {
   "cell_type": "code",
   "execution_count": 110,
   "id": "0f320637",
   "metadata": {},
   "outputs": [
    {
     "name": "stdout",
     "output_type": "stream",
     "text": [
      "[1, 'hello', [1, 2, 3], True]\n",
      "hello\n",
      "['hello', [1, 2, 3], True]\n",
      "Concatenated List from list addition: [1, 'a', 2, 1, 'd']\n",
      "Concatenated List from .copy() and .extend(): [1, 'a', 2, 1, 'd']\n",
      "Empty List: []\n",
      "First item on the shopping list: watch\n",
      "Last item on the shopping list: Football\n",
      "Complete Shopping List: ['watch', 'laptop', 'shoes', 'pen', 'clothes', 'Football']\n",
      "Laptop and Shoes from the shopping list: ['laptop', 'shoes']\n",
      "Updated Shopping List (pen to notebook): ['watch', 'laptop', 'shoes', 'notebook', 'clothes', 'Football']\n",
      "Shopping List after removing clothes: ['watch', 'laptop', 'shoes', 'notebook', 'Football']\n"
     ]
    }
   ],
   "source": [
    "# List Quiz\n",
    "quizList = [1, 'hello', [1, 2, 3], True]\n",
    "print(quizList)\n",
    "# index 1 value\n",
    "print(quizList[1])\n",
    "# retrieve elements 1, 2, and 3 from the list\n",
    "print(quizList[1:4])\n",
    "# concatenate two lists \n",
    "A_list = [1, 'a']\n",
    "B_list = [2, 1, 'd']\n",
    "C_list = A_list + B_list\n",
    "print(\"Concatenated List from list addition:\", C_list)\n",
    "D_list = A_list.copy()\n",
    "D_list.extend(B_list)\n",
    "print(\"Concatenated List from .copy() and .extend():\", D_list)\n",
    "# empty list\n",
    "empty_list = []\n",
    "print(\"Empty List:\", empty_list)\n",
    "# Shopping list exercise\n",
    "shopping_list = []\n",
    "# initialize with core list items\n",
    "shopping_list.extend(['watch', 'laptop', 'shoes', 'pen', 'clothes'])\n",
    "# add one missing item Football to the list\n",
    "shopping_list.append('Football')\n",
    "# print first item from the list\n",
    "print(\"First item on the shopping list:\", shopping_list[0])\n",
    "# print last item from the list\n",
    "print(\"Last item on the shopping list:\", shopping_list[-1])\n",
    "# print the list\n",
    "print(\"Complete Shopping List:\", shopping_list)\n",
    "# print only laptop and shoes\n",
    "print(\"Laptop and Shoes from the shopping list:\", shopping_list[1:3])\n",
    "# change item from list pen to notebook\n",
    "shopping_list[3] = 'notebook'\n",
    "print(\"Updated Shopping List (pen to notebook):\", shopping_list)\n",
    "# delete clothes from the list\n",
    "shopping_list.remove('clothes')\n",
    "print(\"Shopping List after removing clothes:\", shopping_list)\n"
   ]
  },
  {
   "cell_type": "code",
   "execution_count": 115,
   "id": "d5715864",
   "metadata": {},
   "outputs": [
    {
     "name": "stdout",
     "output_type": "stream",
     "text": [
      "('disco', 10, 1.2)\n",
      "disco <class 'str'>\n",
      "10 <class 'int'>\n",
      "1.2 <class 'float'>\n",
      "<class 'tuple'>\n",
      "Tuple Slicing: ('disco', 10)\n",
      "Tuple Repetition: ('disco', 10, 1.2, 'disco', 10, 1.2)\n",
      "Tuple Concatenation via addition: ('disco', 10, 1.2, 2024, 'hard rock')\n",
      "Tuple Length: 3\n",
      "Negative Indexing: 1.2\n",
      "Membership Test (10 in tuple): True\n",
      "sorting a tuple using sorted(), note this returns a list: [1, 2, 3] <class 'list'>\n"
     ]
    }
   ],
   "source": [
    "tuple1 = ('disco', 10, 1.2)\n",
    "print(tuple1)\n",
    "print(tuple1[0], type(tuple1[0]))        # First element\n",
    "print(tuple1[1], type(tuple1[1]))        # Second element\n",
    "print(tuple1[2], type(tuple1[2]))        # Third element\n",
    "print(type(tuple1))     # Tuple type\n",
    "# tuples are immutable\n",
    "# tuple1[0] = 'hard rock'  # This will raise an error\n",
    "print(\"Tuple Slicing:\", tuple1[0:2])  # Slicing works like lists\n",
    "print(\"Tuple Repetition:\", tuple1 * 2)  # Repetition works like lists\n",
    "print(\"Tuple Concatenation via addition:\", tuple1 + (2024, 'hard rock'))  # Concatenation works like lists\n",
    "print(\"Tuple Length:\", len(tuple1))  # Length of the tuple'\n",
    "print(\"Negative Indexing:\", tuple1[-1])  # Negative indexing works like lists\n",
    "print(\"Membership Test (10 in tuple):\", 10 in tuple1)  # Membership\n",
    "print(\"sorting a tuple using sorted(), note this returns a list:\", sorted((3, 1, 2)), type(sorted((3, 1, 2))))  # Sorting a tuple returns a list\n",
    "\n"
   ]
  },
  {
   "cell_type": "code",
   "execution_count": 118,
   "id": "aa47f8bf",
   "metadata": {},
   "outputs": [
    {
     "name": "stdout",
     "output_type": "stream",
     "text": [
      "(1, 2, (3, 4), (5, 6))\n",
      "nested tuple 1:  (3, 4)\n",
      "nested tuple 2:  (5, 6)\n",
      "element 1 from nested tuple 1:  3\n",
      "element 2 from nested tuple 2:  6\n",
      "<class 'tuple'>\n"
     ]
    }
   ],
   "source": [
    "nestedTupleExample = (1, 2, (3, 4), (5, 6))\n",
    "print(nestedTupleExample)\n",
    "print('nested tuple 1: ', nestedTupleExample[2])\n",
    "print('nested tuple 2: ', nestedTupleExample[3])\n",
    "print('element 1 from nested tuple 1: ', nestedTupleExample[2][0])\n",
    "print('element 2 from nested tuple 2: ', nestedTupleExample[3][1])\n",
    "print(type(nestedTupleExample))"
   ]
  },
  {
   "cell_type": "code",
   "execution_count": 122,
   "id": "94df9434",
   "metadata": {},
   "outputs": [
    {
     "name": "stdout",
     "output_type": "stream",
     "text": [
      "genre tuple: ('pop', 'rock', 'soul', 'hard rock', 'soft rock', 'R&B', 'progressive rock', 'disco')\n",
      "length of tuple: 8\n",
      "3rd element: soul\n",
      "slice from index 3 to 5: ('hard rock', 'soft rock', 'R&B')\n",
      "slice first two elements: ('pop', 'rock')\n",
      "index of 's' in disco: 2\n",
      "generate sorted list of tuple (-5, 1, -3) using sorted command: [-5, -3, 1]\n"
     ]
    }
   ],
   "source": [
    "# Quiz on Tuples\n",
    "genreTuple = ('pop', 'rock', 'soul', 'hard rock', 'soft rock', 'R&B', 'progressive rock', 'disco')\n",
    "print('genre tuple:', genreTuple)\n",
    "print('length of tuple:', len(genreTuple))\n",
    "print('3rd element:', genreTuple[2])\n",
    "print('slice from index 3 to 5:', genreTuple[3:6])\n",
    "print('slice first two elements:', genreTuple[:2])\n",
    "print('index of \\'s\\' in disco:', genreTuple[-1].index('s'))  # Finding index of 's' in the last element 'disco'\n",
    "print('generate sorted list of tuple (-5, 1, -3) using sorted command:', sorted((-5, 1, -3)))"
   ]
  },
  {
   "cell_type": "code",
   "execution_count": null,
   "id": "3f14bb36",
   "metadata": {},
   "outputs": [],
   "source": []
  }
 ],
 "metadata": {
  "kernelspec": {
   "display_name": "Python 3",
   "language": "python",
   "name": "python3"
  },
  "language_info": {
   "codemirror_mode": {
    "name": "ipython",
    "version": 3
   },
   "file_extension": ".py",
   "mimetype": "text/x-python",
   "name": "python",
   "nbconvert_exporter": "python",
   "pygments_lexer": "ipython3",
   "version": "3.9.1"
  }
 },
 "nbformat": 4,
 "nbformat_minor": 5
}

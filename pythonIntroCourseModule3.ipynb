{
 "cells": [
  {
   "cell_type": "markdown",
   "id": "064cd3d7",
   "metadata": {},
   "source": [
    "# Intro to Python: Projects"
   ]
  },
  {
   "cell_type": "markdown",
   "id": "33be1464",
   "metadata": {},
   "source": [
    "## Module 3 Project 1 ~ Conditions and Branching"
   ]
  },
  {
   "cell_type": "code",
   "execution_count": 3,
   "id": "9b3f720b",
   "metadata": {},
   "outputs": [
    {
     "name": "stdout",
     "output_type": "stream",
     "text": [
      "a: 10\n",
      "b: 20\n",
      "c: 10\n",
      "d: 11\n",
      "a == b: 10 == 20 -> False\n",
      "a != b: 10 != 20 -> True\n",
      "a < b: 10 < 20 -> True\n",
      "a > b: 10 > 20 -> False\n",
      "a <= c: 10 <= 10 -> True\n",
      "a < c: 10 < 10 -> False\n",
      "a <= d: 10 <= 11 -> True\n",
      "a < d: 10 < 11 -> True\n"
     ]
    }
   ],
   "source": [
    "# conditions demonstrated\n",
    "a = 10\n",
    "print('a:', a)\n",
    "b = 20\n",
    "print('b:', b)\n",
    "c = 10\n",
    "print('c:', c)\n",
    "d = 11\n",
    "print('d:', d)\n",
    "print('a == b:', a, '==', b, '->', a == b)\n",
    "print('a != b:', a, '!=', b, '->', a != b)\n",
    "print('a < b:', a, '<', b, '->', a < b)\n",
    "print('a > b:', a, '>', b, '->', a > b)\n",
    "print('a <= c:', a, '<=', c, '->', a <= c)\n",
    "print('a < c:', a, '<', c, '->', a < c)\n",
    "print('a <= d:', a, '<=', d, '->', a <= d)\n",
    "print('a < d:', a, '<', d, '->', a < d)"
   ]
  },
  {
   "cell_type": "code",
   "execution_count": 10,
   "id": "37eca72c",
   "metadata": {},
   "outputs": [
    {
     "name": "stdout",
     "output_type": "stream",
     "text": [
      "str1: hello\n",
      "str2: world\n",
      "str1 == str2: hello == world -> False\n",
      "str1 != str2: hello != world -> True\n",
      "char1: a ascii: 97\n",
      "char2: b ascii: 98\n",
      "char1 == char2: a == b -> False\n",
      "char1 != char2: a != b -> True\n",
      "char1 > char2: a > b : 97 > 98 -> False\n",
      "char1 < char2: a < b : 97 < 98 -> True\n",
      "double1: ab ascii: [97, 98]\n",
      "double2: ba ascii: [98, 97]\n",
      "double1 == double2: ab == ba -> False\n",
      "double1 != double2: ab != ba -> True\n",
      "the first character takes precedence in comparison if the first characters are different\n",
      "double1 > double2: ab > ba -> False\n",
      "double1 < double2: ab < ba -> True\n"
     ]
    }
   ],
   "source": [
    "# String comparison\n",
    "str1 = \"hello\"\n",
    "str2 = \"world\"\n",
    "print('str1:', str1)\n",
    "print('str2:', str2)\n",
    "print('str1 == str2:', str1, '==', str2, '->', str1 == str2)\n",
    "print('str1 != str2:', str1, '!=', str2, '->', str1 != str2)\n",
    "\n",
    "char1 = 'a'\n",
    "char2 = 'b'\n",
    "print('char1:', char1, 'ascii:', ord(char1))\n",
    "print('char2:', char2, 'ascii:', ord(char2))\n",
    "print('char1 == char2:', char1, '==', char2, '->', char1 == char2)\n",
    "print('char1 != char2:', char1, '!=', char2, '->', char1 != char2)\n",
    "print('char1 > char2:', char1, '>', char2, ':', ord(char1), '>', ord(char2), '->', char1 > char2)\n",
    "print('char1 < char2:', char1, '<', char2, ':', ord(char1), '<', ord(char2), '->', char1 < char2)\n",
    "\n",
    "double1 = 'ab'\n",
    "double2 = 'ba'\n",
    "print('double1:', double1, 'ascii:', [ord(c) for c in double1])\n",
    "print('double2:', double2, 'ascii:', [ord(c) for c in double2])\n",
    "print('double1 == double2:', double1, '==', double2, '->', double1 == double2)\n",
    "print('double1 != double2:', double1, '!=', double2, '->', double1 != double2)\n",
    "print('the first character takes precedence in comparison if the first characters are different')\n",
    "print('double1 > double2:', double1, '>', double2, '->', double1 > double2)\n",
    "print('double1 < double2:', double1, '<', double2, '->', double1 < double2)"
   ]
  },
  {
   "cell_type": "code",
   "execution_count": 13,
   "id": "5d20d2eb",
   "metadata": {},
   "outputs": [
    {
     "name": "stdout",
     "output_type": "stream",
     "text": [
      "Age: -1, Category: unborn, Recommended Activity: N/A\n",
      "Age: 0, Category: infant, Recommended Activity: playing with toys\n",
      "Age: 1, Category: infant, Recommended Activity: playing with toys\n",
      "Age: 2, Category: toddler, Recommended Activity: exploring the environment\n",
      "Age: 5, Category: child, Recommended Activity: playing games\n",
      "Age: 10, Category: child, Recommended Activity: playing games\n",
      "Age: 15, Category: teenager, Recommended Activity: socializing with friends\n",
      "Age: 30, Category: adult, Recommended Activity: working\n",
      "Age: 70, Category: senior, Recommended Activity: relaxing\n"
     ]
    }
   ],
   "source": [
    "# Conditional branching\n",
    "def assignAgeAppropriateActivity(age):\n",
    "    if age < 0:\n",
    "        category = \"unborn\"\n",
    "        activity = \"N/A\"\n",
    "    elif age <= 1:\n",
    "        category = \"infant\"\n",
    "        activity = \"playing with toys\"\n",
    "    elif age <= 3:\n",
    "        category = \"toddler\"\n",
    "        activity = \"exploring the environment\"\n",
    "    elif age <= 12:\n",
    "        category = \"child\"\n",
    "        activity = \"playing games\"\n",
    "    elif age <= 19:\n",
    "        category = \"teenager\"\n",
    "        activity = \"socializing with friends\"\n",
    "    elif age <= 64:\n",
    "        category = \"adult\"\n",
    "        activity = \"working\"\n",
    "    else:\n",
    "        category = \"senior\"\n",
    "        activity = \"relaxing\"\n",
    "    print(f\"Age: {age}, Category: {category}, Recommended Activity: {activity}\")\n",
    "    return category, activity\n",
    "\n",
    "# Test the function with different ages\n",
    "ages_to_test = [-1, 0, 1, 2, 5, 10, 15, 30, 70]\n",
    "for age in ages_to_test:\n",
    "    assignAgeAppropriateActivity(age)"
   ]
  },
  {
   "cell_type": "code",
   "execution_count": 17,
   "id": "01a8c112",
   "metadata": {},
   "outputs": [
    {
     "name": "stdout",
     "output_type": "stream",
     "text": [
      "Birth Year: 2026, Age: -1, Generation: unborn\n",
      "Birth Year: 2025, Age: 0, Generation: Gen Alpha (TikTok Generation)\n",
      "Birth Year: 2020, Age: 5, Generation: Gen Alpha (TikTok Generation)\n",
      "Birth Year: 2010, Age: 15, Generation: Gen Alpha (TikTok Generation)\n",
      "Birth Year: 2005, Age: 20, Generation: Gen Z (TikTok Generation)\n",
      "Birth Year: 1995, Age: 30, Generation: Millennial\n",
      "Birth Year: 1980, Age: 45, Generation: Gen X\n",
      "Birth Year: 1960, Age: 65, Generation: Gen X (Bought my house for 20k Generation)\n",
      "Birth Year: 1950, Age: 75, Generation: Baby Boomers (Bought my house for 20k Generation)\n",
      "Birth Year: 1940, Age: 85, Generation: The Greatest Generation (Bought my house for 20k Generation)\n",
      "Error: Birth year out of expected range.\n",
      "Birth Year: 1920, Age: 105, Generation: ???\n"
     ]
    }
   ],
   "source": [
    "# Conditional Branching with logical operators\n",
    "def checkGeneration(birthYear):\n",
    "    currentYear = 2025\n",
    "    age = currentYear - birthYear\n",
    "    youngerThan30 = age < 30\n",
    "    olderThan60 = age > 60\n",
    "    if age < 0:\n",
    "        generation = \"unborn\"\n",
    "    elif age <= 15:\n",
    "        generation = \"Gen Alpha\"\n",
    "    elif age <= 28:\n",
    "        generation = \"Gen Z\"\n",
    "    elif age <= 42:\n",
    "        generation = \"Millennial\"\n",
    "    elif age <= 65:\n",
    "        generation = \"Gen X\"\n",
    "    elif age <= 77:\n",
    "        generation = \"Baby Boomers\"\n",
    "    elif age <= 100:\n",
    "        generation = \"The Greatest Generation\"\n",
    "    else:\n",
    "        generation = \"???\"\n",
    "        print(\"Error: Birth year out of expected range.\")\n",
    "    if youngerThan30 and (generation in ['Gen Alpha', 'Gen Z', 'Millennial']):\n",
    "        generation += \" (TikTok Generation)\"\n",
    "    if olderThan60 and (generation in ['Baby Boomers', 'Gen X', 'The Greatest Generation']):\n",
    "        generation += \" (Bought my house for 20k Generation)\"\n",
    "    print(f\"Birth Year: {birthYear}, Age: {age}, Generation: {generation}\")\n",
    "    return generation\n",
    "\n",
    "# Test the function with different birth years\n",
    "birthYears_to_test = [2026, 2025, 2020, 2010, 2005, 1995, 1980, 1960, 1950, 1940, 1920]\n",
    "for birthYear in birthYears_to_test:\n",
    "    checkGeneration(birthYear)"
   ]
  },
  {
   "cell_type": "markdown",
   "id": "86ce66dc",
   "metadata": {},
   "source": [
    "## Module 3 Project 2 ~ Loops"
   ]
  },
  {
   "cell_type": "code",
   "execution_count": 23,
   "id": "60bbad36",
   "metadata": {},
   "outputs": [
    {
     "name": "stdout",
     "output_type": "stream",
     "text": [
      "For Loop using range function:\n",
      "Iteration 0\n",
      "Iteration 1\n",
      "Iteration 2\n",
      "Iteration 3\n",
      "Iteration 4\n",
      "Range(3, 8): [3, 4, 5, 6, 7]\n",
      "Range(2, 10, 2): [2, 4, 6, 8]\n",
      "Range(10, 2, -2): [10, 8, 6, 4]\n",
      "For Loop using list:\n",
      "my_list: ['apple', 'banana', 'cherry']\n",
      "Fruit: apple\n",
      "Fruit: banana\n",
      "Fruit: cherry\n",
      "While Loop Example: (while count < 5 iterating each loop)\n",
      "Initial count: 0\n",
      "Count: 0\n",
      "Count: 1\n",
      "Count: 2\n",
      "Count: 3\n",
      "Count: 4\n",
      "Enumerate Example:\n",
      "Index: 0, Color: red\n",
      "Index: 1, Color: green\n",
      "Index: 2, Color: blue\n"
     ]
    }
   ],
   "source": [
    "# For Loop Example\n",
    "# using range function\n",
    "print('For Loop using range function:')\n",
    "for i in range(5):\n",
    "    print(f\"Iteration {i}\")\n",
    "# other range function examples\n",
    "print('Range(3, 8):', list(range(3, 8)))\n",
    "print('Range(2, 10, 2):', list(range(2, 10, 2)))\n",
    "print('Range(10, 2, -2):', list(range(10, 2, -2)))\n",
    "# using list\n",
    "print('For Loop using list:')\n",
    "my_list = ['apple', 'banana', 'cherry']\n",
    "print('my_list:', my_list)\n",
    "for fruit in my_list:\n",
    "    print(f\"Fruit: {fruit}\")\n",
    "\n",
    "# While Loop Example\n",
    "print('While Loop Example: (while count < 5 iterating each loop)')\n",
    "count = 0\n",
    "print('Initial count:', count)\n",
    "while count < 5:\n",
    "    print(f\"Count: {count}\")\n",
    "    count += 1\n",
    "\n",
    "# Enumerate Example\n",
    "print('Enumerate Example:')\n",
    "my_list = ['red', 'green', 'blue']\n",
    "for index, color in enumerate(my_list):\n",
    "    print(f\"Index: {index}, Color: {color}\")\n"
   ]
  },
  {
   "cell_type": "markdown",
   "id": "74dd3e50",
   "metadata": {},
   "source": [
    "## Module 3 Project 3 ~ Functions"
   ]
  },
  {
   "cell_type": "code",
   "execution_count": 24,
   "id": "0e4c1a45",
   "metadata": {},
   "outputs": [
    {
     "name": "stdout",
     "output_type": "stream",
     "text": [
      "abs(-7): 7\n",
      "divmod(20, 3): (6, 2)\n",
      "pow(2, 3): 8\n",
      "round(3.14159, 2): 3.14\n",
      "sorted([5, 2, 9, 1]): [1, 2, 5, 9]\n",
      "sum([1, 2, 3, 4]): 10\n",
      "type(123): <class 'int'>\n",
      "min(5, 2, 9, 1): 1\n",
      "max(5, 2, 9, 1): 9\n"
     ]
    }
   ],
   "source": [
    "# See a few python built in functions\n",
    "print('abs(-7):', abs(-7))\n",
    "print('divmod(20, 3):', divmod(20, 3))\n",
    "print('pow(2, 3):', pow(2, 3))\n",
    "print('round(3.14159, 2):', round(3.14159, 2))\n",
    "print('sorted([5, 2, 9, 1]):', sorted([5, 2, 9, 1]))\n",
    "print('sum([1, 2, 3, 4]):', sum([1, 2, 3, 4]))\n",
    "print('type(123):', type(123))\n",
    "print('min(5, 2, 9, 1):', min(5, 2, 9, 1))\n",
    "print('max(5, 2, 9, 1):', max(5, 2, 9, 1))"
   ]
  },
  {
   "cell_type": "code",
   "execution_count": 37,
   "id": "18928dca",
   "metadata": {},
   "outputs": [
    {
     "name": "stdout",
     "output_type": "stream",
     "text": [
      "New Student List: ['John', 'Jane', 'Doe']\n",
      "Hello, John!\n",
      "Hello, Jane!\n",
      "Hello, Doe!\n",
      "Result of calling empty function: None\n",
      "Outside function (String1): I am a global variable\n",
      "Outside function (String2): I am another global variable\n",
      "Inside function (String1): I am a local variable\n",
      "Note how local variable String1 takes precedence over global variable String1\n",
      "Inside function (String2): I am another global variable\n",
      "Note how global variable String2 is accessible inside the function\n",
      "Global Variables passed in will be copied to local variables\n",
      "Modifying the local variable will not modify the global variable\n",
      "Before function call (old unmodifiedString1): I am unmodified\n",
      "After function call (new modifiedString1): I am modified\n",
      "Before function call (old unmodifiedString2): I am a partial string\n",
      "After function call (new modifiedString2): I am a partial string that is now complete\n"
     ]
    }
   ],
   "source": [
    "# Defining a function\n",
    "def greet(name):\n",
    "    return f\"Hello, {name}!\"\n",
    "\n",
    "newStudentList = ['John', 'Jane', 'Doe']\n",
    "print('New Student List:', newStudentList)\n",
    "for student in newStudentList:\n",
    "    # calling a function\n",
    "    print(greet(student))\n",
    "\n",
    "# Empty Function\n",
    "def placeholderFunction():\n",
    "    pass  # Placeholder for future code\n",
    "\n",
    "# Empty functions return None\n",
    "result = placeholderFunction()\n",
    "print('Result of calling empty function:', result)  # This will print 'None'\n",
    "\n",
    "# Understanding Global versus Local Variables\n",
    "# Global variable\n",
    "string1 = \"I am a global variable\" \n",
    "print('Outside function (String1):', string1)\n",
    "string2 = \"I am another global variable\"\n",
    "print('Outside function (String2):', string2)\n",
    "def localFunction():\n",
    "    string1 = \"I am a local variable\"\n",
    "    print('Inside function (String1):', string1)\n",
    "    print('Note how local variable String1 takes precedence over global variable String1')\n",
    "    print('Inside function (String2):', string2)\n",
    "    print('Note how global variable String2 is accessible inside the function')\n",
    "\n",
    "localFunction()\n",
    "\n",
    "# Modifying Global Variables inside a function\n",
    "print('Global Variables passed in will be copied to local variables')\n",
    "print('Modifying the local variable will not modify the global variable')\n",
    "\n",
    "unmodifiedString1 = \"I am unmodified\"\n",
    "print('Before function call (old unmodifiedString1):', unmodifiedString1)\n",
    "def modifyGlobalFunction(string):\n",
    "    string = \"I am modified\"\n",
    "    return string\n",
    "modifiedString1 = modifyGlobalFunction(unmodifiedString1)\n",
    "print('After function call (new modifiedString1):', modifiedString1)\n",
    "\n",
    "unmodifiedString2 = \"I am a partial string\"\n",
    "print('Before function call (old unmodifiedString2):', unmodifiedString2)\n",
    "def modifyGlobalFunction2(string):\n",
    "    string += ' that is now complete'\n",
    "    return string\n",
    "modifiedString2 = modifyGlobalFunction2(unmodifiedString2)\n",
    "print('After function call (new modifiedString2):', modifiedString2)"
   ]
  },
  {
   "cell_type": "markdown",
   "id": "ca6ee73b",
   "metadata": {},
   "source": [
    "## Module 3 Project 4 ~ Exception Handling"
   ]
  },
  {
   "cell_type": "code",
   "execution_count": null,
   "id": "9f2c02b2",
   "metadata": {},
   "outputs": [
    {
     "name": "stdout",
     "output_type": "stream",
     "text": [
      "Execution of divideNumbers function is complete.\n",
      "Dividing 10 by 2: The result is 5.0\n",
      "Execution of divideNumbers function is complete.\n",
      "Dividing 5 by 0: Error: Division by zero is not allowed.\n",
      "Execution of divideNumbers function is complete.\n",
      "Dividing 8 by a: Error: Please provide numbers only.\n",
      "my_list: [1, 2, 3]\n",
      "attempted index 5 will cause IndexError\n",
      "Error: Index out of range.\n",
      "my_dict: {'a': 1, 'b': 2}\n",
      "attempted key c will cause KeyError\n",
      "Error: Key not found.\n",
      "attempted type cast of value abc  to int will cause ValueError\n",
      "Error: Invalid literal for int().\n",
      "my_int: 123\n",
      "attempted method call my_int.upper() will cause AttributeError\n",
      "Error: 'int' object has no attribute 'upper()'.\n",
      "Some other common errors include:\n",
      "- SyntaxError: Occurs when there is a syntax mistake in the code.\n",
      "- IndentationError: Occurs when the indentation is not consistent.\n",
      "- ImportError: Occurs when an import statement fails to find the module definition.\n",
      "- FileNotFoundError: Occurs when trying to access a file that does not exist.\n"
     ]
    }
   ],
   "source": [
    "# Try Except Example\n",
    "def divideNumbers(num1, num2):\n",
    "    try:\n",
    "        result = num1 / num2\n",
    "    except ZeroDivisionError:\n",
    "        return \"Error: Division by zero is not allowed.\"\n",
    "    except TypeError:\n",
    "        return \"Error: Please provide numbers only.\"\n",
    "    else:\n",
    "        return f\"The result is {result}\"\n",
    "    finally:\n",
    "        print(\"Execution of divideNumbers function is complete.\")\n",
    "\n",
    "# Test the function with different inputs\n",
    "test_cases = [(10, 2), (5, 0), (8, 'a')]\n",
    "for num1, num2 in test_cases:\n",
    "    print(f\"Dividing {num1} by {num2}: {divideNumbers(num1, num2)}\")\n",
    "\n"
   ]
  },
  {
   "cell_type": "code",
   "execution_count": 46,
   "id": "3a11715b",
   "metadata": {},
   "outputs": [
    {
     "name": "stdout",
     "output_type": "stream",
     "text": [
      "my_list: [1, 2, 3]\n",
      "attempted index 5 will cause IndexError\n",
      "Error: Index out of range.\n",
      "my_dict: {'a': 1, 'b': 2}\n",
      "attempted key c will cause KeyError\n",
      "Error: Key not found.\n",
      "attempted type cast of value abc  to int will cause ValueError\n",
      "Error: Invalid literal for int().\n",
      "my_int: 123\n",
      "attempted method call my_int.upper() will cause AttributeError\n",
      "Error: 'int' object has no attribute 'upper()'.\n",
      "Some other common errors include:\n",
      "- SyntaxError: Occurs when there is a syntax mistake in the code.\n",
      "- IndentationError: Occurs when the indentation is not consistent.\n",
      "- ImportError: Occurs when an import statement fails to find the module definition.\n",
      "- FileNotFoundError: Occurs when trying to access a file that does not exist.\n"
     ]
    }
   ],
   "source": [
    "# Other Common Error Types\n",
    "# Index Error\n",
    "my_list = [1, 2, 3]\n",
    "index = 5  # This index is out of range\n",
    "print('my_list:', my_list)\n",
    "print('attempted index', index, 'will cause IndexError')\n",
    "try:\n",
    "    print(my_list[index])\n",
    "except IndexError:\n",
    "    print(\"Error: Index out of range.\") \n",
    "\n",
    "# Key Error\n",
    "my_dict = {'a': 1, 'b': 2}\n",
    "key = 'c'  # This key does not exist\n",
    "print('my_dict:', my_dict)\n",
    "print('attempted key', key, 'will cause KeyError')\n",
    "try:\n",
    "    print(my_dict[key])\n",
    "except KeyError:\n",
    "    print(\"Error: Key not found.\")\n",
    "\n",
    "# Value Error\n",
    "value = \"abc\"  # This cannot be converted to an integer\n",
    "print('attempted type cast of value', value, ' to int will cause ValueError')\n",
    "try:\n",
    "    print(int(value))\n",
    "except ValueError:\n",
    "    print(\"Error: Invalid literal for int().\")\n",
    "\n",
    "# Attribute Error\n",
    "my_int = 123\n",
    "print('my_int:', my_int)\n",
    "print('attempted method call my_int.upper() will cause AttributeError')\n",
    "try:\n",
    "    print(my_int.upper())\n",
    "except AttributeError:\n",
    "    print(\"Error: 'int' object has no attribute 'upper()'.\")\n",
    "\n",
    "# Some other Common Errors listed\n",
    "print('Some other common errors include:')\n",
    "print('- SyntaxError: Occurs when there is a syntax mistake in the code.')\n",
    "print('- IndentationError: Occurs when the indentation is not consistent.')\n",
    "print('- ImportError: Occurs when an import statement fails to find the module definition.')\n",
    "print('- FileNotFoundError: Occurs when trying to access a file that does not exist.')"
   ]
  },
  {
   "cell_type": "code",
   "execution_count": 47,
   "id": "a73e55a3",
   "metadata": {},
   "outputs": [
    {
     "name": "stdout",
     "output_type": "stream",
     "text": [
      "Syntax for try-except block:\n",
      "try:\n",
      "    # code that may raise an exception\n",
      "except ExceptionType:\n",
      "    # code to handle the exception\n",
      "else:\n",
      "    # code to execute if no exception occurs\n",
      "finally:\n",
      "    # code that will run no matter what, even if an exception occurs\n"
     ]
    }
   ],
   "source": [
    "# Syntax for try-except block\n",
    "print('Syntax for try-except block:')\n",
    "print('try:')\n",
    "print('    # code that may raise an exception')\n",
    "print('except ExceptionType:')\n",
    "print('    # code to handle the exception')\n",
    "print('else:')\n",
    "print('    # code to execute if no exception occurs')\n",
    "print('finally:')\n",
    "print('    # code that will run no matter what, even if an exception occurs')"
   ]
  },
  {
   "cell_type": "code",
   "execution_count": 50,
   "id": "a22e6fe9",
   "metadata": {},
   "outputs": [
    {
     "name": "stdout",
     "output_type": "stream",
     "text": [
      "Dividing 10 by 2: The result is 5.0\n",
      "Dividing 5 by 0: Error: division by zero\n",
      "Dividing 8 by a: Error: unsupported operand type(s) for /: 'int' and 'str'\n"
     ]
    }
   ],
   "source": [
    "# try except statement with multiple exception types\n",
    "def divideNumbers(num1, num2):\n",
    "    try:\n",
    "        result = num1 / num2\n",
    "    except (ZeroDivisionError, TypeError) as e:\n",
    "        return f\"Error: {str(e)}\"\n",
    "    except Exception:\n",
    "        return \"An unexpected error occurred.\"\n",
    "        # Catch any other exception\n",
    "        # this is a catch-all and should be used sparingly\n",
    "    else:\n",
    "        return f\"The result is {result}\"\n",
    "\n",
    "# Test the function with different inputs\n",
    "test_cases = [(10, 2), (5, 0), (8, 'a')]\n",
    "for num1, num2 in test_cases:\n",
    "    print(f\"Dividing {num1} by {num2}: {divideNumbers(num1, num2)}\")\n",
    "\n"
   ]
  },
  {
   "cell_type": "markdown",
   "id": "fd8dccc3",
   "metadata": {},
   "source": [
    "## Module 3 Project 5 ~ Objects and Classes"
   ]
  },
  {
   "cell_type": "code",
   "execution_count": 65,
   "id": "82425919",
   "metadata": {},
   "outputs": [
    {
     "name": "stdout",
     "output_type": "stream",
     "text": [
      "Invalid color: blank, setting to gray\n",
      "Circle with radius 5 and color gray\n"
     ]
    },
    {
     "data": {
      "image/png": "[encoded data removed]",
      "text/plain": [
       "<Figure size 640x480 with 1 Axes>"
      ]
     },
     "metadata": {},
     "output_type": "display_data"
    }
   ],
   "source": [
    "import matplotlib.pyplot as plt\n",
    "import matplotlib.patches as patches\n",
    "\n",
    "class Circle(object):\n",
    "    # class variable\n",
    "    pi = 3.14159\n",
    "\n",
    "    def __init__(self, radius, color):\n",
    "        self.radius = radius  # instance variable\n",
    "        try :\n",
    "            # validate color\n",
    "            if patches.colors.to_rgb(color):\n",
    "                self.color = color    # instance variable\n",
    "            else:\n",
    "                print(f\"Invalid color: {color}, setting to gray\")\n",
    "                self.color = 'gray'    # instance variable\n",
    "        except:\n",
    "            print(f\"Invalid color: {color}, setting to gray\")\n",
    "            self.color = 'gray'    # instance variable\n",
    "\n",
    "    def area(self):\n",
    "        return Circle.pi * (self.radius ** 2)\n",
    "\n",
    "    def circumference(self):\n",
    "        return 2 * Circle.pi * self.radius\n",
    "    \n",
    "    def changeRadius(self, new_radius):\n",
    "        self.radius = new_radius\n",
    "\n",
    "    def changeColor(self, new_color):\n",
    "        self.color = new_color\n",
    "\n",
    "    def plotCircle(self):\n",
    "        print(f\"Circle with radius {self.radius} and color {self.color}\")\n",
    "        fig, ax = plt.subplots()\n",
    "        center_x, center_y = (self.radius, self.radius)\n",
    "        circle = patches.Circle((center_x, center_y), self.radius, color=self.color, alpha=0.5)\n",
    "        ax.add_patch(circle)\n",
    "        ax.set_xlim(-0.1*self.radius, 2.1*self.radius)\n",
    "        ax.set_ylim(-0.1*self.radius, 2.1*self.radius)\n",
    "        plt.gca().set_aspect('equal', adjustable='box')\n",
    "        plt.show()\n",
    "\n",
    "# Create an instance of Circle\n",
    "my_circle = Circle(5, 'blank')\n",
    "my_circle.plotCircle()"
   ]
  },
  {
   "cell_type": "code",
   "execution_count": 67,
   "id": "47f97c50",
   "metadata": {},
   "outputs": [
    {
     "name": "stdout",
     "output_type": "stream",
     "text": [
      "\n",
      "Driving on the road: Main St\n",
      "Speed Limit is  60\n",
      "Accelerated by 60 mph. New speed: 60 mph\n",
      "Police Present:  False\n",
      "Accelerated by 20 mph. New speed: 80 mph\n",
      "Police Present:  True\n",
      "Warning: Over speed limit of 60 mph!\n",
      "High likelihood of getting a speeding ticket.\n"
     ]
    },
    {
     "data": {
      "text/plain": [
       "True"
      ]
     },
     "execution_count": 67,
     "metadata": {},
     "output_type": "execute_result"
    }
   ],
   "source": [
    "class Car(object):\n",
    "    def __init__(self, make, model, year, color, speed=0):\n",
    "        self.make = make\n",
    "        self.model = model\n",
    "        self.color = color\n",
    "        self.speed = speed\n",
    "        self.year = year\n",
    "        self.max_speed = 150  # assuming a max speed for the car\n",
    "\n",
    "    def set_custom_max_speed(self, max_speed):\n",
    "        self.max_speed = max_speed\n",
    "\n",
    "    def display_info(self):\n",
    "        print(f\"Car Characteristics: {self.year} {self.make} {self.model} {self.color}\")\n",
    "\n",
    "    def accelerate(self, increase):\n",
    "        self.speed += increase\n",
    "        print(f\"Accelerated by {increase} mph. New speed: {self.speed} mph\")\n",
    "\n",
    "    def brake(self, decrease):\n",
    "        self.speed = max(0, self.speed - decrease)\n",
    "        print(f\"Decelerated by {decrease} mph. New speed: {self.speed} mph\")\n",
    "\n",
    "    def honk(self):\n",
    "        print(\"Beep beep!\")\n",
    "\n",
    "    def current_speed(self):\n",
    "        print(f\"Current speed: {self.speed} mph\")\n",
    "        return self.speed\n",
    "\n",
    "    def am_I_over_speed_limit(self, road_speed_limit):\n",
    "        if self.speed > road_speed_limit:\n",
    "            print(f\"Warning: Over speed limit of {road_speed_limit} mph!\")\n",
    "            return True\n",
    "        else:\n",
    "            print(f\"Within speed limit of {road_speed_limit} mph.\")\n",
    "            return False\n",
    "        \n",
    "    def predictTicket(self, road_speed_limit):\n",
    "        if self.speed > road_speed_limit + 10:\n",
    "            print(\"High likelihood of getting a speeding ticket.\")\n",
    "            return True\n",
    "        elif self.speed > road_speed_limit:\n",
    "            print(\"Possible chance of getting a speeding ticket.\")\n",
    "            return False\n",
    "        else:\n",
    "            print(\"No chance of getting a speeding ticket.\")\n",
    "            return False\n",
    "        \n",
    "class Road(object):\n",
    "    def __init__(self, name, speed_limit):\n",
    "        self.name = name\n",
    "        self.lanes = 2  # default number of lanes\n",
    "        self.speed_limit = speed_limit\n",
    "        self.police_present = False\n",
    "\n",
    "    def display_info(self):\n",
    "        print(f\"Road Name: {self.name}, Speed Limit: {self.speed_limit} mph\")\n",
    "\n",
    "# Create an instance of Car\n",
    "my_car = Car(\"Toyota\", \"Camry\", 2020, \"Blue\")\n",
    "# Turn onto Road\n",
    "my_road = Road(\"Main St\", 60)\n",
    "print(\"\\nDriving on the road:\", my_road.name)\n",
    "print(\"Speed Limit is \", my_road.speed_limit)\n",
    "my_car.accelerate(60)\n",
    "print('Police Present: ', my_road.police_present)\n",
    "my_car.accelerate(20)\n",
    "my_road.police_present = True\n",
    "print('Police Present: ', my_road.police_present)\n",
    "my_car.am_I_over_speed_limit(my_road.speed_limit)\n",
    "my_car.predictTicket(my_road.speed_limit)"
   ]
  },
  {
   "cell_type": "code",
   "execution_count": 73,
   "id": "377d24da",
   "metadata": {},
   "outputs": [
    {
     "name": "stdout",
     "output_type": "stream",
     "text": [
      "Delership Inventory:\n",
      "\t 2025 Blue Honda Accord EX\n",
      "\t 2017 Silver Kia Forte5 LX\n",
      "Delership Inventory:\n",
      "\t 2025 Blue Honda Accord EX\n"
     ]
    }
   ],
   "source": [
    "# Car Inventory System with Classes\n",
    "class DealershipInventory(object):\n",
    "    def __init__(self):\n",
    "        self.rawInventory = {}\n",
    "    \n",
    "    def add_car(self, car):\n",
    "        self.rawInventory[car.VIN] = car\n",
    "\n",
    "    def remove_car(self, car):\n",
    "        del(self.rawInventory[car.VIN])\n",
    "\n",
    "    def show_inventory(self):\n",
    "        print('Delership Inventory:')\n",
    "        for car in self.rawInventory.values():\n",
    "            print('\\t', car.year, car.color ,car.make, car.model, car.trim)\n",
    "    \n",
    "class Car(object):\n",
    "    def __init__(self, make, model, year, VIN, color, trim):\n",
    "        self.make = make\n",
    "        self.model = model\n",
    "        self.year = year\n",
    "        self.color = color\n",
    "        self.VIN = VIN\n",
    "        self.trim = trim\n",
    "\n",
    "    def paint(self, color):\n",
    "        self.color = color\n",
    "\n",
    "\n",
    "# Test Inventory System\n",
    "car1 = Car(\n",
    "    'Honda', 'Accord', 2025, 'VIN12345678ABCDEFG', 'Blue', 'EX'\n",
    ")\n",
    "car2 = Car(\n",
    "    'Kia', 'Forte5', 2017, 'VIN987654321GFEDCBA', 'Silver', 'LX' \n",
    ")\n",
    "\n",
    "dealership1 = DealershipInventory()\n",
    "dealership1.add_car(car1)\n",
    "dealership1.add_car(car2)\n",
    "dealership1.show_inventory()\n",
    "dealership1.remove_car(car2)\n",
    "dealership1.show_inventory()"
   ]
  },
  {
   "cell_type": "markdown",
   "id": "777bc4ee",
   "metadata": {},
   "source": [
    "## Module 3 Project 6 ~ Test Analysis "
   ]
  },
  {
   "cell_type": "code",
   "execution_count": 83,
   "id": "310174ef",
   "metadata": {},
   "outputs": [
    {
     "name": "stdout",
     "output_type": "stream",
     "text": [
      "Lorem ipsum dolor! diam amet, consetetur Lorem magna. sed diam nonumy eirmod tempor. diam et labore? et diam magna. et diam amet.\n",
      "lorem ipsum dolor diam amet consetetur lorem magna sed diam nonumy eirmod tempor diam et labore et diam magna et diam amet\n",
      "Word: tempor ~ Count: 1\n",
      "Word: ipsum ~ Count: 1\n",
      "Word: magna ~ Count: 2\n",
      "Word: dolor ~ Count: 1\n",
      "Word: diam ~ Count: 5\n",
      "Word: consetetur ~ Count: 1\n",
      "Word: labore ~ Count: 1\n",
      "Word: et ~ Count: 3\n",
      "Word: lorem ~ Count: 2\n",
      "Word: sed ~ Count: 1\n",
      "Word: eirmod ~ Count: 1\n",
      "Word: nonumy ~ Count: 1\n",
      "Word: amet ~ Count: 2\n",
      "# of diam: 5\n",
      "# of DIAM: 5\n",
      "# of carpe: 0\n"
     ]
    }
   ],
   "source": [
    "#Press Shift+Enter to run the code\n",
    "givenstring=\"Lorem ipsum dolor! diam amet, consetetur Lorem magna. sed diam nonumy eirmod tempor. diam et labore? et diam magna. et diam amet.\"\n",
    "\n",
    "class TextAnalyzer(object):\n",
    "    def __init__(self, rawString):\n",
    "        self.rawString = rawString\n",
    "        self.sanitizedString = ''\n",
    "        self.sanitizeData()\n",
    "        self.wordCounts = {}\n",
    "        self.freqAll()\n",
    "\n",
    "    def sanitizeData(self):\n",
    "        string = self.rawString.lower()\n",
    "        punctuationString = ',.!?\\'\\\":;\\\\/'\n",
    "        for char in punctuationString:\n",
    "            string = string.replace(char, '')\n",
    "        self.sanitizedString += string\n",
    "\n",
    "    def freqAll(self):\n",
    "        words = self.sanitizedString.split(' ')\n",
    "        if ' ' in words:\n",
    "            words.remove(' ')\n",
    "        keysTemplate = set(words)\n",
    "        for key in keysTemplate:\n",
    "            self.wordCounts[key] = words.count(key)\n",
    "\n",
    "    def freqOf(self, word):\n",
    "        word = word.lower()\n",
    "        if word in self.wordCounts:\n",
    "            return self.wordCounts[word]\n",
    "        else:\n",
    "            return 0\n",
    "\n",
    "# test\n",
    "analyzer1 = TextAnalyzer(givenstring)\n",
    "print(analyzer1.rawString)\n",
    "print(analyzer1.sanitizedString)\n",
    "for key in analyzer1.wordCounts:\n",
    "    print('Word:', key, '~ Count:', analyzer1.wordCounts[key])\n",
    "print('# of diam:', analyzer1.freqOf('diam'))\n",
    "print('# of DIAM:', analyzer1.freqOf('DIAM'))\n",
    "print('# of carpe:', analyzer1.freqOf('carpe'))"
   ]
  },
  {
   "cell_type": "code",
   "execution_count": null,
   "id": "d0cd2ee7",
   "metadata": {},
   "outputs": [],
   "source": []
  }
 ],
 "metadata": {
  "kernelspec": {
   "display_name": "Python 3",
   "language": "python",
   "name": "python3"
  },
  "language_info": {
   "codemirror_mode": {
    "name": "ipython",
    "version": 3
   },
   "file_extension": ".py",
   "mimetype": "text/x-python",
   "name": "python",
   "nbconvert_exporter": "python",
   "pygments_lexer": "ipython3",
   "version": "3.9.1"
  }
 },
 "nbformat": 4,
 "nbformat_minor": 5
}

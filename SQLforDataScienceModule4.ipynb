{
 "cells": [
  {
   "cell_type": "markdown",
   "id": "ec3ad428",
   "metadata": {},
   "source": [
    "# SQL for Data Science"
   ]
  },
  {
   "cell_type": "markdown",
   "id": "41fa7ffb",
   "metadata": {},
   "source": [
    "## Module 4 Project 1 ~ Connecting to SQLite DB"
   ]
  },
  {
   "cell_type": "code",
   "execution_count": null,
   "id": "be40a7c9",
   "metadata": {},
   "outputs": [],
   "source": [
    "### CONNECT TO DATABASE\n",
    "\n",
    "import sqlite3\n",
    "\n",
    "db_path = r'C:\\\\Users\\\\Justin King\\AppData\\\\Roaming\\\\DBeaverData\\\\workspace6\\\\.metadata\\\\databases\\\\db_sandbox.db'\n",
    "\n",
    "connection = sqlite3.connect(db_path)\n",
    "\n",
    "cursor_obj = connection.cursor()"
   ]
  },
  {
   "cell_type": "code",
   "execution_count": 12,
   "id": "55ed0de9",
   "metadata": {},
   "outputs": [
    {
     "data": {
      "text/plain": [
       "<sqlite3.Cursor at 0x1fa2bb27c00>"
      ]
     },
     "execution_count": 12,
     "metadata": {},
     "output_type": "execute_result"
    }
   ],
   "source": [
    "# Drop the table if already exists.\n",
    "cursor_obj.execute(\"DROP TABLE IF EXISTS instructors\")\n",
    "\n"
   ]
  },
  {
   "cell_type": "code",
   "execution_count": 13,
   "id": "52ed2db5",
   "metadata": {},
   "outputs": [
    {
     "name": "stdout",
     "output_type": "stream",
     "text": [
      "Table is Ready\n"
     ]
    }
   ],
   "source": [
    "# Creating table\n",
    "table = \"\"\" create table IF NOT EXISTS INSTRUCTOR(ID INTEGER PRIMARY KEY NOT NULL, FNAME VARCHAR(20), LNAME VARCHAR(20), CITY VARCHAR(20), CCODE CHAR(2));\"\"\"\n",
    " \n",
    "cursor_obj.execute(table)\n",
    " \n",
    "print(\"Table is Ready\")"
   ]
  },
  {
   "cell_type": "code",
   "execution_count": null,
   "id": "221d7430",
   "metadata": {},
   "outputs": [
    {
     "data": {
      "text/plain": [
       "<sqlite3.Cursor at 0x1fa2bb27c00>"
      ]
     },
     "execution_count": 16,
     "metadata": {},
     "output_type": "execute_result"
    }
   ],
   "source": [
    "cursor_obj.execute('''insert into INSTRUCTOR values (1, 'Rav', 'Ahuja', 'TORONTO', 'CA')''')\n",
    "cursor_obj.execute('''insert into INSTRUCTOR values (2, 'Raul', 'Chong', 'Markham', 'CA'), (3, 'Hima', 'Vasudevan', 'Chicago', 'US')''')"
   ]
  },
  {
   "cell_type": "code",
   "execution_count": 21,
   "id": "fd18ad48",
   "metadata": {},
   "outputs": [
    {
     "name": "stdout",
     "output_type": "stream",
     "text": [
      "All the data\n",
      "(1, 'Rav', 'Ahuja', 'MOOSETOWN', 'CA')\n",
      "(2, 'Raul', 'Chong', 'Markham', 'CA')\n",
      "(3, 'Hima', 'Vasudevan', 'Chicago', 'US')\n"
     ]
    }
   ],
   "source": [
    "statement = '''SELECT * FROM INSTRUCTOR'''\n",
    "cursor_obj.execute(statement)\n",
    "\n",
    "print(\"All the data\")\n",
    "output_all = cursor_obj.fetchall()\n",
    "for row_all in output_all:\n",
    "  print(row_all)"
   ]
  },
  {
   "cell_type": "code",
   "execution_count": 18,
   "id": "2960319c",
   "metadata": {},
   "outputs": [
    {
     "name": "stdout",
     "output_type": "stream",
     "text": [
      "All the data\n",
      "(1, 'Rav', 'Ahuja', 'TORONTO', 'CA')\n",
      "(2, 'Raul', 'Chong', 'Markham', 'CA')\n"
     ]
    }
   ],
   "source": [
    "## Fetch few rows from the table\n",
    "statement = '''SELECT * FROM INSTRUCTOR'''\n",
    "cursor_obj.execute(statement)\n",
    "  \n",
    "print(\"All the data\")\n",
    "# If you want to fetch few rows from the table we use fetchmany(numberofrows) and mention the number how many rows you want to fetch\n",
    "output_many = cursor_obj.fetchmany(2) \n",
    "for row_many in output_many:\n",
    "  print(row_many)"
   ]
  },
  {
   "cell_type": "code",
   "execution_count": 19,
   "id": "33ee5f90",
   "metadata": {},
   "outputs": [
    {
     "name": "stdout",
     "output_type": "stream",
     "text": [
      "All the data\n",
      "('Rav',)\n",
      "('Raul',)\n",
      "('Hima',)\n"
     ]
    }
   ],
   "source": [
    "# Fetch only FNAME from the table\n",
    "statement = '''SELECT FNAME FROM INSTRUCTOR'''\n",
    "cursor_obj.execute(statement)\n",
    "  \n",
    "print(\"All the data\")\n",
    "output_column = cursor_obj.fetchall()\n",
    "for fetch in output_column:\n",
    "  print(fetch)"
   ]
  },
  {
   "cell_type": "code",
   "execution_count": 20,
   "id": "ab12981f",
   "metadata": {},
   "outputs": [
    {
     "data": {
      "text/plain": [
       "<sqlite3.Cursor at 0x1fa2bb27c00>"
      ]
     },
     "execution_count": 20,
     "metadata": {},
     "output_type": "execute_result"
    }
   ],
   "source": [
    "query_update='''update INSTRUCTOR set CITY='MOOSETOWN' where FNAME=\"Rav\"'''\n",
    "cursor_obj.execute(query_update)"
   ]
  },
  {
   "cell_type": "code",
   "execution_count": 24,
   "id": "b2399549",
   "metadata": {},
   "outputs": [
    {
     "name": "stdout",
     "output_type": "stream",
     "text": [
      "   ID FNAME      LNAME       CITY CCODE\n",
      "0   1   Rav      Ahuja  MOOSETOWN    CA\n",
      "1   2  Raul      Chong    Markham    CA\n",
      "2   3  Hima  Vasudevan    Chicago    US\n",
      "Ahuja\n",
      "(3, 5)\n"
     ]
    }
   ],
   "source": [
    "import pandas as pd\n",
    "#retrieve the query results into a pandas dataframe\n",
    "df = pd.read_sql_query(\"select * from instructor;\", connection)\n",
    "\n",
    "#print the dataframe\n",
    "print(df)\n",
    "print(df.LNAME[0])\n",
    "print(df.shape)"
   ]
  },
  {
   "cell_type": "code",
   "execution_count": 25,
   "id": "e2afc508",
   "metadata": {},
   "outputs": [],
   "source": [
    "connection.close()"
   ]
  },
  {
   "cell_type": "markdown",
   "id": "e18eff06",
   "metadata": {},
   "source": [
    "## Module 4 Project 2 ~ SQL Magic"
   ]
  },
  {
   "cell_type": "code",
   "execution_count": 2,
   "id": "c7aa3a59",
   "metadata": {},
   "outputs": [],
   "source": [
    "# LOAD SQL Magic\n",
    "%load_ext sql"
   ]
  },
  {
   "cell_type": "code",
   "execution_count": null,
   "id": "754f7313",
   "metadata": {},
   "outputs": [
    {
     "name": "stdout",
     "output_type": "stream",
     "text": [
      "C:\\Users\\Justin King\\AppData\\Roaming\\DBeaverData\\workspace6\\.metadata\\databases\n",
      " Volume in drive C is OS\n",
      " Volume Serial Number is C474-14A7\n",
      "\n",
      " Directory of C:\\Users\\Justin King\\AppData\\Roaming\\DBeaverData\\workspace6\\.metadata\\databases\n",
      "\n",
      "10/06/2025  09:56 PM    <DIR>          .\n",
      "10/05/2025  10:56 PM    <DIR>          ..\n",
      "10/06/2025  09:56 PM            12,288 db_sandbox.db\n",
      "               1 File(s)         12,288 bytes\n",
      "               2 Dir(s)  74,018,467,840 bytes free\n"
     ]
    }
   ],
   "source": [
    "%cd C:\\Users\\Justin King\\AppData\\Roaming\\DBeaverData\\workspace6\\.metadata\\databases\n",
    "%ls\n",
    "%sql sqlite:///db_sandbox.db\n"
   ]
  },
  {
   "cell_type": "code",
   "execution_count": 13,
   "id": "ec675203",
   "metadata": {},
   "outputs": [
    {
     "name": "stdout",
     "output_type": "stream",
     "text": [
      " * sqlite:///db_sandbox.db\n",
      "Done.\n"
     ]
    },
    {
     "ename": "KeyError",
     "evalue": "'DEFAULT'",
     "output_type": "error",
     "traceback": [
      "\u001b[1;31m---------------------------------------------------------------------------\u001b[0m",
      "\u001b[1;31mKeyError\u001b[0m                                  Traceback (most recent call last)",
      "Cell \u001b[1;32mIn[13], line 1\u001b[0m\n\u001b[1;32m----> 1\u001b[0m \u001b[43mget_ipython\u001b[49m\u001b[43m(\u001b[49m\u001b[43m)\u001b[49m\u001b[38;5;241;43m.\u001b[39;49m\u001b[43mrun_line_magic\u001b[49m\u001b[43m(\u001b[49m\u001b[38;5;124;43m'\u001b[39;49m\u001b[38;5;124;43msql\u001b[39;49m\u001b[38;5;124;43m'\u001b[39;49m\u001b[43m,\u001b[49m\u001b[43m \u001b[49m\u001b[38;5;124;43m'\u001b[39;49m\u001b[38;5;124;43mSELECT firstname from instructors\u001b[39;49m\u001b[38;5;124;43m'\u001b[39;49m\u001b[43m)\u001b[49m\n",
      "File \u001b[1;32m~\\AppData\\Roaming\\Python\\Python39\\site-packages\\IPython\\core\\interactiveshell.py:2456\u001b[0m, in \u001b[0;36mInteractiveShell.run_line_magic\u001b[1;34m(self, magic_name, line, _stack_depth)\u001b[0m\n\u001b[0;32m   2454\u001b[0m     kwargs[\u001b[38;5;124m'\u001b[39m\u001b[38;5;124mlocal_ns\u001b[39m\u001b[38;5;124m'\u001b[39m] \u001b[38;5;241m=\u001b[39m \u001b[38;5;28mself\u001b[39m\u001b[38;5;241m.\u001b[39mget_local_scope(stack_depth)\n\u001b[0;32m   2455\u001b[0m \u001b[38;5;28;01mwith\u001b[39;00m \u001b[38;5;28mself\u001b[39m\u001b[38;5;241m.\u001b[39mbuiltin_trap:\n\u001b[1;32m-> 2456\u001b[0m     result \u001b[38;5;241m=\u001b[39m fn(\u001b[38;5;241m*\u001b[39margs, \u001b[38;5;241m*\u001b[39m\u001b[38;5;241m*\u001b[39mkwargs)\n\u001b[0;32m   2458\u001b[0m \u001b[38;5;66;03m# The code below prevents the output from being displayed\u001b[39;00m\n\u001b[0;32m   2459\u001b[0m \u001b[38;5;66;03m# when using magics with decorator @output_can_be_silenced\u001b[39;00m\n\u001b[0;32m   2460\u001b[0m \u001b[38;5;66;03m# when the last Python token in the expression is a ';'.\u001b[39;00m\n\u001b[0;32m   2461\u001b[0m \u001b[38;5;28;01mif\u001b[39;00m \u001b[38;5;28mgetattr\u001b[39m(fn, magic\u001b[38;5;241m.\u001b[39mMAGIC_OUTPUT_CAN_BE_SILENCED, \u001b[38;5;28;01mFalse\u001b[39;00m):\n",
      "File \u001b[1;32mc:\\Users\\Justin King\\AppData\\Local\\Programs\\Python\\Python39\\lib\\site-packages\\sql\\magic.py:219\u001b[0m, in \u001b[0;36mSqlMagic.execute\u001b[1;34m(self, line, cell, local_ns)\u001b[0m\n\u001b[0;32m    216\u001b[0m     \u001b[38;5;28;01mreturn\u001b[39;00m\n\u001b[0;32m    218\u001b[0m \u001b[38;5;28;01mtry\u001b[39;00m:\n\u001b[1;32m--> 219\u001b[0m     result \u001b[38;5;241m=\u001b[39m \u001b[43msql\u001b[49m\u001b[38;5;241;43m.\u001b[39;49m\u001b[43mrun\u001b[49m\u001b[38;5;241;43m.\u001b[39;49m\u001b[43mrun\u001b[49m\u001b[43m(\u001b[49m\u001b[43mconn\u001b[49m\u001b[43m,\u001b[49m\u001b[43m \u001b[49m\u001b[43mparsed\u001b[49m\u001b[43m[\u001b[49m\u001b[38;5;124;43m\"\u001b[39;49m\u001b[38;5;124;43msql\u001b[39;49m\u001b[38;5;124;43m\"\u001b[39;49m\u001b[43m]\u001b[49m\u001b[43m,\u001b[49m\u001b[43m \u001b[49m\u001b[38;5;28;43mself\u001b[39;49m\u001b[43m,\u001b[49m\u001b[43m \u001b[49m\u001b[43muser_ns\u001b[49m\u001b[43m)\u001b[49m\n\u001b[0;32m    221\u001b[0m     \u001b[38;5;28;01mif\u001b[39;00m (\n\u001b[0;32m    222\u001b[0m         result \u001b[38;5;129;01mis\u001b[39;00m \u001b[38;5;129;01mnot\u001b[39;00m \u001b[38;5;28;01mNone\u001b[39;00m\n\u001b[0;32m    223\u001b[0m         \u001b[38;5;129;01mand\u001b[39;00m \u001b[38;5;129;01mnot\u001b[39;00m \u001b[38;5;28misinstance\u001b[39m(result, \u001b[38;5;28mstr\u001b[39m)\n\u001b[1;32m   (...)\u001b[0m\n\u001b[0;32m    226\u001b[0m         \u001b[38;5;66;03m# Instead of returning values, set variables directly in the\u001b[39;00m\n\u001b[0;32m    227\u001b[0m         \u001b[38;5;66;03m# user's namespace. Variable names given by column names\u001b[39;00m\n\u001b[0;32m    229\u001b[0m         \u001b[38;5;28;01mif\u001b[39;00m \u001b[38;5;28mself\u001b[39m\u001b[38;5;241m.\u001b[39mautopandas:\n",
      "File \u001b[1;32mc:\\Users\\Justin King\\AppData\\Local\\Programs\\Python\\Python39\\lib\\site-packages\\sql\\run.py:374\u001b[0m, in \u001b[0;36mrun\u001b[1;34m(conn, sql, config, user_namespace)\u001b[0m\n\u001b[0;32m    372\u001b[0m     \u001b[38;5;28;01mif\u001b[39;00m result \u001b[38;5;129;01mand\u001b[39;00m config\u001b[38;5;241m.\u001b[39mfeedback:\n\u001b[0;32m    373\u001b[0m         \u001b[38;5;28mprint\u001b[39m(interpret_rowcount(result\u001b[38;5;241m.\u001b[39mrowcount))\n\u001b[1;32m--> 374\u001b[0m resultset \u001b[38;5;241m=\u001b[39m \u001b[43mResultSet\u001b[49m\u001b[43m(\u001b[49m\u001b[43mresult\u001b[49m\u001b[43m,\u001b[49m\u001b[43m \u001b[49m\u001b[43mconfig\u001b[49m\u001b[43m)\u001b[49m\n\u001b[0;32m    375\u001b[0m \u001b[38;5;28;01mif\u001b[39;00m config\u001b[38;5;241m.\u001b[39mautopandas:\n\u001b[0;32m    376\u001b[0m     \u001b[38;5;28;01mreturn\u001b[39;00m resultset\u001b[38;5;241m.\u001b[39mDataFrame()\n",
      "File \u001b[1;32mc:\\Users\\Justin King\\AppData\\Local\\Programs\\Python\\Python39\\lib\\site-packages\\sql\\run.py:116\u001b[0m, in \u001b[0;36mResultSet.__init__\u001b[1;34m(self, sqlaproxy, config)\u001b[0m\n\u001b[0;32m    114\u001b[0m         \u001b[38;5;28mlist\u001b[39m\u001b[38;5;241m.\u001b[39m\u001b[38;5;21m__init__\u001b[39m(\u001b[38;5;28mself\u001b[39m, sqlaproxy\u001b[38;5;241m.\u001b[39mfetchall())\n\u001b[0;32m    115\u001b[0m     \u001b[38;5;28mself\u001b[39m\u001b[38;5;241m.\u001b[39mfield_names \u001b[38;5;241m=\u001b[39m unduplicate_field_names(\u001b[38;5;28mself\u001b[39m\u001b[38;5;241m.\u001b[39mkeys)\n\u001b[1;32m--> 116\u001b[0m     \u001b[38;5;28mself\u001b[39m\u001b[38;5;241m.\u001b[39mpretty \u001b[38;5;241m=\u001b[39m PrettyTable(\u001b[38;5;28mself\u001b[39m\u001b[38;5;241m.\u001b[39mfield_names, style\u001b[38;5;241m=\u001b[39m\u001b[43mprettytable\u001b[49m\u001b[38;5;241;43m.\u001b[39;49m\u001b[38;5;18;43m__dict__\u001b[39;49m\u001b[43m[\u001b[49m\u001b[43mconfig\u001b[49m\u001b[38;5;241;43m.\u001b[39;49m\u001b[43mstyle\u001b[49m\u001b[38;5;241;43m.\u001b[39;49m\u001b[43mupper\u001b[49m\u001b[43m(\u001b[49m\u001b[43m)\u001b[49m\u001b[43m]\u001b[49m)\n\u001b[0;32m    117\u001b[0m \u001b[38;5;28;01melse\u001b[39;00m:\n\u001b[0;32m    118\u001b[0m     \u001b[38;5;28mlist\u001b[39m\u001b[38;5;241m.\u001b[39m\u001b[38;5;21m__init__\u001b[39m(\u001b[38;5;28mself\u001b[39m, [])\n",
      "\u001b[1;31mKeyError\u001b[0m: 'DEFAULT'"
     ]
    }
   ],
   "source": [
    "%sql SELECT firstname from instructors\n"
   ]
  },
  {
   "cell_type": "markdown",
   "id": "794509a2",
   "metadata": {},
   "source": [
    "## Module 4 Project 3 ~ Analyzing a Real World Data Problem"
   ]
  },
  {
   "cell_type": "code",
   "execution_count": 26,
   "id": "c00d97df",
   "metadata": {},
   "outputs": [
    {
     "name": "stdout",
     "output_type": "stream",
     "text": [
      "(sqlite3.OperationalError) near \"socio\": syntax error\n",
      "[SQL: socio]\n",
      "(Background on this error at: https://sqlalche.me/e/20/e3q8)\n"
     ]
    }
   ],
   "source": [
    "import seaborn as sns\n",
    "import pandas as pd\n",
    "import sqlite3\n",
    "conn = sqlite3.connect('socioeconomic.db')\n",
    "%reload_ext sql\n",
    "%sql sqlite:///socioeconomic.db socio\n"
   ]
  },
  {
   "cell_type": "code",
   "execution_count": null,
   "id": "aa6c78d0",
   "metadata": {},
   "outputs": [
    {
     "name": "stdout",
     "output_type": "stream",
     "text": [
      " Volume in drive C is OS\n",
      " Volume Serial Number is C474-14A7\n",
      "\n",
      " Directory of C:\\Users\\Justin King\\AppData\\Roaming\\DBeaverData\\workspace6\\.metadata\\databases\n",
      "\n",
      "10/06/2025  10:22 PM    <DIR>          .\n",
      "10/05/2025  10:56 PM    <DIR>          ..\n",
      "10/06/2025  09:56 PM            12,288 db_sandbox.db\n",
      "10/06/2025  10:22 PM            16,384 socioeconomic.db\n",
      "               2 File(s)         28,672 bytes\n",
      "               2 Dir(s)  74,097,872,896 bytes free\n"
     ]
    }
   ],
   "source": [
    "\n",
    "df = pd.read_csv('https://data.cityofchicago.org/resource/jcxq-k9xf.csv')\n",
    "df.to_sql(\"chicago_socioeconomic_data\", conn, if_exists='replace', index=False,method=\"multi\")\n"
   ]
  },
  {
   "cell_type": "code",
   "execution_count": 17,
   "id": "c72f618e",
   "metadata": {},
   "outputs": [],
   "source": [
    "import prettytable\n",
    "prettytable.DEFAULT = 'DEFAULT'"
   ]
  },
  {
   "cell_type": "code",
   "execution_count": 28,
   "id": "dddcbb50",
   "metadata": {},
   "outputs": [
    {
     "name": "stdout",
     "output_type": "stream",
     "text": [
      "   sqlite:///db_sandbox.db\n",
      " * sqlite:///socioeconomic.db\n",
      "Done.\n"
     ]
    },
    {
     "data": {
      "text/html": [
       "<table>\n",
       "    <thead>\n",
       "        <tr>\n",
       "            <th>type</th>\n",
       "            <th>name</th>\n",
       "            <th>tbl_name</th>\n",
       "            <th>rootpage</th>\n",
       "            <th>sql</th>\n",
       "        </tr>\n",
       "    </thead>\n",
       "    <tbody>\n",
       "        <tr>\n",
       "            <td>table</td>\n",
       "            <td>chicago_socioeconomic_data</td>\n",
       "            <td>chicago_socioeconomic_data</td>\n",
       "            <td>2</td>\n",
       "            <td>CREATE TABLE &quot;chicago_socioeconomic_data&quot; (<br>&quot;ca&quot; REAL,<br>  &quot;community_area_name&quot; TEXT,<br>  &quot;percent_of_housing_crowded&quot; REAL,<br>  &quot;percent_households_below_poverty&quot; REAL,<br>  &quot;percent_aged_16_unemployed&quot; REAL,<br>  &quot;percent_aged_25_without_high_school_diploma&quot; REAL,<br>  &quot;percent_aged_under_18_or_over_64&quot; REAL,<br>  &quot;per_capita_income_&quot; INTEGER,<br>  &quot;hardship_index&quot; REAL<br>)</td>\n",
       "        </tr>\n",
       "    </tbody>\n",
       "</table>"
      ],
      "text/plain": [
       "[('table', 'chicago_socioeconomic_data', 'chicago_socioeconomic_data', 2, 'CREATE TABLE \"chicago_socioeconomic_data\" (\\n\"ca\" REAL,\\n  \"community_area_name\" TEXT,\\n  \"percent_of_housing_crowded\" REAL,\\n  \"percent_households_b ... (68 characters truncated) ... t_aged_25_without_high_school_diploma\" REAL,\\n  \"percent_aged_under_18_or_over_64\" REAL,\\n  \"per_capita_income_\" INTEGER,\\n  \"hardship_index\" REAL\\n)')]"
      ]
     },
     "execution_count": 28,
     "metadata": {},
     "output_type": "execute_result"
    }
   ],
   "source": [
    "%sql SELECT * FROM sqlite_master"
   ]
  },
  {
   "cell_type": "code",
   "execution_count": 30,
   "id": "ac5c56a3",
   "metadata": {},
   "outputs": [
    {
     "name": "stdout",
     "output_type": "stream",
     "text": [
      "   sqlite:///db_sandbox.db\n",
      " * sqlite:///socioeconomic.db\n",
      "Done.\n"
     ]
    },
    {
     "data": {
      "text/html": [
       "<table>\n",
       "    <thead>\n",
       "        <tr>\n",
       "            <th>ca</th>\n",
       "            <th>community_area_name</th>\n",
       "            <th>percent_of_housing_crowded</th>\n",
       "            <th>percent_households_below_poverty</th>\n",
       "            <th>percent_aged_16_unemployed</th>\n",
       "            <th>percent_aged_25_without_high_school_diploma</th>\n",
       "            <th>percent_aged_under_18_or_over_64</th>\n",
       "            <th>per_capita_income_</th>\n",
       "            <th>hardship_index</th>\n",
       "        </tr>\n",
       "    </thead>\n",
       "    <tbody>\n",
       "        <tr>\n",
       "            <td>1.0</td>\n",
       "            <td>Rogers Park</td>\n",
       "            <td>7.7</td>\n",
       "            <td>23.6</td>\n",
       "            <td>8.7</td>\n",
       "            <td>18.2</td>\n",
       "            <td>27.5</td>\n",
       "            <td>23939</td>\n",
       "            <td>39.0</td>\n",
       "        </tr>\n",
       "        <tr>\n",
       "            <td>2.0</td>\n",
       "            <td>West Ridge</td>\n",
       "            <td>7.8</td>\n",
       "            <td>17.2</td>\n",
       "            <td>8.8</td>\n",
       "            <td>20.8</td>\n",
       "            <td>38.5</td>\n",
       "            <td>23040</td>\n",
       "            <td>46.0</td>\n",
       "        </tr>\n",
       "        <tr>\n",
       "            <td>3.0</td>\n",
       "            <td>Uptown</td>\n",
       "            <td>3.8</td>\n",
       "            <td>24.0</td>\n",
       "            <td>8.9</td>\n",
       "            <td>11.8</td>\n",
       "            <td>22.2</td>\n",
       "            <td>35787</td>\n",
       "            <td>20.0</td>\n",
       "        </tr>\n",
       "        <tr>\n",
       "            <td>4.0</td>\n",
       "            <td>Lincoln Square</td>\n",
       "            <td>3.4</td>\n",
       "            <td>10.9</td>\n",
       "            <td>8.2</td>\n",
       "            <td>13.4</td>\n",
       "            <td>25.5</td>\n",
       "            <td>37524</td>\n",
       "            <td>17.0</td>\n",
       "        </tr>\n",
       "        <tr>\n",
       "            <td>5.0</td>\n",
       "            <td>North Center</td>\n",
       "            <td>0.3</td>\n",
       "            <td>7.5</td>\n",
       "            <td>5.2</td>\n",
       "            <td>4.5</td>\n",
       "            <td>26.2</td>\n",
       "            <td>57123</td>\n",
       "            <td>6.0</td>\n",
       "        </tr>\n",
       "    </tbody>\n",
       "</table>"
      ],
      "text/plain": [
       "[(1.0, 'Rogers Park', 7.7, 23.6, 8.7, 18.2, 27.5, 23939, 39.0),\n",
       " (2.0, 'West Ridge', 7.8, 17.2, 8.8, 20.8, 38.5, 23040, 46.0),\n",
       " (3.0, 'Uptown', 3.8, 24.0, 8.9, 11.8, 22.2, 35787, 20.0),\n",
       " (4.0, 'Lincoln Square', 3.4, 10.9, 8.2, 13.4, 25.5, 37524, 17.0),\n",
       " (5.0, 'North Center', 0.3, 7.5, 5.2, 4.5, 26.2, 57123, 6.0)]"
      ]
     },
     "execution_count": 30,
     "metadata": {},
     "output_type": "execute_result"
    }
   ],
   "source": [
    "%sql SELECT * FROM chicago_socioeconomic_data limit 5"
   ]
  },
  {
   "cell_type": "code",
   "execution_count": 31,
   "id": "4a7cfe27",
   "metadata": {},
   "outputs": [
    {
     "name": "stdout",
     "output_type": "stream",
     "text": [
      "   sqlite:///db_sandbox.db\n",
      " * sqlite:///socioeconomic.db\n",
      "Done.\n"
     ]
    },
    {
     "data": {
      "text/html": [
       "<table>\n",
       "    <thead>\n",
       "        <tr>\n",
       "            <th>COUNT(*)</th>\n",
       "        </tr>\n",
       "    </thead>\n",
       "    <tbody>\n",
       "        <tr>\n",
       "            <td>78</td>\n",
       "        </tr>\n",
       "    </tbody>\n",
       "</table>"
      ],
      "text/plain": [
       "[(78,)]"
      ]
     },
     "execution_count": 31,
     "metadata": {},
     "output_type": "execute_result"
    }
   ],
   "source": [
    "%sql SELECT COUNT(*) FROM CHICAGO_SOCIOECONOMIC_DATA"
   ]
  },
  {
   "cell_type": "code",
   "execution_count": 32,
   "id": "c8a52700",
   "metadata": {},
   "outputs": [
    {
     "name": "stdout",
     "output_type": "stream",
     "text": [
      "   sqlite:///db_sandbox.db\n",
      " * sqlite:///socioeconomic.db\n",
      "Done.\n"
     ]
    },
    {
     "data": {
      "text/html": [
       "<table>\n",
       "    <thead>\n",
       "        <tr>\n",
       "            <th>COUNT(*)</th>\n",
       "        </tr>\n",
       "    </thead>\n",
       "    <tbody>\n",
       "        <tr>\n",
       "            <td>38</td>\n",
       "        </tr>\n",
       "    </tbody>\n",
       "</table>"
      ],
      "text/plain": [
       "[(38,)]"
      ]
     },
     "execution_count": 32,
     "metadata": {},
     "output_type": "execute_result"
    }
   ],
   "source": [
    "%sql SELECT COUNT(*) FROM CHICAGO_SOCIOECONOMIC_DATA WHERE HARDSHIP_INDEX > 50.0"
   ]
  },
  {
   "cell_type": "code",
   "execution_count": 33,
   "id": "c9b6f16a",
   "metadata": {},
   "outputs": [
    {
     "name": "stdout",
     "output_type": "stream",
     "text": [
      "   sqlite:///db_sandbox.db\n",
      " * sqlite:///socioeconomic.db\n",
      "Done.\n"
     ]
    },
    {
     "data": {
      "text/html": [
       "<table>\n",
       "    <thead>\n",
       "        <tr>\n",
       "            <th>MAX(HARDSHIP_INDEX)</th>\n",
       "        </tr>\n",
       "    </thead>\n",
       "    <tbody>\n",
       "        <tr>\n",
       "            <td>98.0</td>\n",
       "        </tr>\n",
       "    </tbody>\n",
       "</table>"
      ],
      "text/plain": [
       "[(98.0,)]"
      ]
     },
     "execution_count": 33,
     "metadata": {},
     "output_type": "execute_result"
    }
   ],
   "source": [
    "%sql SELECT MAX(HARDSHIP_INDEX) FROM CHICAGO_SOCIOECONOMIC_DATA"
   ]
  },
  {
   "cell_type": "code",
   "execution_count": 36,
   "id": "9eb51148",
   "metadata": {},
   "outputs": [
    {
     "name": "stdout",
     "output_type": "stream",
     "text": [
      "   sqlite:///db_sandbox.db\n",
      " * sqlite:///socioeconomic.db\n",
      "Done.\n"
     ]
    },
    {
     "data": {
      "text/html": [
       "<table>\n",
       "    <thead>\n",
       "        <tr>\n",
       "            <th>community_area_name</th>\n",
       "        </tr>\n",
       "    </thead>\n",
       "    <tbody>\n",
       "        <tr>\n",
       "            <td>Riverdale</td>\n",
       "        </tr>\n",
       "    </tbody>\n",
       "</table>"
      ],
      "text/plain": [
       "[('Riverdale',)]"
      ]
     },
     "execution_count": 36,
     "metadata": {},
     "output_type": "execute_result"
    }
   ],
   "source": [
    "%sql select community_area_name from chicago_socioeconomic_data where hardship_index = ( select max(hardship_index) from chicago_socioeconomic_data )"
   ]
  },
  {
   "cell_type": "code",
   "execution_count": 38,
   "id": "f9eb8b97",
   "metadata": {},
   "outputs": [
    {
     "name": "stdout",
     "output_type": "stream",
     "text": [
      "   sqlite:///db_sandbox.db\n",
      " * sqlite:///socioeconomic.db\n",
      "Done.\n"
     ]
    },
    {
     "data": {
      "text/html": [
       "<table>\n",
       "    <thead>\n",
       "        <tr>\n",
       "            <th>ca</th>\n",
       "            <th>community_area_name</th>\n",
       "            <th>percent_of_housing_crowded</th>\n",
       "            <th>percent_households_below_poverty</th>\n",
       "            <th>percent_aged_16_unemployed</th>\n",
       "            <th>percent_aged_25_without_high_school_diploma</th>\n",
       "            <th>percent_aged_under_18_or_over_64</th>\n",
       "            <th>per_capita_income_</th>\n",
       "            <th>hardship_index</th>\n",
       "        </tr>\n",
       "    </thead>\n",
       "    <tbody>\n",
       "        <tr>\n",
       "            <td>6.0</td>\n",
       "            <td>Lake View</td>\n",
       "            <td>1.1</td>\n",
       "            <td>11.4</td>\n",
       "            <td>4.7</td>\n",
       "            <td>2.6</td>\n",
       "            <td>17.0</td>\n",
       "            <td>60058</td>\n",
       "            <td>5.0</td>\n",
       "        </tr>\n",
       "        <tr>\n",
       "            <td>7.0</td>\n",
       "            <td>Lincoln Park</td>\n",
       "            <td>0.8</td>\n",
       "            <td>12.3</td>\n",
       "            <td>5.1</td>\n",
       "            <td>3.6</td>\n",
       "            <td>21.5</td>\n",
       "            <td>71551</td>\n",
       "            <td>2.0</td>\n",
       "        </tr>\n",
       "        <tr>\n",
       "            <td>8.0</td>\n",
       "            <td>Near North Side</td>\n",
       "            <td>1.9</td>\n",
       "            <td>12.9</td>\n",
       "            <td>7.0</td>\n",
       "            <td>2.5</td>\n",
       "            <td>22.6</td>\n",
       "            <td>88669</td>\n",
       "            <td>1.0</td>\n",
       "        </tr>\n",
       "        <tr>\n",
       "            <td>32.0</td>\n",
       "            <td>Loop</td>\n",
       "            <td>1.5</td>\n",
       "            <td>14.7</td>\n",
       "            <td>5.7</td>\n",
       "            <td>3.1</td>\n",
       "            <td>13.5</td>\n",
       "            <td>65526</td>\n",
       "            <td>3.0</td>\n",
       "        </tr>\n",
       "    </tbody>\n",
       "</table>"
      ],
      "text/plain": [
       "[(6.0, 'Lake View', 1.1, 11.4, 4.7, 2.6, 17.0, 60058, 5.0),\n",
       " (7.0, 'Lincoln Park', 0.8, 12.3, 5.1, 3.6, 21.5, 71551, 2.0),\n",
       " (8.0, 'Near North Side', 1.9, 12.9, 7.0, 2.5, 22.6, 88669, 1.0),\n",
       " (32.0, 'Loop', 1.5, 14.7, 5.7, 3.1, 13.5, 65526, 3.0)]"
      ]
     },
     "execution_count": 38,
     "metadata": {},
     "output_type": "execute_result"
    }
   ],
   "source": [
    "%sql select * from chicago_socioeconomic_data where per_capita_income_ > 60000"
   ]
  },
  {
   "cell_type": "markdown",
   "id": "1fa96c66",
   "metadata": {},
   "source": [
    "## Module 4 Project 4 ~ More SQL Magic"
   ]
  },
  {
   "cell_type": "code",
   "execution_count": 40,
   "id": "2064ebf1",
   "metadata": {},
   "outputs": [],
   "source": [
    "\n",
    "import csv, sqlite3\n",
    "\n",
    "con = sqlite3.connect(\"SQLiteMagic.db\")\n",
    "cur = con.cursor()"
   ]
  },
  {
   "cell_type": "code",
   "execution_count": 43,
   "id": "af801b26",
   "metadata": {},
   "outputs": [],
   "source": [
    "%sql sqlite:///SQLiteMagic.db"
   ]
  },
  {
   "cell_type": "code",
   "execution_count": 44,
   "id": "ba3f0ccc",
   "metadata": {},
   "outputs": [
    {
     "name": "stdout",
     "output_type": "stream",
     "text": [
      " * sqlite:///SQLiteMagic.db\n",
      "   sqlite:///db_sandbox.db\n",
      "   sqlite:///socioeconomic.db\n",
      "Done.\n",
      "99 rows affected.\n"
     ]
    },
    {
     "data": {
      "text/plain": [
       "[]"
      ]
     },
     "execution_count": 44,
     "metadata": {},
     "output_type": "execute_result"
    }
   ],
   "source": [
    "%%sql\n",
    "\n",
    "CREATE TABLE INTERNATIONAL_STUDENT_TEST_SCORES (\n",
    "\tcountry VARCHAR(50),\n",
    "\tfirst_name VARCHAR(50),\n",
    "\tlast_name VARCHAR(50),\n",
    "\ttest_score INT\n",
    ");\n",
    "INSERT INTO INTERNATIONAL_STUDENT_TEST_SCORES (country, first_name, last_name, test_score)\n",
    "VALUES\n",
    "('United States', 'Marshall', 'Bernadot', 54),\n",
    "('Ghana', 'Celinda', 'Malkin', 51),\n",
    "('Ukraine', 'Guillermo', 'Furze', 53),\n",
    "('Greece', 'Aharon', 'Tunnow', 48),\n",
    "('Russia', 'Bail', 'Goodwin', 46),\n",
    "('Poland', 'Cole', 'Winteringham', 49),\n",
    "('Sweden', 'Emlyn', 'Erricker', 55),\n",
    "('Russia', 'Cathee', 'Sivewright', 49),\n",
    "('China', 'Barny', 'Ingerson', 57),\n",
    "('Uganda', 'Sharla', 'Papaccio', 55),\n",
    "('China', 'Stella', 'Youens', 51),\n",
    "('Poland', 'Julio', 'Buesden', 48),\n",
    "('United States', 'Tiffie', 'Cosely', 58),\n",
    "('Poland', 'Auroora', 'Stiffell', 45),\n",
    "('China', 'Clarita', 'Huet', 52),\n",
    "('Poland', 'Shannon', 'Goulden', 45),\n",
    "('Philippines', 'Emylee', 'Privost', 50),\n",
    "('France', 'Madelina', 'Burk', 49),\n",
    "('China', 'Saunderson', 'Root', 58),\n",
    "('Indonesia', 'Bo', 'Waring', 55),\n",
    "('China', 'Hollis', 'Domotor', 45),\n",
    "('Russia', 'Robbie', 'Collip', 46),\n",
    "('Philippines', 'Davon', 'Donisi', 46),\n",
    "('China', 'Cristabel', 'Radeliffe', 48),\n",
    "('China', 'Wallis', 'Bartleet', 58),\n",
    "('Moldova', 'Arleen', 'Stailey', 38),\n",
    "('Ireland', 'Mendel', 'Grumble', 58),\n",
    "('China', 'Sallyann', 'Exley', 51),\n",
    "('Mexico', 'Kain', 'Swaite', 46),\n",
    "('Indonesia', 'Alonso', 'Bulteel', 45),\n",
    "('Armenia', 'Anatol', 'Tankus', 51),\n",
    "('Indonesia', 'Coralyn', 'Dawkins', 48),\n",
    "('China', 'Deanne', 'Edwinson', 45),\n",
    "('China', 'Georgiana', 'Epple', 51),\n",
    "('Portugal', 'Bartlet', 'Breese', 56),\n",
    "('Azerbaijan', 'Idalina', 'Lukash', 50),\n",
    "('France', 'Livvie', 'Flory', 54),\n",
    "('Malaysia', 'Nonie', 'Borit', 48),\n",
    "('Indonesia', 'Clio', 'Mugg', 47),\n",
    "('Brazil', 'Westley', 'Measor', 48),\n",
    "('Philippines', 'Katrinka', 'Sibbert', 51),\n",
    "('Poland', 'Valentia', 'Mounch', 50),\n",
    "('Norway', 'Sheilah', 'Hedditch', 53),\n",
    "('Papua New Guinea', 'Itch', 'Jubb', 50),\n",
    "('Latvia', 'Stesha', 'Garnson', 53),\n",
    "('Canada', 'Cristionna', 'Wadmore', 46),\n",
    "('China', 'Lianna', 'Gatward', 43),\n",
    "('Guatemala', 'Tanney', 'Vials', 48),\n",
    "('France', 'Alma', 'Zavittieri', 44),\n",
    "('China', 'Alvira', 'Tamas', 50),\n",
    "('United States', 'Shanon', 'Peres', 45),\n",
    "('Sweden', 'Maisey', 'Lynas', 53),\n",
    "('Indonesia', 'Kip', 'Hothersall', 46),\n",
    "('China', 'Cash', 'Landis', 48),\n",
    "('Panama', 'Kennith', 'Digance', 45),\n",
    "('China', 'Ulberto', 'Riggeard', 48),\n",
    "('Switzerland', 'Judy', 'Gilligan', 49),\n",
    "('Philippines', 'Tod', 'Trevaskus', 52),\n",
    "('Brazil', 'Herold', 'Heggs', 44),\n",
    "('Latvia', 'Verney', 'Note', 50),\n",
    "('Poland', 'Temp', 'Ribey', 50),\n",
    "('China', 'Conroy', 'Egdal', 48),\n",
    "('Japan', 'Gabie', 'Alessandone', 47),\n",
    "('Ukraine', 'Devlen', 'Chaperlin', 54),\n",
    "('France', 'Babbette', 'Turner', 51),\n",
    "('Czech Republic', 'Virgil', 'Scotney', 52),\n",
    "('Tajikistan', 'Zorina', 'Bedow', 49),\n",
    "('China', 'Aidan', 'Rudeyeard', 50),\n",
    "('Ireland', 'Saunder', 'MacLice', 48),\n",
    "('France', 'Waly', 'Brunstan', 53),\n",
    "('China', 'Gisele', 'Enns', 52),\n",
    "('Peru', 'Mina', 'Winchester', 48),\n",
    "('Japan', 'Torie', 'MacShirrie', 50),\n",
    "('Russia', 'Benjamen', 'Kenford', 51),\n",
    "('China', 'Etan', 'Burn', 53),\n",
    "('Russia', 'Merralee', 'Chaperlin', 38),\n",
    "('Indonesia', 'Lanny', 'Malam', 49),\n",
    "('Canada', 'Wilhelm', 'Deeprose', 54),\n",
    "('Czech Republic', 'Lari', 'Hillhouse', 48),\n",
    "('China', 'Ossie', 'Woodley', 52),\n",
    "('Macedonia', 'April', 'Tyer', 50),\n",
    "('Vietnam', 'Madelon', 'Dansey', 53),\n",
    "('Ukraine', 'Korella', 'McNamee', 52),\n",
    "('Jamaica', 'Linnea', 'Cannam', 43),\n",
    "('China', 'Mart', 'Coling', 52),\n",
    "('Indonesia', 'Marna', 'Causbey', 47),\n",
    "('China', 'Berni', 'Daintier', 55),\n",
    "('Poland', 'Cynthia', 'Hassell', 49),\n",
    "('Canada', 'Carma', 'Schule', 49),\n",
    "('Indonesia', 'Malia', 'Blight', 48),\n",
    "('China', 'Paulo', 'Seivertsen', 47),\n",
    "('Niger', 'Kaylee', 'Hearley', 54),\n",
    "('Japan', 'Maure', 'Jandak', 46),\n",
    "('Argentina', 'Foss', 'Feavers', 45),\n",
    "('Venezuela', 'Ron', 'Leggitt', 60),\n",
    "('Russia', 'Flint', 'Gokes', 40),\n",
    "('China', 'Linet', 'Conelly', 52),\n",
    "('Philippines', 'Nikolas', 'Birtwell', 57),\n",
    "('Australia', 'Eduard', 'Leipelt', 53)\n"
   ]
  },
  {
   "cell_type": "code",
   "execution_count": 45,
   "id": "8a6febb2",
   "metadata": {},
   "outputs": [],
   "source": [
    "# Import the 'prettytable' library, which is used to display data in a formatted table\n",
    "import prettytable\n",
    "\n",
    "# Set the default display format for prettytable to 'DEFAULT' (i.e., a simple table format)\n",
    "prettytable.DEFAULT = 'DEFAULT'"
   ]
  },
  {
   "cell_type": "code",
   "execution_count": 46,
   "id": "ca3e87e7",
   "metadata": {},
   "outputs": [
    {
     "name": "stdout",
     "output_type": "stream",
     "text": [
      " * sqlite:///SQLiteMagic.db\n",
      "   sqlite:///db_sandbox.db\n",
      "   sqlite:///socioeconomic.db\n",
      "Done.\n"
     ]
    },
    {
     "data": {
      "text/html": [
       "<table>\n",
       "    <thead>\n",
       "        <tr>\n",
       "            <th>country</th>\n",
       "            <th>first_name</th>\n",
       "            <th>last_name</th>\n",
       "            <th>test_score</th>\n",
       "        </tr>\n",
       "    </thead>\n",
       "    <tbody>\n",
       "        <tr>\n",
       "            <td>Canada</td>\n",
       "            <td>Cristionna</td>\n",
       "            <td>Wadmore</td>\n",
       "            <td>46</td>\n",
       "        </tr>\n",
       "        <tr>\n",
       "            <td>Canada</td>\n",
       "            <td>Wilhelm</td>\n",
       "            <td>Deeprose</td>\n",
       "            <td>54</td>\n",
       "        </tr>\n",
       "        <tr>\n",
       "            <td>Canada</td>\n",
       "            <td>Carma</td>\n",
       "            <td>Schule</td>\n",
       "            <td>49</td>\n",
       "        </tr>\n",
       "    </tbody>\n",
       "</table>"
      ],
      "text/plain": [
       "[('Canada', 'Cristionna', 'Wadmore', 46),\n",
       " ('Canada', 'Wilhelm', 'Deeprose', 54),\n",
       " ('Canada', 'Carma', 'Schule', 49)]"
      ]
     },
     "execution_count": 46,
     "metadata": {},
     "output_type": "execute_result"
    }
   ],
   "source": [
    "country = \"Canada\"\n",
    "%sql select * from INTERNATIONAL_STUDENT_TEST_SCORES where country = :country"
   ]
  },
  {
   "cell_type": "code",
   "execution_count": 47,
   "id": "e0bc567d",
   "metadata": {},
   "outputs": [
    {
     "name": "stdout",
     "output_type": "stream",
     "text": [
      " * sqlite:///SQLiteMagic.db\n",
      "   sqlite:///db_sandbox.db\n",
      "   sqlite:///socioeconomic.db\n",
      "Done.\n"
     ]
    },
    {
     "data": {
      "text/html": [
       "<table>\n",
       "    <thead>\n",
       "        <tr>\n",
       "            <th>Test_Score</th>\n",
       "            <th>Frequency</th>\n",
       "        </tr>\n",
       "    </thead>\n",
       "    <tbody>\n",
       "        <tr>\n",
       "            <td>38</td>\n",
       "            <td>2</td>\n",
       "        </tr>\n",
       "        <tr>\n",
       "            <td>40</td>\n",
       "            <td>1</td>\n",
       "        </tr>\n",
       "        <tr>\n",
       "            <td>43</td>\n",
       "            <td>2</td>\n",
       "        </tr>\n",
       "        <tr>\n",
       "            <td>44</td>\n",
       "            <td>2</td>\n",
       "        </tr>\n",
       "        <tr>\n",
       "            <td>45</td>\n",
       "            <td>8</td>\n",
       "        </tr>\n",
       "        <tr>\n",
       "            <td>46</td>\n",
       "            <td>7</td>\n",
       "        </tr>\n",
       "        <tr>\n",
       "            <td>47</td>\n",
       "            <td>4</td>\n",
       "        </tr>\n",
       "        <tr>\n",
       "            <td>48</td>\n",
       "            <td>14</td>\n",
       "        </tr>\n",
       "        <tr>\n",
       "            <td>49</td>\n",
       "            <td>8</td>\n",
       "        </tr>\n",
       "        <tr>\n",
       "            <td>50</td>\n",
       "            <td>10</td>\n",
       "        </tr>\n",
       "        <tr>\n",
       "            <td>51</td>\n",
       "            <td>8</td>\n",
       "        </tr>\n",
       "        <tr>\n",
       "            <td>52</td>\n",
       "            <td>8</td>\n",
       "        </tr>\n",
       "        <tr>\n",
       "            <td>53</td>\n",
       "            <td>8</td>\n",
       "        </tr>\n",
       "        <tr>\n",
       "            <td>54</td>\n",
       "            <td>5</td>\n",
       "        </tr>\n",
       "        <tr>\n",
       "            <td>55</td>\n",
       "            <td>4</td>\n",
       "        </tr>\n",
       "        <tr>\n",
       "            <td>56</td>\n",
       "            <td>1</td>\n",
       "        </tr>\n",
       "        <tr>\n",
       "            <td>57</td>\n",
       "            <td>2</td>\n",
       "        </tr>\n",
       "        <tr>\n",
       "            <td>58</td>\n",
       "            <td>4</td>\n",
       "        </tr>\n",
       "        <tr>\n",
       "            <td>60</td>\n",
       "            <td>1</td>\n",
       "        </tr>\n",
       "    </tbody>\n",
       "</table>"
      ],
      "text/plain": [
       "[(38, 2),\n",
       " (40, 1),\n",
       " (43, 2),\n",
       " (44, 2),\n",
       " (45, 8),\n",
       " (46, 7),\n",
       " (47, 4),\n",
       " (48, 14),\n",
       " (49, 8),\n",
       " (50, 10),\n",
       " (51, 8),\n",
       " (52, 8),\n",
       " (53, 8),\n",
       " (54, 5),\n",
       " (55, 4),\n",
       " (56, 1),\n",
       " (57, 2),\n",
       " (58, 4),\n",
       " (60, 1)]"
      ]
     },
     "execution_count": 47,
     "metadata": {},
     "output_type": "execute_result"
    }
   ],
   "source": [
    "test_score_distribution = %sql SELECT test_score as \"Test_Score\", count(*) as \"Frequency\" from INTERNATIONAL_STUDENT_TEST_SCORES GROUP BY test_score;\n",
    "test_score_distribution"
   ]
  },
  {
   "cell_type": "code",
   "execution_count": 52,
   "id": "b39faaaf",
   "metadata": {},
   "outputs": [
    {
     "name": "stdout",
     "output_type": "stream",
     "text": [
      "       Test_Score  Frequency\n",
      "count   19.000000  19.000000\n",
      "mean    49.789474   5.210526\n",
      "std      6.178628   3.660282\n",
      "min     38.000000   1.000000\n",
      "25%     45.500000   2.000000\n",
      "50%     50.000000   4.000000\n",
      "75%     54.500000   8.000000\n",
      "max     60.000000  14.000000\n"
     ]
    },
    {
     "data": {
      "image/png": "[encoded data removed]",
      "text/plain": [
       "<Figure size 640x480 with 1 Axes>"
      ]
     },
     "metadata": {},
     "output_type": "display_data"
    }
   ],
   "source": [
    "dataframe = test_score_distribution.DataFrame()\n",
    "print(dataframe.describe())\n",
    "\n",
    "%matplotlib inline\n",
    "# uncomment the following line if you get an module error saying seaborn not found\n",
    "# !pip install seaborn==0.9.0\n",
    "import seaborn\n",
    "\n",
    "plot = seaborn.barplot(x='Test_Score',y='Frequency', data=dataframe)"
   ]
  },
  {
   "cell_type": "code",
   "execution_count": 53,
   "id": "b6025340",
   "metadata": {},
   "outputs": [
    {
     "name": "stdout",
     "output_type": "stream",
     "text": [
      " * sqlite:///SQLiteMagic.db\n",
      "   sqlite:///db_sandbox.db\n",
      "   sqlite:///socioeconomic.db\n",
      "Done.\n"
     ]
    },
    {
     "data": {
      "text/html": [
       "<table>\n",
       "    <thead>\n",
       "        <tr>\n",
       "            <th>country</th>\n",
       "            <th>first_name</th>\n",
       "            <th>last_name</th>\n",
       "            <th>test_score</th>\n",
       "        </tr>\n",
       "    </thead>\n",
       "    <tbody>\n",
       "        <tr>\n",
       "            <td>United States</td>\n",
       "            <td>Marshall</td>\n",
       "            <td>Bernadot</td>\n",
       "            <td>54</td>\n",
       "        </tr>\n",
       "        <tr>\n",
       "            <td>Ghana</td>\n",
       "            <td>Celinda</td>\n",
       "            <td>Malkin</td>\n",
       "            <td>51</td>\n",
       "        </tr>\n",
       "        <tr>\n",
       "            <td>Ukraine</td>\n",
       "            <td>Guillermo</td>\n",
       "            <td>Furze</td>\n",
       "            <td>53</td>\n",
       "        </tr>\n",
       "        <tr>\n",
       "            <td>Greece</td>\n",
       "            <td>Aharon</td>\n",
       "            <td>Tunnow</td>\n",
       "            <td>48</td>\n",
       "        </tr>\n",
       "        <tr>\n",
       "            <td>Russia</td>\n",
       "            <td>Bail</td>\n",
       "            <td>Goodwin</td>\n",
       "            <td>46</td>\n",
       "        </tr>\n",
       "    </tbody>\n",
       "</table>"
      ],
      "text/plain": [
       "[('United States', 'Marshall', 'Bernadot', 54),\n",
       " ('Ghana', 'Celinda', 'Malkin', 51),\n",
       " ('Ukraine', 'Guillermo', 'Furze', 53),\n",
       " ('Greece', 'Aharon', 'Tunnow', 48),\n",
       " ('Russia', 'Bail', 'Goodwin', 46)]"
      ]
     },
     "execution_count": 53,
     "metadata": {},
     "output_type": "execute_result"
    }
   ],
   "source": [
    "%%sql \n",
    "\n",
    "-- Feel free to experiment with the data set provided in this notebook for practice:\n",
    "SELECT country, first_name, last_name, test_score FROM INTERNATIONAL_STUDENT_TEST_SCORES limit 5;    "
   ]
  },
  {
   "cell_type": "markdown",
   "id": "0dd284eb",
   "metadata": {},
   "source": [
    "## Module 4 Project 5 ~ Real World Example"
   ]
  },
  {
   "cell_type": "code",
   "execution_count": 168,
   "id": "2c2c0500",
   "metadata": {},
   "outputs": [],
   "source": [
    "%sql sqlite:///db_sandbox.db"
   ]
  },
  {
   "cell_type": "code",
   "execution_count": 169,
   "id": "4b7af0b0",
   "metadata": {},
   "outputs": [
    {
     "name": "stdout",
     "output_type": "stream",
     "text": [
      "   sqlite:///SQLiteMagic.db\n",
      " * sqlite:///db_sandbox.db\n",
      "   sqlite:///socioeconomic.db\n",
      "Done.\n"
     ]
    },
    {
     "data": {
      "text/html": [
       "<table>\n",
       "    <thead>\n",
       "        <tr>\n",
       "            <th>School_ID</th>\n",
       "            <th>NAME_OF_SCHOOL</th>\n",
       "            <th>Elementary, Middle, or High School</th>\n",
       "            <th>Street_Address</th>\n",
       "            <th>City</th>\n",
       "            <th>State</th>\n",
       "            <th>ZIP_Code</th>\n",
       "            <th>Phone_Number</th>\n",
       "            <th>Link</th>\n",
       "            <th>Network_Manager</th>\n",
       "            <th>Collaborative_Name</th>\n",
       "            <th>Adequate_Yearly_Progress_Made_</th>\n",
       "            <th>Track_Schedule</th>\n",
       "            <th>CPS_Performance_Policy_Status</th>\n",
       "            <th>CPS_Performance_Policy_Level</th>\n",
       "            <th>HEALTHY_SCHOOL_CERTIFIED</th>\n",
       "            <th>Safety_Icon</th>\n",
       "            <th>SAFETY_SCORE</th>\n",
       "            <th>Family_Involvement_Icon</th>\n",
       "            <th>Family_Involvement_Score</th>\n",
       "            <th>Environment_Icon</th>\n",
       "            <th>Environment_Score</th>\n",
       "            <th>Instruction_Icon</th>\n",
       "            <th>Instruction_Score</th>\n",
       "            <th>Leaders_Icon</th>\n",
       "            <th>Leaders_Score</th>\n",
       "            <th>Teachers_Icon</th>\n",
       "            <th>Teachers_Score</th>\n",
       "            <th>Parent_Engagement_Icon</th>\n",
       "            <th>Parent_Engagement_Score</th>\n",
       "            <th>Parent_Environment_Icon</th>\n",
       "            <th>Parent_Environment_Score</th>\n",
       "            <th>AVERAGE_STUDENT_ATTENDANCE</th>\n",
       "            <th>Rate_of_Misconducts__per_100_students_</th>\n",
       "            <th>Average_Teacher_Attendance</th>\n",
       "            <th>Individualized_Education_Program_Compliance_Rate</th>\n",
       "            <th>Pk_2_Literacy__</th>\n",
       "            <th>Pk_2_Math__</th>\n",
       "            <th>Gr3_5_Grade_Level_Math__</th>\n",
       "            <th>Gr3_5_Grade_Level_Read__</th>\n",
       "            <th>Gr3_5_Keep_Pace_Read__</th>\n",
       "            <th>Gr3_5_Keep_Pace_Math__</th>\n",
       "            <th>Gr6_8_Grade_Level_Math__</th>\n",
       "            <th>Gr6_8_Grade_Level_Read__</th>\n",
       "            <th>Gr6_8_Keep_Pace_Math_</th>\n",
       "            <th>Gr6_8_Keep_Pace_Read__</th>\n",
       "            <th>Gr_8_Explore_Math__</th>\n",
       "            <th>Gr_8_Explore_Read__</th>\n",
       "            <th>ISAT_Exceeding_Math__</th>\n",
       "            <th>ISAT_Exceeding_Reading__</th>\n",
       "            <th>ISAT_Value_Add_Math</th>\n",
       "            <th>ISAT_Value_Add_Read</th>\n",
       "            <th>ISAT_Value_Add_Color_Math</th>\n",
       "            <th>ISAT_Value_Add_Color_Read</th>\n",
       "            <th>Students_Taking__Algebra__</th>\n",
       "            <th>Students_Passing__Algebra__</th>\n",
       "            <th>9th Grade EXPLORE (2009)</th>\n",
       "            <th>9th Grade EXPLORE (2010)</th>\n",
       "            <th>10th Grade PLAN (2009)</th>\n",
       "            <th>10th Grade PLAN (2010)</th>\n",
       "            <th>Net_Change_EXPLORE_and_PLAN</th>\n",
       "            <th>11th Grade Average ACT (2011)</th>\n",
       "            <th>Net_Change_PLAN_and_ACT</th>\n",
       "            <th>College_Eligibility__</th>\n",
       "            <th>Graduation_Rate__</th>\n",
       "            <th>College_Enrollment_Rate__</th>\n",
       "            <th>COLLEGE_ENROLLMENT</th>\n",
       "            <th>General_Services_Route</th>\n",
       "            <th>Freshman_on_Track_Rate__</th>\n",
       "            <th>X_COORDINATE</th>\n",
       "            <th>Y_COORDINATE</th>\n",
       "            <th>Latitude</th>\n",
       "            <th>Longitude</th>\n",
       "            <th>COMMUNITY_AREA_NUMBER</th>\n",
       "            <th>COMMUNITY_AREA_NAME</th>\n",
       "            <th>Ward</th>\n",
       "            <th>Police_District</th>\n",
       "            <th>Location</th>\n",
       "        </tr>\n",
       "    </thead>\n",
       "    <tbody>\n",
       "        <tr>\n",
       "            <td>610038</td>\n",
       "            <td>Abraham Lincoln Elementary School</td>\n",
       "            <td>ES</td>\n",
       "            <td>615 W Kemper Pl</td>\n",
       "            <td>Chicago</td>\n",
       "            <td>IL</td>\n",
       "            <td>60614</td>\n",
       "            <td>(773) 534-5720</td>\n",
       "            <td>http://schoolreports.cps.edu/SchoolProgressReport_Eng/Spring2011Eng_610038.pdf</td>\n",
       "            <td>Fullerton Elementary Network</td>\n",
       "            <td>NORTH-NORTHWEST SIDE COLLABORATIVE</td>\n",
       "            <td>No</td>\n",
       "            <td>Standard</td>\n",
       "            <td>Not on Probation</td>\n",
       "            <td>Level 1</td>\n",
       "            <td>Yes</td>\n",
       "            <td>Very Strong</td>\n",
       "            <td>99</td>\n",
       "            <td>Very Strong</td>\n",
       "            <td>99</td>\n",
       "            <td>Strong</td>\n",
       "            <td>74</td>\n",
       "            <td>Strong</td>\n",
       "            <td>66</td>\n",
       "            <td>Weak</td>\n",
       "            <td>65</td>\n",
       "            <td>Strong</td>\n",
       "            <td>70</td>\n",
       "            <td>Strong</td>\n",
       "            <td>56</td>\n",
       "            <td>Average</td>\n",
       "            <td>47</td>\n",
       "            <td>96.00%</td>\n",
       "            <td>2.0</td>\n",
       "            <td>96.40%</td>\n",
       "            <td>95.80%</td>\n",
       "            <td>80.1</td>\n",
       "            <td>43.3</td>\n",
       "            <td>89.6</td>\n",
       "            <td>84.9</td>\n",
       "            <td>60.7</td>\n",
       "            <td>62.6</td>\n",
       "            <td>81.9</td>\n",
       "            <td>85.2</td>\n",
       "            <td>52</td>\n",
       "            <td>62.4</td>\n",
       "            <td>66.3</td>\n",
       "            <td>77.9</td>\n",
       "            <td>69.7</td>\n",
       "            <td>64.4</td>\n",
       "            <td>0.2</td>\n",
       "            <td>0.9</td>\n",
       "            <td>Yellow</td>\n",
       "            <td>Green</td>\n",
       "            <td>67.1</td>\n",
       "            <td>54.5</td>\n",
       "            <td>NDA</td>\n",
       "            <td>NDA</td>\n",
       "            <td>NDA</td>\n",
       "            <td>NDA</td>\n",
       "            <td>NDA</td>\n",
       "            <td>NDA</td>\n",
       "            <td>NDA</td>\n",
       "            <td>NDA</td>\n",
       "            <td>NDA</td>\n",
       "            <td>NDA</td>\n",
       "            <td>813</td>\n",
       "            <td>33</td>\n",
       "            <td>NDA</td>\n",
       "            <td>1171699.458</td>\n",
       "            <td>1915829.428</td>\n",
       "            <td>41.92449696</td>\n",
       "            <td>-87.64452163</td>\n",
       "            <td>7</td>\n",
       "            <td>LINCOLN PARK</td>\n",
       "            <td>43</td>\n",
       "            <td>18</td>\n",
       "            <td>(41.92449696, -87.64452163)</td>\n",
       "        </tr>\n",
       "        <tr>\n",
       "            <td>610281</td>\n",
       "            <td>Adam Clayton Powell Paideia Community Academy Elementary School</td>\n",
       "            <td>ES</td>\n",
       "            <td>7511 S South Shore Dr</td>\n",
       "            <td>Chicago</td>\n",
       "            <td>IL</td>\n",
       "            <td>60649</td>\n",
       "            <td>(773) 535-6650</td>\n",
       "            <td>http://schoolreports.cps.edu/SchoolProgressReport_Eng/Spring2011Eng_610281.pdf</td>\n",
       "            <td>Skyway Elementary Network</td>\n",
       "            <td>SOUTH SIDE COLLABORATIVE</td>\n",
       "            <td>No</td>\n",
       "            <td>Track_E</td>\n",
       "            <td>Not on Probation</td>\n",
       "            <td>Level 1</td>\n",
       "            <td>No</td>\n",
       "            <td>Average</td>\n",
       "            <td>54</td>\n",
       "            <td>Strong</td>\n",
       "            <td>66</td>\n",
       "            <td>Strong</td>\n",
       "            <td>74</td>\n",
       "            <td>Very Strong</td>\n",
       "            <td>84</td>\n",
       "            <td>Weak</td>\n",
       "            <td>63</td>\n",
       "            <td>Strong</td>\n",
       "            <td>76</td>\n",
       "            <td>Weak</td>\n",
       "            <td>46</td>\n",
       "            <td>Average</td>\n",
       "            <td>50</td>\n",
       "            <td>95.60%</td>\n",
       "            <td>15.7</td>\n",
       "            <td>95.30%</td>\n",
       "            <td>100.00%</td>\n",
       "            <td>62.4</td>\n",
       "            <td>51.7</td>\n",
       "            <td>21.9</td>\n",
       "            <td>15.1</td>\n",
       "            <td>29</td>\n",
       "            <td>42.8</td>\n",
       "            <td>38.5</td>\n",
       "            <td>27.4</td>\n",
       "            <td>44.8</td>\n",
       "            <td>42.7</td>\n",
       "            <td>14.1</td>\n",
       "            <td>34.4</td>\n",
       "            <td>16.8</td>\n",
       "            <td>16.5</td>\n",
       "            <td>0.7</td>\n",
       "            <td>1.4</td>\n",
       "            <td>Green</td>\n",
       "            <td>Green</td>\n",
       "            <td>17.2</td>\n",
       "            <td>27.3</td>\n",
       "            <td>NDA</td>\n",
       "            <td>NDA</td>\n",
       "            <td>NDA</td>\n",
       "            <td>NDA</td>\n",
       "            <td>NDA</td>\n",
       "            <td>NDA</td>\n",
       "            <td>NDA</td>\n",
       "            <td>NDA</td>\n",
       "            <td>NDA</td>\n",
       "            <td>NDA</td>\n",
       "            <td>521</td>\n",
       "            <td>46</td>\n",
       "            <td>NDA</td>\n",
       "            <td>1196129.985</td>\n",
       "            <td>1856209.466</td>\n",
       "            <td>41.76032435</td>\n",
       "            <td>-87.55673627</td>\n",
       "            <td>43</td>\n",
       "            <td>SOUTH SHORE</td>\n",
       "            <td>7</td>\n",
       "            <td>4</td>\n",
       "            <td>(41.76032435, -87.55673627)</td>\n",
       "        </tr>\n",
       "        <tr>\n",
       "            <td>610185</td>\n",
       "            <td>Adlai E Stevenson Elementary School</td>\n",
       "            <td>ES</td>\n",
       "            <td>8010 S Kostner Ave</td>\n",
       "            <td>Chicago</td>\n",
       "            <td>IL</td>\n",
       "            <td>60652</td>\n",
       "            <td>(773) 535-2280</td>\n",
       "            <td>http://schoolreports.cps.edu/SchoolProgressReport_Eng/Spring2011Eng_610185.pdf</td>\n",
       "            <td>Midway Elementary Network</td>\n",
       "            <td>SOUTHWEST SIDE COLLABORATIVE</td>\n",
       "            <td>No</td>\n",
       "            <td>Standard</td>\n",
       "            <td>Not on Probation</td>\n",
       "            <td>Level 2</td>\n",
       "            <td>No</td>\n",
       "            <td>Strong</td>\n",
       "            <td>61</td>\n",
       "            <td>NDA</td>\n",
       "            <td>NDA</td>\n",
       "            <td>Average</td>\n",
       "            <td>50</td>\n",
       "            <td>Weak</td>\n",
       "            <td>36</td>\n",
       "            <td>Weak</td>\n",
       "            <td>NDA</td>\n",
       "            <td>NDA</td>\n",
       "            <td>NDA</td>\n",
       "            <td>Average</td>\n",
       "            <td>47</td>\n",
       "            <td>Weak</td>\n",
       "            <td>41</td>\n",
       "            <td>95.70%</td>\n",
       "            <td>2.3</td>\n",
       "            <td>94.70%</td>\n",
       "            <td>98.30%</td>\n",
       "            <td>53.7</td>\n",
       "            <td>26.6</td>\n",
       "            <td>38.3</td>\n",
       "            <td>34.7</td>\n",
       "            <td>43.7</td>\n",
       "            <td>57.3</td>\n",
       "            <td>48.8</td>\n",
       "            <td>39.2</td>\n",
       "            <td>46.8</td>\n",
       "            <td>44</td>\n",
       "            <td>7.5</td>\n",
       "            <td>21.9</td>\n",
       "            <td>18.3</td>\n",
       "            <td>15.5</td>\n",
       "            <td>-0.9</td>\n",
       "            <td>-1.0</td>\n",
       "            <td>Red</td>\n",
       "            <td>Red</td>\n",
       "            <td>NDA</td>\n",
       "            <td>NDA</td>\n",
       "            <td>NDA</td>\n",
       "            <td>NDA</td>\n",
       "            <td>NDA</td>\n",
       "            <td>NDA</td>\n",
       "            <td>NDA</td>\n",
       "            <td>NDA</td>\n",
       "            <td>NDA</td>\n",
       "            <td>NDA</td>\n",
       "            <td>NDA</td>\n",
       "            <td>NDA</td>\n",
       "            <td>1324</td>\n",
       "            <td>44</td>\n",
       "            <td>NDA</td>\n",
       "            <td>1148427.165</td>\n",
       "            <td>1851012.215</td>\n",
       "            <td>41.74711093</td>\n",
       "            <td>-87.73170248</td>\n",
       "            <td>70</td>\n",
       "            <td>ASHBURN</td>\n",
       "            <td>13</td>\n",
       "            <td>8</td>\n",
       "            <td>(41.74711093, -87.73170248)</td>\n",
       "        </tr>\n",
       "        <tr>\n",
       "            <td>609993</td>\n",
       "            <td>Agustin Lara Elementary Academy</td>\n",
       "            <td>ES</td>\n",
       "            <td>4619 S Wolcott Ave</td>\n",
       "            <td>Chicago</td>\n",
       "            <td>IL</td>\n",
       "            <td>60609</td>\n",
       "            <td>(773) 535-4389</td>\n",
       "            <td>http://schoolreports.cps.edu/SchoolProgressReport_Eng/Spring2011Eng_609993.pdf</td>\n",
       "            <td>Pershing Elementary Network</td>\n",
       "            <td>SOUTHWEST SIDE COLLABORATIVE</td>\n",
       "            <td>No</td>\n",
       "            <td>Track_E</td>\n",
       "            <td>Not on Probation</td>\n",
       "            <td>Level 1</td>\n",
       "            <td>No</td>\n",
       "            <td>Average</td>\n",
       "            <td>56</td>\n",
       "            <td>Average</td>\n",
       "            <td>44</td>\n",
       "            <td>Average</td>\n",
       "            <td>45</td>\n",
       "            <td>Weak</td>\n",
       "            <td>37</td>\n",
       "            <td>Weak</td>\n",
       "            <td>65</td>\n",
       "            <td>Average</td>\n",
       "            <td>48</td>\n",
       "            <td>Average</td>\n",
       "            <td>53</td>\n",
       "            <td>Strong</td>\n",
       "            <td>58</td>\n",
       "            <td>95.50%</td>\n",
       "            <td>10.4</td>\n",
       "            <td>95.80%</td>\n",
       "            <td>100.00%</td>\n",
       "            <td>76.9</td>\n",
       "            <td>NDA</td>\n",
       "            <td>26</td>\n",
       "            <td>24.7</td>\n",
       "            <td>61.8</td>\n",
       "            <td>49.7</td>\n",
       "            <td>39.2</td>\n",
       "            <td>27.2</td>\n",
       "            <td>69.7</td>\n",
       "            <td>60.6</td>\n",
       "            <td>9.1</td>\n",
       "            <td>18.2</td>\n",
       "            <td>11.1</td>\n",
       "            <td>9.6</td>\n",
       "            <td>0.9</td>\n",
       "            <td>2.4</td>\n",
       "            <td>Green</td>\n",
       "            <td>Green</td>\n",
       "            <td>42.9</td>\n",
       "            <td>25</td>\n",
       "            <td>NDA</td>\n",
       "            <td>NDA</td>\n",
       "            <td>NDA</td>\n",
       "            <td>NDA</td>\n",
       "            <td>NDA</td>\n",
       "            <td>NDA</td>\n",
       "            <td>NDA</td>\n",
       "            <td>NDA</td>\n",
       "            <td>NDA</td>\n",
       "            <td>NDA</td>\n",
       "            <td>556</td>\n",
       "            <td>42</td>\n",
       "            <td>NDA</td>\n",
       "            <td>1164504.29</td>\n",
       "            <td>1873959.199</td>\n",
       "            <td>41.8097569</td>\n",
       "            <td>-87.6721446</td>\n",
       "            <td>61</td>\n",
       "            <td>NEW CITY</td>\n",
       "            <td>20</td>\n",
       "            <td>9</td>\n",
       "            <td>(41.8097569, -87.6721446)</td>\n",
       "        </tr>\n",
       "        <tr>\n",
       "            <td>610513</td>\n",
       "            <td>Air Force Academy High School</td>\n",
       "            <td>HS</td>\n",
       "            <td>3630 S Wells St</td>\n",
       "            <td>Chicago</td>\n",
       "            <td>IL</td>\n",
       "            <td>60609</td>\n",
       "            <td>(773) 535-1590</td>\n",
       "            <td>http://schoolreports.cps.edu/SchoolProgressReport_Eng/Spring2011Eng_610513.pdf</td>\n",
       "            <td>Southwest Side High School Network</td>\n",
       "            <td>SOUTHWEST SIDE COLLABORATIVE</td>\n",
       "            <td>NDA</td>\n",
       "            <td>Standard</td>\n",
       "            <td>Not on Probation</td>\n",
       "            <td>Not Enough Data</td>\n",
       "            <td>Yes</td>\n",
       "            <td>Average</td>\n",
       "            <td>49</td>\n",
       "            <td>Strong</td>\n",
       "            <td>60</td>\n",
       "            <td>Strong</td>\n",
       "            <td>60</td>\n",
       "            <td>Average</td>\n",
       "            <td>55</td>\n",
       "            <td>Weak</td>\n",
       "            <td>45</td>\n",
       "            <td>Average</td>\n",
       "            <td>54</td>\n",
       "            <td>Average</td>\n",
       "            <td>53</td>\n",
       "            <td>Average</td>\n",
       "            <td>49</td>\n",
       "            <td>93.30%</td>\n",
       "            <td>15.6</td>\n",
       "            <td>96.90%</td>\n",
       "            <td>100.00%</td>\n",
       "            <td>NDA</td>\n",
       "            <td>NDA</td>\n",
       "            <td>NDA</td>\n",
       "            <td>NDA</td>\n",
       "            <td>NDA</td>\n",
       "            <td>NDA</td>\n",
       "            <td>NDA</td>\n",
       "            <td>NDA</td>\n",
       "            <td>NDA</td>\n",
       "            <td>NDA</td>\n",
       "            <td>NDA</td>\n",
       "            <td>NDA</td>\n",
       "            <td></td>\n",
       "            <td></td>\n",
       "            <td></td>\n",
       "            <td></td>\n",
       "            <td>NDA</td>\n",
       "            <td>NDA</td>\n",
       "            <td>NDA</td>\n",
       "            <td>NDA</td>\n",
       "            <td>14.6</td>\n",
       "            <td>14.8</td>\n",
       "            <td>NDA</td>\n",
       "            <td>16</td>\n",
       "            <td>1.4</td>\n",
       "            <td>NDA</td>\n",
       "            <td>NDA</td>\n",
       "            <td>NDA</td>\n",
       "            <td>NDA</td>\n",
       "            <td>NDA</td>\n",
       "            <td>302</td>\n",
       "            <td>40</td>\n",
       "            <td>91.8</td>\n",
       "            <td>1175177.622</td>\n",
       "            <td>1880745.126</td>\n",
       "            <td>41.82814609</td>\n",
       "            <td>-87.63279369</td>\n",
       "            <td>34</td>\n",
       "            <td>ARMOUR SQUARE</td>\n",
       "            <td>11</td>\n",
       "            <td>9</td>\n",
       "            <td>(41.82814609, -87.63279369)</td>\n",
       "        </tr>\n",
       "    </tbody>\n",
       "</table>"
      ],
      "text/plain": [
       "[(610038, 'Abraham Lincoln Elementary School', 'ES', '615 W Kemper Pl', 'Chicago', 'IL', 60614, '(773) 534-5720', 'http://schoolreports.cps.edu/SchoolProgressReport_Eng/Spring2011Eng_610038.pdf', 'Fullerton Elementary Network', 'NORTH-NORTHWEST SIDE COLLABORATIVE', 'No', 'Standard', 'Not on Probation', 'Level 1', 'Yes', 'Very Strong', 99, 'Very Strong', '99', 'Strong', 74, 'Strong', 66, 'Weak', '65', 'Strong', '70', 'Strong', '56', 'Average', '47', '96.00%', 2.0, '96.40%', '95.80%', '80.1', '43.3', '89.6', '84.9', '60.7', '62.6', '81.9', '85.2', '52', '62.4', '66.3', '77.9', 69.7, 64.4, 0.2, 0.9, 'Yellow', 'Green', '67.1', '54.5', 'NDA', 'NDA', 'NDA', 'NDA', 'NDA', 'NDA', 'NDA', 'NDA', 'NDA', 'NDA', 813, 33, 'NDA', 1171699.458, 1915829.428, 41.92449696, -87.64452163, 7, 'LINCOLN PARK', 43, 18, '(41.92449696, -87.64452163)'),\n",
       " (610281, 'Adam Clayton Powell Paideia Community Academy Elementary School', 'ES', '7511 S South Shore Dr', 'Chicago', 'IL', 60649, '(773) 535-6650', 'http://schoolreports.cps.edu/SchoolProgressReport_Eng/Spring2011Eng_610281.pdf', 'Skyway Elementary Network', 'SOUTH SIDE COLLABORATIVE', 'No', 'Track_E', 'Not on Probation', 'Level 1', 'No', 'Average', 54, 'Strong', '66', 'Strong', 74, 'Very Strong', 84, 'Weak', '63', 'Strong', '76', 'Weak', '46', 'Average', '50', '95.60%', 15.7, '95.30%', '100.00%', '62.4', '51.7', '21.9', '15.1', '29', '42.8', '38.5', '27.4', '44.8', '42.7', '14.1', '34.4', 16.8, 16.5, 0.7, 1.4, 'Green', 'Green', '17.2', '27.3', 'NDA', 'NDA', 'NDA', 'NDA', 'NDA', 'NDA', 'NDA', 'NDA', 'NDA', 'NDA', 521, 46, 'NDA', 1196129.985, 1856209.466, 41.76032435, -87.55673627, 43, 'SOUTH SHORE', 7, 4, '(41.76032435, -87.55673627)'),\n",
       " (610185, 'Adlai E Stevenson Elementary School', 'ES', '8010 S Kostner Ave', 'Chicago', 'IL', 60652, '(773) 535-2280', 'http://schoolreports.cps.edu/SchoolProgressReport_Eng/Spring2011Eng_610185.pdf', 'Midway Elementary Network', 'SOUTHWEST SIDE COLLABORATIVE', 'No', 'Standard', 'Not on Probation', 'Level 2', 'No', 'Strong', 61, 'NDA', 'NDA', 'Average', 50, 'Weak', 36, 'Weak', 'NDA', 'NDA', 'NDA', 'Average', '47', 'Weak', '41', '95.70%', 2.3, '94.70%', '98.30%', '53.7', '26.6', '38.3', '34.7', '43.7', '57.3', '48.8', '39.2', '46.8', '44', '7.5', '21.9', 18.3, 15.5, -0.9, -1.0, 'Red', 'Red', 'NDA', 'NDA', 'NDA', 'NDA', 'NDA', 'NDA', 'NDA', 'NDA', 'NDA', 'NDA', 'NDA', 'NDA', 1324, 44, 'NDA', 1148427.165, 1851012.215, 41.74711093, -87.73170248, 70, 'ASHBURN', 13, 8, '(41.74711093, -87.73170248)'),\n",
       " (609993, 'Agustin Lara Elementary Academy', 'ES', '4619 S Wolcott Ave', 'Chicago', 'IL', 60609, '(773) 535-4389', 'http://schoolreports.cps.edu/SchoolProgressReport_Eng/Spring2011Eng_609993.pdf', 'Pershing Elementary Network', 'SOUTHWEST SIDE COLLABORATIVE', 'No', 'Track_E', 'Not on Probation', 'Level 1', 'No', 'Average', 56, 'Average', '44', 'Average', 45, 'Weak', 37, 'Weak', '65', 'Average', '48', 'Average', '53', 'Strong', '58', '95.50%', 10.4, '95.80%', '100.00%', '76.9', 'NDA', '26', '24.7', '61.8', '49.7', '39.2', '27.2', '69.7', '60.6', '9.1', '18.2', 11.1, 9.6, 0.9, 2.4, 'Green', 'Green', '42.9', '25', 'NDA', 'NDA', 'NDA', 'NDA', 'NDA', 'NDA', 'NDA', 'NDA', 'NDA', 'NDA', 556, 42, 'NDA', 1164504.29, 1873959.199, 41.8097569, -87.6721446, 61, 'NEW CITY', 20, 9, '(41.8097569, -87.6721446)'),\n",
       " (610513, 'Air Force Academy High School', 'HS', '3630 S Wells St', 'Chicago', 'IL', 60609, '(773) 535-1590', 'http://schoolreports.cps.edu/SchoolProgressReport_Eng/Spring2011Eng_610513.pdf', 'Southwest Side High School Network', 'SOUTHWEST SIDE COLLABORATIVE', 'NDA', 'Standard', 'Not on Probation', 'Not Enough Data', 'Yes', 'Average', 49, 'Strong', '60', 'Strong', 60, 'Average', 55, 'Weak', '45', 'Average', '54', 'Average', '53', 'Average', '49', '93.30%', 15.6, '96.90%', '100.00%', 'NDA', 'NDA', 'NDA', 'NDA', 'NDA', 'NDA', 'NDA', 'NDA', 'NDA', 'NDA', 'NDA', 'NDA', '', '', '', '', 'NDA', 'NDA', 'NDA', 'NDA', '14.6', '14.8', 'NDA', '16', '1.4', 'NDA', 'NDA', 'NDA', 'NDA', 'NDA', 302, 40, '91.8', 1175177.622, 1880745.126, 41.82814609, -87.63279369, 34, 'ARMOUR SQUARE', 11, 9, '(41.82814609, -87.63279369)')]"
      ]
     },
     "execution_count": 169,
     "metadata": {},
     "output_type": "execute_result"
    }
   ],
   "source": [
    "%sql SELECT * FROM ChicagoPublicSchools LIMIT 5"
   ]
  },
  {
   "cell_type": "code",
   "execution_count": 170,
   "id": "5a591088",
   "metadata": {},
   "outputs": [
    {
     "name": "stdout",
     "output_type": "stream",
     "text": [
      "   sqlite:///SQLiteMagic.db\n",
      " * sqlite:///db_sandbox.db\n",
      "   sqlite:///socioeconomic.db\n",
      "Done.\n"
     ]
    },
    {
     "data": {
      "text/html": [
       "<table>\n",
       "    <thead>\n",
       "        <tr>\n",
       "            <th>type</th>\n",
       "            <th>name</th>\n",
       "            <th>tbl_name</th>\n",
       "            <th>rootpage</th>\n",
       "            <th>sql</th>\n",
       "        </tr>\n",
       "    </thead>\n",
       "    <tbody>\n",
       "        <tr>\n",
       "            <td>table</td>\n",
       "            <td>INSTRUCTOR</td>\n",
       "            <td>INSTRUCTOR</td>\n",
       "            <td>2</td>\n",
       "            <td>CREATE TABLE INSTRUCTOR(ID INTEGER PRIMARY KEY NOT NULL, FNAME VARCHAR(20), LNAME VARCHAR(20), CITY VARCHAR(20), CCODE CHAR(2))</td>\n",
       "        </tr>\n",
       "        <tr>\n",
       "            <td>table</td>\n",
       "            <td>instructors</td>\n",
       "            <td>instructors</td>\n",
       "            <td>3</td>\n",
       "            <td>CREATE TABLE instructors (\r<br>\tins_id int not null,\r<br>\tlastname varchar(50), \r<br>\tfirstname varchar(50),\r<br>\tcity varchar(50),\r<br>\tcountry varchar(5)\r<br>)</td>\n",
       "        </tr>\n",
       "        <tr>\n",
       "            <td>table</td>\n",
       "            <td>ChicagoPublicSchools</td>\n",
       "            <td>ChicagoPublicSchools</td>\n",
       "            <td>4</td>\n",
       "            <td>CREATE TABLE ChicagoPublicSchools (\r<br>\tSchool_ID INTEGER,\r<br>\tNAME_OF_SCHOOL VARCHAR(64),\r<br>\t&quot;Elementary, Middle, or High School&quot; VARCHAR(50),\r<br>\tStreet_Address NVARCHAR(50),\r<br>\tCity VARCHAR(50),\r<br>\tState VARCHAR(50),\r<br>\tZIP_Code INTEGER,\r<br>\tPhone_Number NVARCHAR(50),\r<br>\tLink VARCHAR(128),\r<br>\tNetwork_Manager VARCHAR(50),\r<br>\tCollaborative_Name VARCHAR(50),\r<br>\tAdequate_Yearly_Progress_Made_ VARCHAR(50),\r<br>\tTrack_Schedule VARCHAR(50),\r<br>\tCPS_Performance_Policy_Status VARCHAR(50),\r<br>\tCPS_Performance_Policy_Level VARCHAR(50),\r<br>\tHEALTHY_SCHOOL_CERTIFIED VARCHAR(50),\r<br>\tSafety_Icon VARCHAR(50),\r<br>\tSAFETY_SCORE INTEGER,\r<br>\tFamily_Involvement_Icon VARCHAR(50),\r<br>\tFamily_Involvement_Score VARCHAR(50),\r<br>\tEnvironment_Icon VARCHAR(50),\r<br>\tEnvironment_Score INTEGER,\r<br>\tInstruction_Icon VARCHAR(50),\r<br>\tInstruction_Score INTEGER,\r<br>\tLeaders_Icon VARCHAR(50),\r<br>\tLeaders_Score VARCHAR(50),\r<br>\tTeachers_Icon VARCHAR(50),\r<br>\tTeachers_Score VARCHAR(50),\r<br>\tParent_Engagement_Icon VARCHAR(50),\r<br>\tParent_Engagement_Score VARCHAR(50),\r<br>\tParent_Environment_Icon VARCHAR(50),\r<br>\tParent_Environment_Score VARCHAR(50),\r<br>\tAVERAGE_STUDENT_ATTENDANCE NVARCHAR(50),\r<br>\tRate_of_Misconducts__per_100_students_ REAL,\r<br>\tAverage_Teacher_Attendance NVARCHAR(50),\r<br>\tIndividualized_Education_Program_Compliance_Rate NVARCHAR(50),\r<br>\tPk_2_Literacy__ VARCHAR(50),\r<br>\tPk_2_Math__ VARCHAR(50),\r<br>\tGr3_5_Grade_Level_Math__ VARCHAR(50),\r<br>\tGr3_5_Grade_Level_Read__ VARCHAR(50),\r<br>\tGr3_5_Keep_Pace_Read__ VARCHAR(50),\r<br>\tGr3_5_Keep_Pace_Math__ VARCHAR(50),\r<br>\tGr6_8_Grade_Level_Math__ VARCHAR(50),\r<br>\tGr6_8_Grade_Level_Read__ VARCHAR(50),\r<br>\tGr6_8_Keep_Pace_Math_ VARCHAR(50),\r<br>\tGr6_8_Keep_Pace_Read__ VARCHAR(50),\r<br>\tGr_8_Explore_Math__ VARCHAR(50),\r<br>\tGr_8_Explore_Read__ VARCHAR(50),\r<br>\tISAT_Exceeding_Math__ REAL,\r<br>\tISAT_Exceeding_Reading__ REAL,\r<br>\tISAT_Value_Add_Math REAL,\r<br>\tISAT_Value_Add_Read REAL,\r<br>\tISAT_Value_Add_Color_Math VARCHAR(50),\r<br>\tISAT_Value_Add_Color_Read VARCHAR(50),\r<br>\tStudents_Taking__Algebra__ VARCHAR(50),\r<br>\tStudents_Passing__Algebra__ VARCHAR(50),\r<br>\t&quot;9th Grade EXPLORE (2009)&quot; VARCHAR(50),\r<br>\t&quot;9th Grade EXPLORE (2010)&quot; VARCHAR(50),\r<br>\t&quot;10th Grade PLAN (2009)&quot; VARCHAR(50),\r<br>\t&quot;10th Grade PLAN (2010)&quot; VARCHAR(50),\r<br>\tNet_Change_EXPLORE_and_PLAN VARCHAR(50),\r<br>\t&quot;11th Grade Average ACT (2011)&quot; VARCHAR(50),\r<br>\tNet_Change_PLAN_and_ACT VARCHAR(50),\r<br>\tCollege_Eligibility__ VARCHAR(50),\r<br>\tGraduation_Rate__ VARCHAR(50),\r<br>\tCollege_Enrollment_Rate__ VARCHAR(50),\r<br>\tCOLLEGE_ENROLLMENT INTEGER,\r<br>\tGeneral_Services_Route INTEGER,\r<br>\tFreshman_on_Track_Rate__ VARCHAR(50),\r<br>\tX_COORDINATE REAL,\r<br>\tY_COORDINATE REAL,\r<br>\tLatitude REAL,\r<br>\tLongitude REAL,\r<br>\tCOMMUNITY_AREA_NUMBER INTEGER,\r<br>\tCOMMUNITY_AREA_NAME VARCHAR(50),\r<br>\tWard INTEGER,\r<br>\tPolice_District INTEGER,\r<br>\tLocation NVARCHAR(50)\r<br>)</td>\n",
       "        </tr>\n",
       "        <tr>\n",
       "            <td>table</td>\n",
       "            <td>SocioeconomicChicago</td>\n",
       "            <td>SocioeconomicChicago</td>\n",
       "            <td>100</td>\n",
       "            <td>CREATE TABLE &quot;SocioeconomicChicago&quot; (<br>&quot;COMMUNITY_AREA_NUMBER&quot; REAL,<br>  &quot;COMMUNITY_AREA_NAME&quot; TEXT,<br>  &quot;PERCENT_OF_HOUSING_CROWDED&quot; REAL,<br>  &quot;PERCENT_HOUSEHOLDS_BELOW_POVERTY&quot; REAL,<br>  &quot;PERCENT_AGED_16__UNEMPLOYED&quot; REAL,<br>  &quot;PERCENT_AGED_25__WITHOUT_HIGH_SCHOOL_DIPLOMA&quot; REAL,<br>  &quot;PERCENT_AGED_UNDER_18_OR_OVER_64&quot; REAL,<br>  &quot;PER_CAPITA_INCOME&quot; INTEGER,<br>  &quot;HARDSHIP_INDEX&quot; REAL<br>)</td>\n",
       "        </tr>\n",
       "        <tr>\n",
       "            <td>table</td>\n",
       "            <td>ChicagoCrimeData</td>\n",
       "            <td>ChicagoCrimeData</td>\n",
       "            <td>103</td>\n",
       "            <td>CREATE TABLE ChicagoCrimeData (\r<br>\tID INTEGER,\r<br>\tCASE_NUMBER VARCHAR(50),\r<br>\tDATE NVARCHAR(50),\r<br>\tBLOCK NVARCHAR(50),\r<br>\tIUCR INTEGER,\r<br>\tPRIMARY_TYPE VARCHAR(50),\r<br>\tDESCRIPTION VARCHAR(50),\r<br>\tLOCATION_DESCRIPTION VARCHAR(50),\r<br>\tARREST BOOLEAN,\r<br>\tDOMESTIC BOOLEAN,\r<br>\tBEAT INTEGER,\r<br>\tDISTRICT INTEGER,\r<br>\tWARD INTEGER,\r<br>\tCOMMUNITY_AREA_NUMBER INTEGER,\r<br>\tFBICODE INTEGER,\r<br>\tX_COORDINATE INTEGER,\r<br>\tY_COORDINATE INTEGER,\r<br>\t&quot;YEAR&quot; INTEGER,\r<br>\tLATITUDE REAL,\r<br>\tLONGITUDE REAL,\r<br>\tLOCATION NVARCHAR(50)\r<br>)</td>\n",
       "        </tr>\n",
       "    </tbody>\n",
       "</table>"
      ],
      "text/plain": [
       "[('table', 'INSTRUCTOR', 'INSTRUCTOR', 2, 'CREATE TABLE INSTRUCTOR(ID INTEGER PRIMARY KEY NOT NULL, FNAME VARCHAR(20), LNAME VARCHAR(20), CITY VARCHAR(20), CCODE CHAR(2))'),\n",
       " ('table', 'instructors', 'instructors', 3, 'CREATE TABLE instructors (\\r\\n\\tins_id int not null,\\r\\n\\tlastname varchar(50), \\r\\n\\tfirstname varchar(50),\\r\\n\\tcity varchar(50),\\r\\n\\tcountry varchar(5)\\r\\n)'),\n",
       " ('table', 'ChicagoPublicSchools', 'ChicagoPublicSchools', 4, 'CREATE TABLE ChicagoPublicSchools (\\r\\n\\tSchool_ID INTEGER,\\r\\n\\tNAME_OF_SCHOOL VARCHAR(64),\\r\\n\\t\"Elementary, Middle, or High School\" VARCHAR(50),\\r ... (2658 characters truncated) ... COMMUNITY_AREA_NUMBER INTEGER,\\r\\n\\tCOMMUNITY_AREA_NAME VARCHAR(50),\\r\\n\\tWard INTEGER,\\r\\n\\tPolice_District INTEGER,\\r\\n\\tLocation NVARCHAR(50)\\r\\n)'),\n",
       " ('table', 'SocioeconomicChicago', 'SocioeconomicChicago', 100, 'CREATE TABLE \"SocioeconomicChicago\" (\\n\"COMMUNITY_AREA_NUMBER\" REAL,\\n  \"COMMUNITY_AREA_NAME\" TEXT,\\n  \"PERCENT_OF_HOUSING_CROWDED\" REAL,\\n  \"PERCENT ... (82 characters truncated) ... T_AGED_25__WITHOUT_HIGH_SCHOOL_DIPLOMA\" REAL,\\n  \"PERCENT_AGED_UNDER_18_OR_OVER_64\" REAL,\\n  \"PER_CAPITA_INCOME\" INTEGER,\\n  \"HARDSHIP_INDEX\" REAL\\n)'),\n",
       " ('table', 'ChicagoCrimeData', 'ChicagoCrimeData', 103, 'CREATE TABLE ChicagoCrimeData (\\r\\n\\tID INTEGER,\\r\\n\\tCASE_NUMBER VARCHAR(50),\\r\\n\\tDATE NVARCHAR(50),\\r\\n\\tBLOCK NVARCHAR(50),\\r\\n\\tIUCR INTEGER,\\r\\ ... (259 characters truncated) ... ,\\r\\n\\tX_COORDINATE INTEGER,\\r\\n\\tY_COORDINATE INTEGER,\\r\\n\\t\"YEAR\" INTEGER,\\r\\n\\tLATITUDE REAL,\\r\\n\\tLONGITUDE REAL,\\r\\n\\tLOCATION NVARCHAR(50)\\r\\n)')]"
      ]
     },
     "execution_count": 170,
     "metadata": {},
     "output_type": "execute_result"
    }
   ],
   "source": [
    "%sql SELECT * FROM sqlite_master"
   ]
  },
  {
   "cell_type": "code",
   "execution_count": 190,
   "id": "518f19a2",
   "metadata": {},
   "outputs": [
    {
     "name": "stdout",
     "output_type": "stream",
     "text": [
      "   sqlite:///SQLiteMagic.db\n",
      " * sqlite:///db_sandbox.db\n",
      "   sqlite:///socioeconomic.db\n",
      "Done.\n"
     ]
    },
    {
     "data": {
      "text/html": [
       "<table>\n",
       "    <thead>\n",
       "        <tr>\n",
       "            <th>COUNT(*)</th>\n",
       "        </tr>\n",
       "    </thead>\n",
       "    <tbody>\n",
       "        <tr>\n",
       "            <td>566</td>\n",
       "        </tr>\n",
       "    </tbody>\n",
       "</table>"
      ],
      "text/plain": [
       "[(566,)]"
      ]
     },
     "execution_count": 190,
     "metadata": {},
     "output_type": "execute_result"
    }
   ],
   "source": [
    "%sql SELECT COUNT(*) FROM ChicagoPublicSchools "
   ]
  },
  {
   "cell_type": "code",
   "execution_count": 172,
   "id": "8c759e45",
   "metadata": {},
   "outputs": [
    {
     "name": "stdout",
     "output_type": "stream",
     "text": [
      "   sqlite:///SQLiteMagic.db\n",
      " * sqlite:///db_sandbox.db\n",
      "   sqlite:///socioeconomic.db\n",
      "Done.\n"
     ]
    },
    {
     "data": {
      "text/html": [
       "<table>\n",
       "    <thead>\n",
       "        <tr>\n",
       "            <th>count(name)</th>\n",
       "        </tr>\n",
       "    </thead>\n",
       "    <tbody>\n",
       "        <tr>\n",
       "            <td>78</td>\n",
       "        </tr>\n",
       "    </tbody>\n",
       "</table>"
      ],
      "text/plain": [
       "[(78,)]"
      ]
     },
     "execution_count": 172,
     "metadata": {},
     "output_type": "execute_result"
    }
   ],
   "source": [
    "%sql SELECT count(name) FROM PRAGMA_TABLE_INFO('ChicagoPublicSchools');"
   ]
  },
  {
   "cell_type": "code",
   "execution_count": 173,
   "id": "5470de1a",
   "metadata": {},
   "outputs": [
    {
     "name": "stdout",
     "output_type": "stream",
     "text": [
      "   sqlite:///SQLiteMagic.db\n",
      " * sqlite:///db_sandbox.db\n",
      "   sqlite:///socioeconomic.db\n",
      "Done.\n"
     ]
    },
    {
     "data": {
      "text/html": [
       "<table>\n",
       "    <thead>\n",
       "        <tr>\n",
       "            <th>name</th>\n",
       "            <th>type</th>\n",
       "            <th>length(type)</th>\n",
       "        </tr>\n",
       "    </thead>\n",
       "    <tbody>\n",
       "        <tr>\n",
       "            <td>School_ID</td>\n",
       "            <td>INTEGER</td>\n",
       "            <td>7</td>\n",
       "        </tr>\n",
       "        <tr>\n",
       "            <td>NAME_OF_SCHOOL</td>\n",
       "            <td>VARCHAR(64)</td>\n",
       "            <td>11</td>\n",
       "        </tr>\n",
       "        <tr>\n",
       "            <td>Elementary, Middle, or High School</td>\n",
       "            <td>VARCHAR(50)</td>\n",
       "            <td>11</td>\n",
       "        </tr>\n",
       "        <tr>\n",
       "            <td>Street_Address</td>\n",
       "            <td>NVARCHAR(50)</td>\n",
       "            <td>12</td>\n",
       "        </tr>\n",
       "        <tr>\n",
       "            <td>City</td>\n",
       "            <td>VARCHAR(50)</td>\n",
       "            <td>11</td>\n",
       "        </tr>\n",
       "    </tbody>\n",
       "</table>"
      ],
      "text/plain": [
       "[('School_ID', 'INTEGER', 7),\n",
       " ('NAME_OF_SCHOOL', 'VARCHAR(64)', 11),\n",
       " ('Elementary, Middle, or High School', 'VARCHAR(50)', 11),\n",
       " ('Street_Address', 'NVARCHAR(50)', 12),\n",
       " ('City', 'VARCHAR(50)', 11)]"
      ]
     },
     "execution_count": 173,
     "metadata": {},
     "output_type": "execute_result"
    }
   ],
   "source": [
    "%sql SELECT name, type, length(type) FROM PRAGMA_TABLE_INFO('ChicagoPublicSchools') limit 5"
   ]
  },
  {
   "cell_type": "code",
   "execution_count": 174,
   "id": "be0cd9ba",
   "metadata": {},
   "outputs": [
    {
     "name": "stdout",
     "output_type": "stream",
     "text": [
      "   sqlite:///SQLiteMagic.db\n",
      " * sqlite:///db_sandbox.db\n",
      "   sqlite:///socioeconomic.db\n",
      "Done.\n"
     ]
    },
    {
     "data": {
      "text/html": [
       "<table>\n",
       "    <thead>\n",
       "        <tr>\n",
       "            <th>name</th>\n",
       "        </tr>\n",
       "    </thead>\n",
       "    <tbody>\n",
       "        <tr>\n",
       "            <td>Elementary, Middle, or High School</td>\n",
       "        </tr>\n",
       "    </tbody>\n",
       "</table>"
      ],
      "text/plain": [
       "[('Elementary, Middle, or High School',)]"
      ]
     },
     "execution_count": 174,
     "metadata": {},
     "output_type": "execute_result"
    }
   ],
   "source": [
    "%sql SELECT name FROM PRAGMA_TABLE_INFO('ChicagoPublicSchools') where LOWER(name) like '%elementary%'"
   ]
  },
  {
   "cell_type": "code",
   "execution_count": 175,
   "id": "d0b4fc0e",
   "metadata": {},
   "outputs": [
    {
     "name": "stdout",
     "output_type": "stream",
     "text": [
      "   sqlite:///SQLiteMagic.db\n",
      " * sqlite:///db_sandbox.db\n",
      "   sqlite:///socioeconomic.db\n",
      "Done.\n"
     ]
    },
    {
     "data": {
      "text/html": [
       "<table>\n",
       "    <thead>\n",
       "        <tr>\n",
       "            <th>count(*)</th>\n",
       "        </tr>\n",
       "    </thead>\n",
       "    <tbody>\n",
       "        <tr>\n",
       "            <td>462</td>\n",
       "        </tr>\n",
       "    </tbody>\n",
       "</table>"
      ],
      "text/plain": [
       "[(462,)]"
      ]
     },
     "execution_count": 175,
     "metadata": {},
     "output_type": "execute_result"
    }
   ],
   "source": [
    "%sql select count(*) from chicagopublicschools where `Elementary, Middle, or High School` = 'ES'"
   ]
  },
  {
   "cell_type": "code",
   "execution_count": 176,
   "id": "92a8e945",
   "metadata": {},
   "outputs": [
    {
     "name": "stdout",
     "output_type": "stream",
     "text": [
      "   sqlite:///SQLiteMagic.db\n",
      " * sqlite:///db_sandbox.db\n",
      "   sqlite:///socioeconomic.db\n",
      "Done.\n"
     ]
    },
    {
     "data": {
      "text/html": [
       "<table>\n",
       "    <thead>\n",
       "        <tr>\n",
       "            <th>name</th>\n",
       "        </tr>\n",
       "    </thead>\n",
       "    <tbody>\n",
       "        <tr>\n",
       "            <td>Safety_Icon</td>\n",
       "        </tr>\n",
       "        <tr>\n",
       "            <td>SAFETY_SCORE</td>\n",
       "        </tr>\n",
       "    </tbody>\n",
       "</table>"
      ],
      "text/plain": [
       "[('Safety_Icon',), ('SAFETY_SCORE',)]"
      ]
     },
     "execution_count": 176,
     "metadata": {},
     "output_type": "execute_result"
    }
   ],
   "source": [
    "%sql SELECT name FROM PRAGMA_TABLE_INFO('ChicagoPublicSchools') where LOWER(name) like '%safety%'"
   ]
  },
  {
   "cell_type": "code",
   "execution_count": 177,
   "id": "801d54ae",
   "metadata": {},
   "outputs": [
    {
     "name": "stdout",
     "output_type": "stream",
     "text": [
      "   sqlite:///SQLiteMagic.db\n",
      " * sqlite:///db_sandbox.db\n",
      "   sqlite:///socioeconomic.db\n",
      "Done.\n"
     ]
    },
    {
     "data": {
      "text/html": [
       "<table>\n",
       "    <thead>\n",
       "        <tr>\n",
       "            <th>max(SAFETY_SCORE)</th>\n",
       "        </tr>\n",
       "    </thead>\n",
       "    <tbody>\n",
       "        <tr>\n",
       "            <td></td>\n",
       "        </tr>\n",
       "    </tbody>\n",
       "</table>"
      ],
      "text/plain": [
       "[('',)]"
      ]
     },
     "execution_count": 177,
     "metadata": {},
     "output_type": "execute_result"
    }
   ],
   "source": [
    "%sql select max(SAFETY_SCORE) from chicagopublicschools "
   ]
  },
  {
   "cell_type": "code",
   "execution_count": 178,
   "id": "73d46175",
   "metadata": {},
   "outputs": [
    {
     "name": "stdout",
     "output_type": "stream",
     "text": [
      "   sqlite:///SQLiteMagic.db\n",
      " * sqlite:///db_sandbox.db\n",
      "   sqlite:///socioeconomic.db\n",
      "Done.\n"
     ]
    },
    {
     "data": {
      "text/html": [
       "<table>\n",
       "    <thead>\n",
       "        <tr>\n",
       "            <th>name</th>\n",
       "        </tr>\n",
       "    </thead>\n",
       "    <tbody>\n",
       "        <tr>\n",
       "            <td>AVERAGE_STUDENT_ATTENDANCE</td>\n",
       "        </tr>\n",
       "        <tr>\n",
       "            <td>Average_Teacher_Attendance</td>\n",
       "        </tr>\n",
       "    </tbody>\n",
       "</table>"
      ],
      "text/plain": [
       "[('AVERAGE_STUDENT_ATTENDANCE',), ('Average_Teacher_Attendance',)]"
      ]
     },
     "execution_count": 178,
     "metadata": {},
     "output_type": "execute_result"
    }
   ],
   "source": [
    "%sql SELECT name FROM PRAGMA_TABLE_INFO('ChicagoPublicSchools') where LOWER(name) like '%ATTENDANCE%'"
   ]
  },
  {
   "cell_type": "code",
   "execution_count": 179,
   "id": "87d8e545",
   "metadata": {},
   "outputs": [
    {
     "name": "stdout",
     "output_type": "stream",
     "text": [
      "   sqlite:///SQLiteMagic.db\n",
      " * sqlite:///db_sandbox.db\n",
      "   sqlite:///socioeconomic.db\n",
      "Done.\n"
     ]
    },
    {
     "data": {
      "text/html": [
       "<table>\n",
       "    <thead>\n",
       "        <tr>\n",
       "            <th>NAME_OF_SCHOOL</th>\n",
       "            <th>AVERAGE_STUDENT_ATTENDANCE</th>\n",
       "        </tr>\n",
       "    </thead>\n",
       "    <tbody>\n",
       "        <tr>\n",
       "            <td>John Charles Haines Elementary School</td>\n",
       "            <td>98.40%</td>\n",
       "        </tr>\n",
       "        <tr>\n",
       "            <td>James Ward Elementary School</td>\n",
       "            <td>97.80%</td>\n",
       "        </tr>\n",
       "        <tr>\n",
       "            <td>Edgar Allan Poe Elementary Classical School</td>\n",
       "            <td>97.60%</td>\n",
       "        </tr>\n",
       "        <tr>\n",
       "            <td>Orozco Fine Arts &amp; Sciences Elementary School</td>\n",
       "            <td>97.60%</td>\n",
       "        </tr>\n",
       "        <tr>\n",
       "            <td>Rachel Carson Elementary School</td>\n",
       "            <td>97.60%</td>\n",
       "        </tr>\n",
       "        <tr>\n",
       "            <td>Annie Keller Elementary Gifted Magnet School</td>\n",
       "            <td>97.50%</td>\n",
       "        </tr>\n",
       "        <tr>\n",
       "            <td>Andrew Jackson Elementary Language Academy</td>\n",
       "            <td>97.40%</td>\n",
       "        </tr>\n",
       "        <tr>\n",
       "            <td>Lenart Elementary Regional Gifted Center</td>\n",
       "            <td>97.40%</td>\n",
       "        </tr>\n",
       "        <tr>\n",
       "            <td>Disney II Magnet School</td>\n",
       "            <td>97.30%</td>\n",
       "        </tr>\n",
       "        <tr>\n",
       "            <td>John H Vanderpoel Elementary Magnet School</td>\n",
       "            <td>97.20%</td>\n",
       "        </tr>\n",
       "    </tbody>\n",
       "</table>"
      ],
      "text/plain": [
       "[('John Charles Haines Elementary School', '98.40%'),\n",
       " ('James Ward Elementary School', '97.80%'),\n",
       " ('Edgar Allan Poe Elementary Classical School', '97.60%'),\n",
       " ('Orozco Fine Arts & Sciences Elementary School', '97.60%'),\n",
       " ('Rachel Carson Elementary School', '97.60%'),\n",
       " ('Annie Keller Elementary Gifted Magnet School', '97.50%'),\n",
       " ('Andrew Jackson Elementary Language Academy', '97.40%'),\n",
       " ('Lenart Elementary Regional Gifted Center', '97.40%'),\n",
       " ('Disney II Magnet School', '97.30%'),\n",
       " ('John H Vanderpoel Elementary Magnet School', '97.20%')]"
      ]
     },
     "execution_count": 179,
     "metadata": {},
     "output_type": "execute_result"
    }
   ],
   "source": [
    "%sql select NAME_OF_SCHOOL, AVERAGE_STUDENT_ATTENDANCE from chicagopublicschools ORDER BY AVERAGE_STUDENT_ATTENDANCE DESC LIMIT 10"
   ]
  },
  {
   "cell_type": "code",
   "execution_count": 180,
   "id": "108034a2",
   "metadata": {},
   "outputs": [
    {
     "name": "stdout",
     "output_type": "stream",
     "text": [
      "   sqlite:///SQLiteMagic.db\n",
      " * sqlite:///db_sandbox.db\n",
      "   sqlite:///socioeconomic.db\n",
      "Done.\n"
     ]
    },
    {
     "data": {
      "text/html": [
       "<table>\n",
       "    <thead>\n",
       "        <tr>\n",
       "            <th>NAME_OF_SCHOOL</th>\n",
       "            <th>AVG_ATTENDENCE</th>\n",
       "        </tr>\n",
       "    </thead>\n",
       "    <tbody>\n",
       "        <tr>\n",
       "            <td>Richard T Crane Technical Preparatory High School</td>\n",
       "            <td>57.90</td>\n",
       "        </tr>\n",
       "        <tr>\n",
       "            <td>Barbara Vick Early Childhood &amp; Family Center</td>\n",
       "            <td>60.90</td>\n",
       "        </tr>\n",
       "        <tr>\n",
       "            <td>Dyett High School</td>\n",
       "            <td>62.50</td>\n",
       "        </tr>\n",
       "        <tr>\n",
       "            <td>Wendell Phillips Academy High School</td>\n",
       "            <td>63.00</td>\n",
       "        </tr>\n",
       "        <tr>\n",
       "            <td>Orr Academy High School</td>\n",
       "            <td>66.30</td>\n",
       "        </tr>\n",
       "    </tbody>\n",
       "</table>"
      ],
      "text/plain": [
       "[('Richard T Crane Technical Preparatory High School', '57.90'),\n",
       " ('Barbara Vick Early Childhood & Family Center', '60.90'),\n",
       " ('Dyett High School', '62.50'),\n",
       " ('Wendell Phillips Academy High School', '63.00'),\n",
       " ('Orr Academy High School', '66.30')]"
      ]
     },
     "execution_count": 180,
     "metadata": {},
     "output_type": "execute_result"
    }
   ],
   "source": [
    "%sql select NAME_OF_SCHOOL, REPLACE(AVERAGE_STUDENT_ATTENDANCE, '%', '') AS AVG_ATTENDENCE from chicagopublicschools WHERE AVERAGE_STUDENT_ATTENDANCE != ''  ORDER BY AVERAGE_STUDENT_ATTENDANCE LIMIT 5"
   ]
  },
  {
   "cell_type": "code",
   "execution_count": 181,
   "id": "640697a0",
   "metadata": {},
   "outputs": [
    {
     "name": "stdout",
     "output_type": "stream",
     "text": [
      "   sqlite:///SQLiteMagic.db\n",
      " * sqlite:///db_sandbox.db\n",
      "   sqlite:///socioeconomic.db\n",
      "Done.\n"
     ]
    },
    {
     "data": {
      "text/html": [
       "<table>\n",
       "    <thead>\n",
       "        <tr>\n",
       "            <th>NAME_OF_SCHOOL</th>\n",
       "            <th>AVG_ATTENDENCE</th>\n",
       "        </tr>\n",
       "    </thead>\n",
       "    <tbody>\n",
       "        <tr>\n",
       "            <td>Velma F Thomas Early Childhood Center</td>\n",
       "            <td>0.0</td>\n",
       "        </tr>\n",
       "        <tr>\n",
       "            <td>Richard T Crane Technical Preparatory High School</td>\n",
       "            <td>57.9</td>\n",
       "        </tr>\n",
       "        <tr>\n",
       "            <td>Barbara Vick Early Childhood &amp; Family Center</td>\n",
       "            <td>60.9</td>\n",
       "        </tr>\n",
       "        <tr>\n",
       "            <td>Dyett High School</td>\n",
       "            <td>62.5</td>\n",
       "        </tr>\n",
       "        <tr>\n",
       "            <td>Wendell Phillips Academy High School</td>\n",
       "            <td>63.0</td>\n",
       "        </tr>\n",
       "    </tbody>\n",
       "</table>"
      ],
      "text/plain": [
       "[('Velma F Thomas Early Childhood Center', 0.0),\n",
       " ('Richard T Crane Technical Preparatory High School', 57.9),\n",
       " ('Barbara Vick Early Childhood & Family Center', 60.9),\n",
       " ('Dyett High School', 62.5),\n",
       " ('Wendell Phillips Academy High School', 63.0)]"
      ]
     },
     "execution_count": 181,
     "metadata": {},
     "output_type": "execute_result"
    }
   ],
   "source": [
    "%sql select NAME_OF_SCHOOL, CAST(REPLACE(AVERAGE_STUDENT_ATTENDANCE, '%', '') AS FLOAT) AS AVG_ATTENDENCE from chicagopublicschools WHERE AVG_ATTENDENCE < 70.00 ORDER BY AVERAGE_STUDENT_ATTENDANCE LIMIT 5"
   ]
  },
  {
   "cell_type": "code",
   "execution_count": 182,
   "id": "7f3e7064",
   "metadata": {},
   "outputs": [
    {
     "name": "stdout",
     "output_type": "stream",
     "text": [
      "   sqlite:///SQLiteMagic.db\n",
      " * sqlite:///db_sandbox.db\n",
      "   sqlite:///socioeconomic.db\n",
      "Done.\n"
     ]
    },
    {
     "data": {
      "text/html": [
       "<table>\n",
       "    <thead>\n",
       "        <tr>\n",
       "            <th>name</th>\n",
       "        </tr>\n",
       "    </thead>\n",
       "    <tbody>\n",
       "        <tr>\n",
       "            <td>COMMUNITY_AREA_NUMBER</td>\n",
       "        </tr>\n",
       "        <tr>\n",
       "            <td>COMMUNITY_AREA_NAME</td>\n",
       "        </tr>\n",
       "    </tbody>\n",
       "</table>"
      ],
      "text/plain": [
       "[('COMMUNITY_AREA_NUMBER',), ('COMMUNITY_AREA_NAME',)]"
      ]
     },
     "execution_count": 182,
     "metadata": {},
     "output_type": "execute_result"
    }
   ],
   "source": [
    "%sql SELECT name FROM PRAGMA_TABLE_INFO('ChicagoPublicSchools') where LOWER(name) like '%community%'"
   ]
  },
  {
   "cell_type": "code",
   "execution_count": 183,
   "id": "56f23662",
   "metadata": {},
   "outputs": [
    {
     "name": "stdout",
     "output_type": "stream",
     "text": [
      "   sqlite:///SQLiteMagic.db\n",
      " * sqlite:///db_sandbox.db\n",
      "   sqlite:///socioeconomic.db\n",
      "Done.\n"
     ]
    },
    {
     "data": {
      "text/html": [
       "<table>\n",
       "    <thead>\n",
       "        <tr>\n",
       "            <th>COMMUNITY_AREA_NAME</th>\n",
       "            <th>TOTAL_COLL_ENROLLMENT</th>\n",
       "        </tr>\n",
       "    </thead>\n",
       "    <tbody>\n",
       "        <tr>\n",
       "            <td>OAKLAND</td>\n",
       "            <td>140</td>\n",
       "        </tr>\n",
       "        <tr>\n",
       "            <td>FULLER PARK</td>\n",
       "            <td>531</td>\n",
       "        </tr>\n",
       "        <tr>\n",
       "            <td>BURNSIDE</td>\n",
       "            <td>549</td>\n",
       "        </tr>\n",
       "        <tr>\n",
       "            <td>OHARE</td>\n",
       "            <td>786</td>\n",
       "        </tr>\n",
       "        <tr>\n",
       "            <td>LOOP</td>\n",
       "            <td>871</td>\n",
       "        </tr>\n",
       "    </tbody>\n",
       "</table>"
      ],
      "text/plain": [
       "[('OAKLAND', 140),\n",
       " ('FULLER PARK', 531),\n",
       " ('BURNSIDE', 549),\n",
       " ('OHARE', 786),\n",
       " ('LOOP', 871)]"
      ]
     },
     "execution_count": 183,
     "metadata": {},
     "output_type": "execute_result"
    }
   ],
   "source": [
    "%sql select COMMUNITY_AREA_NAME, SUM(COLLEGE_ENROLLMENT) as TOTAL_COLL_ENROLLMENT from chicagopublicschools group BY COMMUNITY_AREA_NAME ORDER BY TOTAL_COLL_ENROLLMENT LIMIT 5"
   ]
  },
  {
   "cell_type": "code",
   "execution_count": 184,
   "id": "a5e1e0bb",
   "metadata": {},
   "outputs": [
    {
     "name": "stdout",
     "output_type": "stream",
     "text": [
      "   sqlite:///SQLiteMagic.db\n",
      " * sqlite:///db_sandbox.db\n",
      "   sqlite:///socioeconomic.db\n",
      "Done.\n"
     ]
    },
    {
     "data": {
      "text/html": [
       "<table>\n",
       "    <thead>\n",
       "        <tr>\n",
       "            <th>name</th>\n",
       "        </tr>\n",
       "    </thead>\n",
       "    <tbody>\n",
       "        <tr>\n",
       "            <td>NAME_OF_SCHOOL</td>\n",
       "        </tr>\n",
       "        <tr>\n",
       "            <td>Collaborative_Name</td>\n",
       "        </tr>\n",
       "        <tr>\n",
       "            <td>COMMUNITY_AREA_NAME</td>\n",
       "        </tr>\n",
       "    </tbody>\n",
       "</table>"
      ],
      "text/plain": [
       "[('NAME_OF_SCHOOL',), ('Collaborative_Name',), ('COMMUNITY_AREA_NAME',)]"
      ]
     },
     "execution_count": 184,
     "metadata": {},
     "output_type": "execute_result"
    }
   ],
   "source": [
    "%sql SELECT name FROM PRAGMA_TABLE_INFO('ChicagoPublicSchools') where LOWER(name) like '%name%'"
   ]
  },
  {
   "cell_type": "code",
   "execution_count": 185,
   "id": "f31fac86",
   "metadata": {},
   "outputs": [
    {
     "name": "stdout",
     "output_type": "stream",
     "text": [
      "   sqlite:///SQLiteMagic.db\n",
      " * sqlite:///db_sandbox.db\n",
      "   sqlite:///socioeconomic.db\n",
      "Done.\n"
     ]
    },
    {
     "data": {
      "text/html": [
       "<table>\n",
       "    <thead>\n",
       "        <tr>\n",
       "            <th>NAME_OF_SCHOOL</th>\n",
       "            <th>SAFETY_SCORE</th>\n",
       "        </tr>\n",
       "    </thead>\n",
       "    <tbody>\n",
       "        <tr>\n",
       "            <td>Edmond Burke Elementary School</td>\n",
       "            <td>1</td>\n",
       "        </tr>\n",
       "        <tr>\n",
       "            <td>Luke O&#x27;Toole Elementary School</td>\n",
       "            <td>5</td>\n",
       "        </tr>\n",
       "        <tr>\n",
       "            <td>George W Tilton Elementary School</td>\n",
       "            <td>6</td>\n",
       "        </tr>\n",
       "        <tr>\n",
       "            <td>Foster Park Elementary School</td>\n",
       "            <td>11</td>\n",
       "        </tr>\n",
       "        <tr>\n",
       "            <td>Emil G Hirsch Metropolitan High School</td>\n",
       "            <td>13</td>\n",
       "        </tr>\n",
       "    </tbody>\n",
       "</table>"
      ],
      "text/plain": [
       "[('Edmond Burke Elementary School', 1),\n",
       " (\"Luke O'Toole Elementary School\", 5),\n",
       " ('George W Tilton Elementary School', 6),\n",
       " ('Foster Park Elementary School', 11),\n",
       " ('Emil G Hirsch Metropolitan High School', 13)]"
      ]
     },
     "execution_count": 185,
     "metadata": {},
     "output_type": "execute_result"
    }
   ],
   "source": [
    "%sql select NAME_OF_SCHOOL, SAFETY_SCORE from chicagopublicschools ORDER BY SAFETY_SCORE LIMIT 5"
   ]
  },
  {
   "cell_type": "code",
   "execution_count": 186,
   "id": "aa33260a",
   "metadata": {},
   "outputs": [
    {
     "data": {
      "text/plain": [
       "78"
      ]
     },
     "execution_count": 186,
     "metadata": {},
     "output_type": "execute_result"
    }
   ],
   "source": [
    "con = sqlite3.connect('db_sandbox.db')\n",
    "df = pd.read_csv(\"https://cf-courses-data.s3.us.cloud-object-storage.appdomain.cloud/IBMDeveloperSkillsNetwork-DB0201EN-SkillsNetwork/labs/FinalModule_Coursera_V5/data/ChicagoCensusData.csv\")\n",
    "df.to_sql(\"CENSUS_DATA\", con, if_exists='replace', index=False,method=\"multi\")\n"
   ]
  },
  {
   "cell_type": "code",
   "execution_count": 187,
   "id": "749de8d7",
   "metadata": {},
   "outputs": [
    {
     "name": "stdout",
     "output_type": "stream",
     "text": [
      "   sqlite:///SQLiteMagic.db\n",
      " * sqlite:///db_sandbox.db\n",
      "   sqlite:///socioeconomic.db\n",
      "Done.\n"
     ]
    },
    {
     "data": {
      "text/html": [
       "<table>\n",
       "    <thead>\n",
       "        <tr>\n",
       "            <th>name</th>\n",
       "        </tr>\n",
       "    </thead>\n",
       "    <tbody>\n",
       "        <tr>\n",
       "            <td>HARDSHIP_INDEX</td>\n",
       "        </tr>\n",
       "    </tbody>\n",
       "</table>"
      ],
      "text/plain": [
       "[('HARDSHIP_INDEX',)]"
      ]
     },
     "execution_count": 187,
     "metadata": {},
     "output_type": "execute_result"
    }
   ],
   "source": [
    "%sql SELECT name FROM PRAGMA_TABLE_INFO('CENSUS_DATA') WHERE name like '%hardship%'"
   ]
  },
  {
   "cell_type": "code",
   "execution_count": 188,
   "id": "de659ccb",
   "metadata": {},
   "outputs": [
    {
     "name": "stdout",
     "output_type": "stream",
     "text": [
      "   sqlite:///SQLiteMagic.db\n",
      " * sqlite:///db_sandbox.db\n",
      "   sqlite:///socioeconomic.db\n",
      "Done.\n"
     ]
    },
    {
     "data": {
      "text/html": [
       "<table>\n",
       "    <thead>\n",
       "        <tr>\n",
       "            <th>COMMUNITY_AREA_NAME</th>\n",
       "        </tr>\n",
       "    </thead>\n",
       "    <tbody>\n",
       "        <tr>\n",
       "            <td>Rogers Park</td>\n",
       "        </tr>\n",
       "        <tr>\n",
       "            <td>West Ridge</td>\n",
       "        </tr>\n",
       "        <tr>\n",
       "            <td>Uptown</td>\n",
       "        </tr>\n",
       "        <tr>\n",
       "            <td>Lincoln Square</td>\n",
       "        </tr>\n",
       "        <tr>\n",
       "            <td>North Center</td>\n",
       "        </tr>\n",
       "    </tbody>\n",
       "</table>"
      ],
      "text/plain": [
       "[('Rogers Park',),\n",
       " ('West Ridge',),\n",
       " ('Uptown',),\n",
       " ('Lincoln Square',),\n",
       " ('North Center',)]"
      ]
     },
     "execution_count": 188,
     "metadata": {},
     "output_type": "execute_result"
    }
   ],
   "source": [
    "%sql SELECT COMMUNITY_AREA_NAME FROM CENSUS_DATA LIMIT 5"
   ]
  },
  {
   "cell_type": "code",
   "execution_count": 189,
   "id": "331f5053",
   "metadata": {},
   "outputs": [
    {
     "name": "stdout",
     "output_type": "stream",
     "text": [
      "   sqlite:///SQLiteMagic.db\n",
      " * sqlite:///db_sandbox.db\n",
      "   sqlite:///socioeconomic.db\n",
      "Done.\n"
     ]
    },
    {
     "data": {
      "text/html": [
       "<table>\n",
       "    <thead>\n",
       "        <tr>\n",
       "            <th>TOTAL_COLL_ENROLLMENT</th>\n",
       "            <th>COMMUNITY_AREA_NAME</th>\n",
       "            <th>HARDSHIP_INDEX</th>\n",
       "        </tr>\n",
       "    </thead>\n",
       "    <tbody>\n",
       "        <tr>\n",
       "            <td>14793</td>\n",
       "            <td>SOUTH LAWNDALE</td>\n",
       "            <td>96.0</td>\n",
       "        </tr>\n",
       "    </tbody>\n",
       "</table>"
      ],
      "text/plain": [
       "[(14793, 'SOUTH LAWNDALE', 96.0)]"
      ]
     },
     "execution_count": 189,
     "metadata": {},
     "output_type": "execute_result"
    }
   ],
   "source": [
    "%%sql \n",
    "SELECT \n",
    "    SUM(school.COLLEGE_ENROLLMENT) as TOTAL_COLL_ENROLLMENT,\n",
    "    school.COMMUNITY_AREA_NAME,\n",
    "    census.HARDSHIP_INDEX\n",
    "FROM ChicagoPublicSchools school\n",
    "INNER JOIN CENSUS_DATA census ON \n",
    "    census.COMMUNITY_AREA_NUMBER = school.COMMUNITY_AREA_NUMBER\n",
    "GROUP BY school.COMMUNITY_AREA_NAME\n",
    "ORDER BY TOTAL_COLL_ENROLLMENT DESC\n",
    "LIMIT 1"
   ]
  }
 ],
 "metadata": {
  "kernelspec": {
   "display_name": "Python 3",
   "language": "python",
   "name": "python3"
  },
  "language_info": {
   "codemirror_mode": {
    "name": "ipython",
    "version": 3
   },
   "file_extension": ".py",
   "mimetype": "text/x-python",
   "name": "python",
   "nbconvert_exporter": "python",
   "pygments_lexer": "ipython3",
   "version": "3.9.1"
  }
 },
 "nbformat": 4,
 "nbformat_minor": 5
}

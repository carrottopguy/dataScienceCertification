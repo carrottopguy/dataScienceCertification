{
 "cells": [
  {
   "cell_type": "markdown",
   "id": "6f3f3f14",
   "metadata": {},
   "source": [
    "# Extracting Sock Data ~ Python Project"
   ]
  },
  {
   "cell_type": "code",
   "execution_count": 1,
   "id": "d73760d9",
   "metadata": {},
   "outputs": [
    {
     "name": "stdout",
     "output_type": "stream",
     "text": [
      "                               Open      High       Low     Close     Volume  \\\n",
      "Date                                                                           \n",
      "1980-12-12 00:00:00-05:00  0.098485  0.098913  0.098485  0.098485  469033600   \n",
      "1980-12-15 00:00:00-05:00  0.093775  0.093775  0.093347  0.093347  175884800   \n",
      "1980-12-16 00:00:00-05:00  0.086924  0.086924  0.086495  0.086495  105728000   \n",
      "1980-12-17 00:00:00-05:00  0.088636  0.089064  0.088636  0.088636   86441600   \n",
      "1980-12-18 00:00:00-05:00  0.091206  0.091634  0.091206  0.091206   73449600   \n",
      "\n",
      "                           Dividends  Stock Splits  \n",
      "Date                                                \n",
      "1980-12-12 00:00:00-05:00        0.0           0.0  \n",
      "1980-12-15 00:00:00-05:00        0.0           0.0  \n",
      "1980-12-16 00:00:00-05:00        0.0           0.0  \n",
      "1980-12-17 00:00:00-05:00        0.0           0.0  \n",
      "1980-12-18 00:00:00-05:00        0.0           0.0  \n"
     ]
    },
    {
     "data": {
      "text/plain": [
       "<Axes: xlabel='Date'>"
      ]
     },
     "execution_count": 1,
     "metadata": {},
     "output_type": "execute_result"
    },
    {
     "data": {
      "image/png": "[encoded data removed]",
      "text/plain": [
       "<Figure size 640x480 with 1 Axes>"
      ]
     },
     "metadata": {},
     "output_type": "display_data"
    }
   ],
   "source": [
    "import yfinance as yf\n",
    "import pandas as pd\n",
    "import matplotlib as mpl\n",
    "\n",
    "# Test yf.Ticker\n",
    "apple = yf.Ticker('AAPL')\n",
    "apple_share_price_data = apple.history(period=\"max\")\n",
    "# print(apple_share_price_data.shape)\n",
    "print(apple_share_price_data.head())\n",
    "# print(apple_share_price_data.tail())\n",
    "apple_share_price_data.reset_index(inplace=True)\n",
    "apple_share_price_data.plot(x='Date', y='Open')\n",
    "apple.dividends.plot()\n"
   ]
  },
  {
   "cell_type": "code",
   "execution_count": 2,
   "id": "a9085c37",
   "metadata": {},
   "outputs": [
    {
     "name": "stdout",
     "output_type": "stream",
     "text": [
      "file download successfully to apple.json\n"
     ]
    }
   ],
   "source": [
    "import sys\n",
    "\n",
    "sys.path.append(r'C:\\\\Code\\\\Python\\\\HelperFunctions')\n",
    "from helperFunctions import download_file\n",
    "\n",
    "filename = 'apple.json'\n",
    "url = 'https://cf-courses-data.s3.us.cloud-object-storage.appdomain.cloud/IBMDeveloperSkillsNetwork-PY0220EN-SkillsNetwork/data/apple.json'\n",
    "download_file(url, filename)\n",
    "df = pd.read_csv(filename, header=None)\n",
    "\n"
   ]
  },
  {
   "cell_type": "code",
   "execution_count": 3,
   "id": "8fdc246c",
   "metadata": {},
   "outputs": [],
   "source": [
    "# JSON object ticker\n",
    "import json\n",
    "\n",
    "filename = 'apple.json'\n",
    "with open(filename) as f:\n",
    "    apple_info = json.load(f)\n"
   ]
  },
  {
   "cell_type": "code",
   "execution_count": 4,
   "id": "10515bdd",
   "metadata": {},
   "outputs": [
    {
     "name": "stdout",
     "output_type": "stream",
     "text": [
      "website ~ https://www.amd.com\n",
      "country ~ United States\n",
      "sector ~ Technology\n",
      "industry ~ Semiconductors\n",
      "                            Open      High    Low     Close  Volume  \\\n",
      "Date                                                                  \n",
      "1980-03-17 00:00:00-05:00  3.125  3.302083  3.125  3.145833  219600   \n",
      "\n",
      "                           Dividends  Stock Splits  \n",
      "Date                                                \n",
      "1980-03-17 00:00:00-05:00        0.0           0.0  \n"
     ]
    }
   ],
   "source": [
    "import yfinance as yf\n",
    "import pandas as pd\n",
    "import matplotlib.pyplot as plt\n",
    "\n",
    "# ticker class\n",
    "\n",
    "class financeBro(object):\n",
    "    def __init__(self, symbol):\n",
    "        self.symbol = symbol\n",
    "        try:\n",
    "            self.ticker = yf.Ticker(symbol)\n",
    "        except (ValueError, KeyError) as e:\n",
    "            print('Invalid Symbol', symbol)\n",
    "        self.history = self.ticker.history(period='max')\n",
    "            \n",
    "    def plot_history(self):\n",
    "        pass\n",
    "\n",
    "\n",
    "\n",
    "amd = financeBro('AMD')\n",
    "for key in ['website', 'country', 'sector', 'industry']:\n",
    "    print(key, '~', amd.ticker.info[key])\n",
    "print(amd.history.sort_values(by='Date').head(1))\n",
    "\n"
   ]
  },
  {
   "cell_type": "code",
   "execution_count": 5,
   "id": "a1a59067",
   "metadata": {},
   "outputs": [
    {
     "name": "stdout",
     "output_type": "stream",
     "text": [
      "Error processing HTML: name 'nflx' is not defined\n",
      "Title: Amazon.com, Inc. (AMZN) Stock Historical Prices & Data - Yahoo Finance\n",
      "Headers: ['Date', 'Open', 'High', 'Low', 'Close*', 'Adj Close**', 'Volume']\n",
      "           Date      Open      High       Low    Close* Adj Close**  \\\n",
      "0  Jan 01, 2021  3,270.00  3,363.89  3,086.00  3,206.20    3,206.20   \n",
      "1  Dec 01, 2020  3,188.50  3,350.65  3,072.82  3,256.93    3,256.93   \n",
      "2  Nov 01, 2020  3,061.74  3,366.80  2,950.12  3,168.04    3,168.04   \n",
      "3  Oct 01, 2020  3,208.00  3,496.24  3,019.00  3,036.15    3,036.15   \n",
      "4  Sep 01, 2020  3,489.58  3,552.25  2,871.00  3,148.73    3,148.73   \n",
      "\n",
      "        Volume  \n",
      "0   71,528,900  \n",
      "1   77,556,200  \n",
      "2   90,810,500  \n",
      "3  116,226,100  \n",
      "4  115,899,300  \n",
      "            Date    Open    High     Low  Close* Adj Close**       Volume\n",
      "56  May 01, 2016  663.92  724.23  656.00  722.79      722.79   90,614,500\n",
      "57  Apr 01, 2016  590.49  669.98  585.25  659.59      659.59   78,464,200\n",
      "58  Mar 01, 2016  556.29  603.24  538.58  593.64      593.64   94,009,500\n",
      "59  Feb 01, 2016  578.15  581.80  474.00  552.52      552.52  124,144,800\n",
      "60  Jan 01, 2016  656.29  657.72  547.18  587.00      587.00  130,200,900\n"
     ]
    }
   ],
   "source": [
    "import pandas as pd\n",
    "import requests\n",
    "from bs4 import BeautifulSoup\n",
    "\n",
    "import warnings\n",
    "# Ignore all warnings\n",
    "warnings.filterwarnings(\"ignore\", category=FutureWarning)\n",
    "\n",
    "\n",
    "class scrapeFinanceBro(object):\n",
    "    def __init__(self, url):\n",
    "        self.url = url\n",
    "        self.raw_html = None\n",
    "        self.soup = None\n",
    "        self.history_ingredients = None\n",
    "        self.history_ingredients_full = []\n",
    "        self.history_df = None\n",
    "        self.download_html(url=self.url)\n",
    "        self.make_soup(html=self.raw_html)\n",
    "\n",
    "    def import_ingredients(self, ingredients):\n",
    "        self.history_ingredients = ingredients\n",
    "        self.extract_ingredients(ingredients=ingredients)\n",
    "\n",
    "    def download_html(self, url):\n",
    "        try:\n",
    "            r = requests.get(url)\n",
    "            if r.status_code == 200:\n",
    "                self.raw_html = r.content\n",
    "            else:\n",
    "                print('Error accessing URL: HTTP Status Code', r.status_code)\n",
    "        except Exception as e:\n",
    "            print('Error accessing URL:', e)    \n",
    "\n",
    "    def make_soup(self, html):\n",
    "        try:\n",
    "            self.soup = BeautifulSoup(html, 'html.parser')\n",
    "            self.extract_ingredients(soup=self.soup, ingredients=self.history_ingredients)\n",
    "        except Exception as e:\n",
    "            print('Error processing HTML:', e)\n",
    "\n",
    "    def extract_ingredients(self, soup, ingredients):\n",
    "        for item in nflx.soup.find('table').find_all('th'):\n",
    "            self.history_ingredients_full.append(item.text)\n",
    "        if ingredients:\n",
    "            headers = ingredients\n",
    "        else:\n",
    "            headers = self.history_ingredients_full\n",
    "        rows = soup.find('tbody').find_all('tr')\n",
    "        self.history_df = pd.DataFrame(index=range(len(rows)), columns=headers)\n",
    "        for row_index, row in enumerate(rows):\n",
    "            col = row.find_all('td')\n",
    "            for index, key in enumerate(headers):\n",
    "                self.history_df.loc[row_index, key] = col[index].text \n",
    "\n",
    "    def plot_history(self):\n",
    "        pass\n",
    "\n",
    "\n",
    "\n",
    "nflx_url = 'https://cf-courses-data.s3.us.cloud-object-storage.appdomain.cloud/IBMDeveloperSkillsNetwork-PY0220EN-SkillsNetwork/labs/project/netflix_data_webpage.html'\n",
    "nflx = scrapeFinanceBro(nflx_url)\n",
    "# print(nflx.history_df)\n",
    "\n",
    "amzn_url = 'https://cf-courses-data.s3.us.cloud-object-storage.appdomain.cloud/IBMDeveloperSkillsNetwork-PY0220EN-SkillsNetwork/labs/project/amazon_data_webpage.html'\n",
    "amzn = scrapeFinanceBro(amzn_url)\n",
    "print('Title:', amzn.soup.find('title').text)\n",
    "print('Headers:', amzn.history_df.columns.to_list())\n",
    "print(amzn.history_df.head())\n",
    "print(amzn.history_df.tail())\n"
   ]
  },
  {
   "cell_type": "code",
   "execution_count": null,
   "id": "2e101ece",
   "metadata": {},
   "outputs": [],
   "source": []
  }
 ],
 "metadata": {
  "kernelspec": {
   "display_name": "Python 3",
   "language": "python",
   "name": "python3"
  },
  "language_info": {
   "codemirror_mode": {
    "name": "ipython",
    "version": 3
   },
   "file_extension": ".py",
   "mimetype": "text/x-python",
   "name": "python",
   "nbconvert_exporter": "python",
   "pygments_lexer": "ipython3",
   "version": "3.9.1"
  }
 },
 "nbformat": 4,
 "nbformat_minor": 5
}

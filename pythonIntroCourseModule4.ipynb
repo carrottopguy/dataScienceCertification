{
 "cells": [
  {
   "cell_type": "markdown",
   "id": "45a65e22",
   "metadata": {},
   "source": [
    "# Intro to Python: Projects"
   ]
  },
  {
   "cell_type": "markdown",
   "id": "7b575a35",
   "metadata": {},
   "source": [
    "## Module 4 Project 1 ~ Reading Files"
   ]
  },
  {
   "cell_type": "code",
   "execution_count": 16,
   "id": "f6a7a4ab",
   "metadata": {},
   "outputs": [
    {
     "name": "stdout",
     "output_type": "stream",
     "text": [
      "file mode: r\n",
      "filename: example1.txt\n",
      "Raw File:\n",
      " This is line 1\n",
      "This is line 2\n",
      "This is line 3\n",
      "4 characters from file: \t This\n",
      "4 characters from file: \t  is \n",
      "7 characters from file: \t line 1\n",
      "\n",
      "15 characters from file: \t This is line 2\n",
      "\n",
      "4 characters from file: \t This\n",
      "7 characters from file: \t  is lin\n",
      "100 characters from file: \t e 1\n",
      "\n",
      "Line 1 = This is line 1\n",
      "Line 2 = This is line 2\n",
      "Line 3 = This is line 3\n"
     ]
    }
   ],
   "source": [
    "# Read() command\n",
    "with open('example1.txt', 'r') as file:\n",
    "    print('file mode:', file.mode)\n",
    "    print('filename:', file.name)\n",
    "    text = file.read()\n",
    "    print('Raw File:\\n', text) \n",
    "    \n",
    "# Read with counts\n",
    "with open('example1.txt', 'r') as file:\n",
    "    characterCounts = [4, 4, 7, 15]\n",
    "    for count in characterCounts:\n",
    "        print(count, 'characters from file: \\t', file.read(count))\n",
    "\n",
    "# Readline ~ will not read more than the lines characters\n",
    "with open('example1.txt', 'r') as file:\n",
    "    characterCounts = [4, 7, 100]\n",
    "    for count in characterCounts:\n",
    "        print(count, 'characters from file: \\t', file.readline(count))\n",
    "\n",
    "\n",
    "# Readlines\n",
    "with open('example1.txt', 'r', newline='') as file:\n",
    "    contents = file.readlines()\n",
    "    for index, line in enumerate(contents, start=1):\n",
    "        print('Line', index, '=', line.replace('\\n',''))"
   ]
  },
  {
   "cell_type": "markdown",
   "id": "75972512",
   "metadata": {},
   "source": [
    "## Module 4 Project 2 ~ Writing Files"
   ]
  },
  {
   "cell_type": "code",
   "execution_count": 19,
   "id": "570ab38d",
   "metadata": {},
   "outputs": [
    {
     "name": "stdout",
     "output_type": "stream",
     "text": [
      "Initial Written File:\n",
      "This is line A\n",
      "This is line B\n",
      "\n",
      "Appended File:\n",
      "This is line A\n",
      "This is line B\n",
      "This is line 1\n",
      "This is line 2\n",
      "This is line 3\n",
      "This is line 4\n",
      "This is line 5\n",
      "This is line 6\n",
      "This is line 7\n",
      "This is line 8\n",
      "This is line 9\n",
      "This is line 10\n",
      "\n"
     ]
    }
   ],
   "source": [
    "with open('example2.txt', 'w') as file:\n",
    "    file.write(\"This is line A\\n\")\n",
    "    file.write('This is line B\\n')\n",
    "\n",
    "print('Initial Written File:')\n",
    "with open('example2.txt','r') as readfile:\n",
    "    print(readfile.read())\n",
    "\n",
    "with open('example2.txt', 'a') as file:\n",
    "    outlines = []\n",
    "    for index in range(1, 11):\n",
    "        outlines.append('This is line ' + str(index) + '\\n')\n",
    "    file.writelines(outlines)\n",
    "\n",
    "print('Appended File:')\n",
    "with open('example2.txt','r') as readfile:\n",
    "    print(readfile.read())\n"
   ]
  },
  {
   "cell_type": "code",
   "execution_count": 23,
   "id": "375b77f9",
   "metadata": {},
   "outputs": [
    {
     "name": "stdout",
     "output_type": "stream",
     "text": [
      "Copied File:\n",
      "This is line A\n",
      "This is line 1\n",
      "This is line 3\n",
      "This is line 5\n",
      "This is line 7\n",
      "This is line 9\n",
      "\n"
     ]
    }
   ],
   "source": [
    "# Copy Data from one to another file:\n",
    "with open('example2.txt', 'r') as readfile:\n",
    "    with open('example3.txt', 'w') as writefile:\n",
    "        readlines = readfile.readlines()\n",
    "        for line in readlines[::2]:\n",
    "            writefile.write(line)\n",
    "\n",
    "print('Copied File:')\n",
    "with open('example3.txt','r') as readfile:\n",
    "    print(readfile.read())\n",
    "\n"
   ]
  },
  {
   "cell_type": "code",
   "execution_count": 84,
   "id": "7141e2a4",
   "metadata": {},
   "outputs": [],
   "source": [
    "# Write Files Exercise\n",
    "#Run this prior to starting the exercise\n",
    "from random import randint as rnd\n",
    "\n",
    "memReg = 'members.txt'\n",
    "exReg = 'inactive.txt'\n",
    "fee =['yes','no']\n",
    "\n",
    "def genFiles(current,old):\n",
    "    with open(current,'w', newline='\\n', encoding='ascii') as writefile: \n",
    "        writefile.write('Membership No\\tDate Joined\\tActive\\n')\n",
    "        data = \"{:^13}  {:<11}  {:<6}\\n\"\n",
    "        outlines = []\n",
    "\n",
    "        for rowno in range(20):\n",
    "            date = str(rnd(2015,2020))+ '-' + str(rnd(1,12))+'-'+str(rnd(1,25))\n",
    "            outline = str(rnd(10000,99999)) + '\\t' + str(date) + '\\t' + str(fee[rnd(0,1)] + '\\n')\n",
    "            if rowno == max(range(20)):\n",
    "                outline = outline[:-1]\n",
    "            outlines.append(outline) \n",
    "        writefile.writelines(outlines)\n",
    "\n",
    "\n",
    "    with open(old,'w', newline='\\n', encoding='ascii') as writefile: \n",
    "        outlines = []\n",
    "        writefile.write('Membership No\\tDate Joined\\tActive\\n')\n",
    "        data = \"{:^13}  {:<11}  {:<6}\\n\"\n",
    "        for rowno in range(3):\n",
    "            date = str(rnd(2015,2020))+ '-' + str(rnd(1,12))+'-'+str(rnd(1,25))\n",
    "            outline = str(rnd(10000,99999)) + '\\t' + str(date) + '\\t' + str(fee[1] + '\\n')\n",
    "            if rowno == max(range(3)):\n",
    "                outline = outline[:-1]\n",
    "            outlines.append(outline) \n",
    "        writefile.writelines(outlines)\n",
    "\n",
    "genFiles(memReg,exReg)\n"
   ]
  },
  {
   "cell_type": "code",
   "execution_count": null,
   "id": "f0cbae2a",
   "metadata": {},
   "outputs": [
    {
     "name": "stdout",
     "output_type": "stream",
     "text": [
      "Initial Member List:\n",
      "Membership No\tDate Joined\tActive\n",
      "52228\t2016-4-23\tno\n",
      "64122\t2020-9-17\tno\n",
      "66079\t2018-12-14\tyes\n",
      "46697\t2019-7-22\tyes\n",
      "38710\t2018-2-10\tyes\n",
      "29234\t2016-1-2\tno\n",
      "84414\t2017-7-1\tyes\n",
      "67257\t2019-8-1\tyes\n",
      "43639\t2015-9-19\tyes\n",
      "59332\t2017-1-15\tyes\n",
      "65235\t2020-3-25\tno\n",
      "84977\t2017-4-2\tno\n",
      "90548\t2015-5-8\tyes\n",
      "48819\t2019-11-14\tno\n",
      "63295\t2018-1-12\tyes\n",
      "89224\t2020-12-22\tno\n",
      "99957\t2019-9-6\tno\n",
      "54811\t2018-10-4\tyes\n",
      "72206\t2017-3-12\tno\n",
      "86818\t2020-3-16\tno\n",
      "Initial Inactive List:\n",
      "Membership No\tDate Joined\tActive\n",
      "18740\t2020-7-5\tno\n",
      "61937\t2018-11-15\tno\n",
      "18857\t2020-12-17\tno\n"
     ]
    },
    {
     "ename": "IndexError",
     "evalue": "list index out of range",
     "output_type": "error",
     "traceback": [
      "\u001b[1;31m---------------------------------------------------------------------------\u001b[0m",
      "\u001b[1;31mIndexError\u001b[0m                                Traceback (most recent call last)",
      "Cell \u001b[1;32mIn[85], line 29\u001b[0m\n\u001b[0;32m     27\u001b[0m         inactivemembers\u001b[38;5;241m.\u001b[39mappend(member)\n\u001b[0;32m     28\u001b[0m membersfile\u001b[38;5;241m.\u001b[39mtruncate(\u001b[38;5;241m0\u001b[39m)\n\u001b[1;32m---> 29\u001b[0m memberheader \u001b[38;5;241m=\u001b[39m \u001b[38;5;28mlist\u001b[39m(\u001b[43mactivemembers\u001b[49m\u001b[43m[\u001b[49m\u001b[38;5;241;43m0\u001b[39;49m\u001b[43m]\u001b[49m\u001b[38;5;241m.\u001b[39mkeys()) \n\u001b[0;32m     30\u001b[0m memberheaderline \u001b[38;5;241m=\u001b[39m \u001b[38;5;124m'\u001b[39m\u001b[38;5;124m'\u001b[39m\n\u001b[0;32m     31\u001b[0m memberheaderline\u001b[38;5;241m.\u001b[39mjoin(\u001b[38;5;124mf\u001b[39m\u001b[38;5;124m'\u001b[39m\u001b[38;5;132;01m{\u001b[39;00mstring\u001b[38;5;132;01m}\u001b[39;00m\u001b[38;5;130;01m\\t\u001b[39;00m\u001b[38;5;124m'\u001b[39m \u001b[38;5;28;01mfor\u001b[39;00m string \u001b[38;5;129;01min\u001b[39;00m memberheader)\n",
      "\u001b[1;31mIndexError\u001b[0m: list index out of range"
     ]
    }
   ],
   "source": [
    "import csv\n",
    "\n",
    "print('Initial Member List:')\n",
    "with open('members.txt','r') as readfile:\n",
    "    print(readfile.read())\n",
    "\n",
    "print('Initial Inactive List:')\n",
    "with open('inactive.txt','r') as readfile:\n",
    "    print(readfile.read())\n",
    "\n",
    "activemembers = []\n",
    "inactivemembers = []\n",
    "\n",
    "with open('members.txt', 'r', newline='', encoding='ascii') as membersfile:\n",
    "    with open('inactive.txt', 'r', newline='', encoding='ascii') as inactivefile:\n",
    "        membersData = csv.DictReader(membersfile, delimiter='\\t')\n",
    "        inactiveData = csv.DictReader(inactivefile, delimiter='\\t')\n",
    "        for member in membersData:\n",
    "            if member['Active'] == 'yes':\n",
    "                activemembers.append(member)\n",
    "            else: \n",
    "                inactivemembers.append(member)\n",
    "        for member in inactiveData:\n",
    "            if member['Active'] == 'yes':\n",
    "                activemembers.append(member)\n",
    "            else: \n",
    "                inactivemembers.append(member)\n",
    "\n",
    "with open('members.txt', 'w', newline='', encoding='ascii') as membersfile:\n",
    "    with open('inactive.txt', 'w', newline='', encoding='ascii') as inactivefile:\n",
    "        memberheader = list(activemembers[0].keys()) \n",
    "        membersWriter = csv.DictWriter(membersfile, fieldnames=memberheader, delimiter='\\t')\n",
    "        membersWriter.writerows(activemembers)\n",
    "        inactiveheader = list(inactivemembers[0].keys())\n",
    "        inactiveWriter = csv.DictWriter(inactivefile, fieldnames=inactiveheader, delimiter='\\t')\n",
    "        inactiveWriter.writerows(inactivemembers)\n",
    "\n",
    "print('Updated Member List:')\n",
    "with open('members.txt','r') as readfile:\n",
    "    print(readfile.read())\n",
    "\n",
    "print('Updated Inactive List:')\n",
    "with open('inactive.txt','r') as readfile:\n",
    "    print(readfile.read())\n"
   ]
  },
  {
   "cell_type": "code",
   "execution_count": null,
   "id": "31fca734",
   "metadata": {},
   "outputs": [],
   "source": []
  }
 ],
 "metadata": {
  "kernelspec": {
   "display_name": "Python 3",
   "language": "python",
   "name": "python3"
  },
  "language_info": {
   "codemirror_mode": {
    "name": "ipython",
    "version": 3
   },
   "file_extension": ".py",
   "mimetype": "text/x-python",
   "name": "python",
   "nbconvert_exporter": "python",
   "pygments_lexer": "ipython3",
   "version": "3.9.1"
  }
 },
 "nbformat": 4,
 "nbformat_minor": 5
}

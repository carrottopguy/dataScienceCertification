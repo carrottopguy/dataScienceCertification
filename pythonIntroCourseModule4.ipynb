{
 "cells": [
  {
   "cell_type": "markdown",
   "id": "45a65e22",
   "metadata": {},
   "source": [
    "# Intro to Python: Projects"
   ]
  },
  {
   "cell_type": "markdown",
   "id": "7b575a35",
   "metadata": {},
   "source": [
    "## Module 4 Project 1 ~ Reading Files"
   ]
  },
  {
   "cell_type": "code",
   "execution_count": 95,
   "id": "f6a7a4ab",
   "metadata": {},
   "outputs": [
    {
     "name": "stdout",
     "output_type": "stream",
     "text": [
      "file mode: r\n",
      "filename: example1.txt\n",
      "Raw File:\n",
      " This is line 1\n",
      "This is line 2\n",
      "This is line 3\n",
      "4 characters from file: \t This\n",
      "4 characters from file: \t  is \n",
      "7 characters from file: \t line 1\n",
      "\n",
      "15 characters from file: \t This is line 2\n",
      "\n",
      "4 characters from file: \t This\n",
      "7 characters from file: \t  is lin\n",
      "100 characters from file: \t e 1\n",
      "\n",
      "Line 1 = This is line 1\n",
      "Line 2 = This is line 2\n",
      "Line 3 = This is line 3\n"
     ]
    }
   ],
   "source": [
    "# Read() command\n",
    "with open('example1.txt', 'r') as file:\n",
    "    print('file mode:', file.mode)\n",
    "    print('filename:', file.name)\n",
    "    text = file.read()\n",
    "    print('Raw File:\\n', text) \n",
    "    \n",
    "# Read with counts\n",
    "with open('example1.txt', 'r') as file:\n",
    "    characterCounts = [4, 4, 7, 15]\n",
    "    for count in characterCounts:\n",
    "        print(count, 'characters from file: \\t', file.read(count))\n",
    "\n",
    "# Readline ~ will not read more than the lines characters\n",
    "with open('example1.txt', 'r') as file:\n",
    "    characterCounts = [4, 7, 100]\n",
    "    for count in characterCounts:\n",
    "        print(count, 'characters from file: \\t', file.readline(count))\n",
    "\n",
    "\n",
    "# Readlines\n",
    "with open('example1.txt', 'r', newline='') as file:\n",
    "    contents = file.readlines()\n",
    "    for index, line in enumerate(contents, start=1):\n",
    "        print('Line', index, '=', line.replace('\\n',''))"
   ]
  },
  {
   "cell_type": "markdown",
   "id": "75972512",
   "metadata": {},
   "source": [
    "## Module 4 Project 2 ~ Writing Files"
   ]
  },
  {
   "cell_type": "code",
   "execution_count": 96,
   "id": "570ab38d",
   "metadata": {},
   "outputs": [
    {
     "name": "stdout",
     "output_type": "stream",
     "text": [
      "Initial Written File:\n",
      "This is line A\n",
      "This is line B\n",
      "\n",
      "Appended File:\n",
      "This is line A\n",
      "This is line B\n",
      "This is line 1\n",
      "This is line 2\n",
      "This is line 3\n",
      "This is line 4\n",
      "This is line 5\n",
      "This is line 6\n",
      "This is line 7\n",
      "This is line 8\n",
      "This is line 9\n",
      "This is line 10\n",
      "\n"
     ]
    }
   ],
   "source": [
    "with open('example2.txt', 'w') as file:\n",
    "    file.write(\"This is line A\\n\")\n",
    "    file.write('This is line B\\n')\n",
    "\n",
    "print('Initial Written File:')\n",
    "with open('example2.txt','r') as readfile:\n",
    "    print(readfile.read())\n",
    "\n",
    "with open('example2.txt', 'a') as file:\n",
    "    outlines = []\n",
    "    for index in range(1, 11):\n",
    "        outlines.append('This is line ' + str(index) + '\\n')\n",
    "    file.writelines(outlines)\n",
    "\n",
    "print('Appended File:')\n",
    "with open('example2.txt','r') as readfile:\n",
    "    print(readfile.read())\n"
   ]
  },
  {
   "cell_type": "code",
   "execution_count": 97,
   "id": "375b77f9",
   "metadata": {},
   "outputs": [
    {
     "name": "stdout",
     "output_type": "stream",
     "text": [
      "Copied File:\n",
      "This is line A\n",
      "This is line 1\n",
      "This is line 3\n",
      "This is line 5\n",
      "This is line 7\n",
      "This is line 9\n",
      "\n"
     ]
    }
   ],
   "source": [
    "# Copy Data from one to another file:\n",
    "with open('example2.txt', 'r') as readfile:\n",
    "    with open('example3.txt', 'w') as writefile:\n",
    "        readlines = readfile.readlines()\n",
    "        for line in readlines[::2]:\n",
    "            writefile.write(line)\n",
    "\n",
    "print('Copied File:')\n",
    "with open('example3.txt','r') as readfile:\n",
    "    print(readfile.read())\n",
    "\n"
   ]
  },
  {
   "cell_type": "code",
   "execution_count": 98,
   "id": "7141e2a4",
   "metadata": {},
   "outputs": [],
   "source": [
    "# Write Files Exercise\n",
    "#Run this prior to starting the exercise\n",
    "from random import randint as rnd\n",
    "\n",
    "memReg = 'members.txt'\n",
    "exReg = 'inactive.txt'\n",
    "fee =['yes','no']\n",
    "\n",
    "def genFiles(current,old):\n",
    "    with open(current,'w', newline='\\n', encoding='ascii') as writefile: \n",
    "        writefile.write('Membership No\\tDate Joined\\tActive\\n')\n",
    "        data = \"{:^13}  {:<11}  {:<6}\\n\"\n",
    "        outlines = []\n",
    "\n",
    "        for rowno in range(20):\n",
    "            date = str(rnd(2015,2020))+ '-' + str(rnd(1,12))+'-'+str(rnd(1,25))\n",
    "            outline = str(rnd(10000,99999)) + '\\t' + str(date) + '\\t' + str(fee[rnd(0,1)] + '\\n')\n",
    "            if rowno == max(range(20)):\n",
    "                outline = outline[:-1]\n",
    "            outlines.append(outline) \n",
    "        writefile.writelines(outlines)\n",
    "\n",
    "\n",
    "    with open(old,'w', newline='\\n', encoding='ascii') as writefile: \n",
    "        outlines = []\n",
    "        writefile.write('Membership No\\tDate Joined\\tActive\\n')\n",
    "        data = \"{:^13}  {:<11}  {:<6}\\n\"\n",
    "        for rowno in range(3):\n",
    "            date = str(rnd(2015,2020))+ '-' + str(rnd(1,12))+'-'+str(rnd(1,25))\n",
    "            outline = str(rnd(10000,99999)) + '\\t' + str(date) + '\\t' + str(fee[1] + '\\n')\n",
    "            if rowno == max(range(3)):\n",
    "                outline = outline[:-1]\n",
    "            outlines.append(outline) \n",
    "        writefile.writelines(outlines)\n",
    "\n",
    "genFiles(memReg,exReg)\n"
   ]
  },
  {
   "cell_type": "code",
   "execution_count": 99,
   "id": "f0cbae2a",
   "metadata": {},
   "outputs": [],
   "source": [
    "import csv\n",
    "\n",
    "# print('Initial Member List:')\n",
    "# with open('members.txt','r') as readfile:\n",
    "#     print(readfile.read())\n",
    "\n",
    "# print('Initial Inactive List:')\n",
    "# with open('inactive.txt','r') as readfile:\n",
    "#     print(readfile.read())\n",
    "\n",
    "activemembers = []\n",
    "inactivemembers = []\n",
    "\n",
    "with open('members.txt', 'r', newline='', encoding='ascii') as membersfile:\n",
    "    with open('inactive.txt', 'r', newline='', encoding='ascii') as inactivefile:\n",
    "        membersData = csv.DictReader(membersfile, delimiter='\\t')\n",
    "        inactiveData = csv.DictReader(inactivefile, delimiter='\\t')\n",
    "        for member in membersData:\n",
    "            if member['Active'] == 'yes':\n",
    "                activemembers.append(member)\n",
    "            else: \n",
    "                inactivemembers.append(member)\n",
    "        for member in inactiveData:\n",
    "            if member['Active'] == 'yes':\n",
    "                activemembers.append(member)\n",
    "            else: \n",
    "                inactivemembers.append(member)\n",
    "\n",
    "with open('members.txt', 'w', newline='', encoding='ascii') as membersfile:\n",
    "    with open('inactive.txt', 'w', newline='', encoding='ascii') as inactivefile:\n",
    "        memberheader = list(activemembers[0].keys()) \n",
    "        membersWriter = csv.DictWriter(membersfile, fieldnames=memberheader, delimiter='\\t')\n",
    "        membersWriter.writeheader()\n",
    "        membersWriter.writerows(activemembers)\n",
    "        inactiveheader = list(inactivemembers[0].keys())\n",
    "        inactiveWriter = csv.DictWriter(inactivefile, fieldnames=inactiveheader, delimiter='\\t')\n",
    "        inactiveWriter.writeheader()\n",
    "        inactiveWriter.writerows(inactivemembers)\n",
    "\n",
    "# print('Updated Member List:')\n",
    "# with open('members.txt','r') as readfile:\n",
    "#     print(readfile.read())\n",
    "\n",
    "# print('Updated Inactive List:')\n",
    "# with open('inactive.txt','r') as readfile:\n",
    "#     print(readfile.read())\n"
   ]
  },
  {
   "cell_type": "markdown",
   "id": "eebb6bfb",
   "metadata": {},
   "source": [
    "## Module 4 Project 3 ~ Pandas"
   ]
  },
  {
   "cell_type": "code",
   "execution_count": 114,
   "id": "31fca734",
   "metadata": {},
   "outputs": [
    {
     "name": "stdout",
     "output_type": "stream",
     "text": [
      "SIMPLE DATA ~ SERIES\n",
      "Return Series:\n",
      " 0    10\n",
      "1    20\n",
      "2    30\n",
      "3    40\n",
      "4    50\n",
      "dtype: int64\n",
      "Return Series value s[2]: 30\n",
      "Return Series value using iloc s.iloc[3]: 40\n",
      "Return Series slice s[1:4]:\n",
      " 1    20\n",
      "2    30\n",
      "3    40\n",
      "dtype: int64\n"
     ]
    }
   ],
   "source": [
    "import pandas as pd\n",
    "\n",
    "simpleData = [10, 20, 30, 40, 50]\n",
    "s = pd.Series(simpleData)\n",
    "print('SIMPLE DATA ~ SERIES')\n",
    "print('Return Series:\\n', s)\n",
    "print('Return Series value s[2]:', s[2])\n",
    "print('Return Series value using iloc s.iloc[3]:', s.iloc[3])\n",
    "print('Return Series slice s[1:4]:\\n', s[1:4])\n",
    "\n",
    "\n"
   ]
  },
  {
   "cell_type": "code",
   "execution_count": 129,
   "id": "6b108153",
   "metadata": {},
   "outputs": [
    {
     "name": "stdout",
     "output_type": "stream",
     "text": [
      "MEDIUM DATA ~ DATA FRAME\n",
      "Raw Data Frame:\n",
      "       Name  Age           City\n",
      "0    Alice   25       New York\n",
      "1      Bob   30  San Francisco\n",
      "2  Charlie   35    Los Angeles\n",
      "3    David   28        Chicago\n",
      "Data Frame Column medDf['Name', 'City']:\n",
      "       Name           City\n",
      "0    Alice       New York\n",
      "1      Bob  San Francisco\n",
      "2  Charlie    Los Angeles\n",
      "3    David        Chicago\n",
      "Data Frame Row medDf.iloc[1:3]:\n",
      "       Name  Age           City\n",
      "1      Bob   30  San Francisco\n",
      "2  Charlie   35    Los Angeles\n",
      "      Name  Age           City\n",
      "1      Bob   30  San Francisco\n",
      "2  Charlie   35    Los Angeles\n"
     ]
    }
   ],
   "source": [
    "import pandas as pd\n",
    "\n",
    "mediumData = {'Name': ['Alice', 'Bob', 'Charlie', 'David'],\n",
    "        'Age': [25, 30, 35, 28],\n",
    "        'City': ['New York', 'San Francisco', 'Los Angeles', 'Chicago']}\n",
    "\n",
    "print('MEDIUM DATA ~ DATA FRAME')\n",
    "medDf = pd.DataFrame(mediumData)\n",
    "print('Raw Data Frame:\\n', medDf)\n",
    "print('Data Frame Column medDf[\\'Name\\', \\'City\\']:\\n', medDf[['Name', 'City']])\n",
    "print('Data Frame Row medDf.iloc[1:3]:\\n', medDf.iloc[1:3])\n",
    "\n",
    "sliceMedDf = medDf[['Name', 'Age']]\n",
    "sliceMedDf = medDf[1:3]\n",
    "print(sliceMedDf)"
   ]
  },
  {
   "cell_type": "code",
   "execution_count": null,
   "id": "7ba447e5",
   "metadata": {},
   "outputs": [
    {
     "name": "stdout",
     "output_type": "stream",
     "text": [
      "Unique Function ~ Usable on Series\n",
      "['Goodman' 'Lane' 'Harding' 'Ford' 'Woods']\n",
      "Data Frame Conditional\n",
      "iloc[0] ~ First Column of Data associated to its headings\n",
      "Index                                            1\n",
      "Customer Id                        dE014d010c7ab0c\n",
      "First Name                                  Andrew\n",
      "Last Name                                  Goodman\n",
      "Company                              Stewart-Flynn\n",
      "City                                   Rowlandberg\n",
      "Country                                      Macao\n",
      "Phone 1                          846-790-4623x4715\n",
      "Phone 2                        (422)787-2331x71127\n",
      "Email                marieyates@gomez-spencer.info\n",
      "Subscription Date                       2021-07-26\n",
      "Website                       http://www.shea.biz/\n",
      "Name: 0, dtype: object\n",
      "iloc[0,1]\n",
      "dE014d010c7ab0c\n",
      "loc[0,'First Name']\n",
      "Andrew\n",
      "     Index      Customer Id First Name Last Name  \\\n",
      "0        1  dE014d010c7ab0c     Andrew   Goodman   \n",
      "69      70  2413aA72C4DEadF      David   Goodman   \n",
      "364    365  D5aAb5A9fdAD42F   Virginia   Goodman   \n",
      "481    482  2aA82CEc2Da615d     Audrey   Goodman   \n",
      "930    931  a3E9d65eaB46Ac9    Francis   Goodman   \n",
      "\n",
      "                          Company              City      Country  \\\n",
      "0                   Stewart-Flynn       Rowlandberg        Macao   \n",
      "69   Macdonald, Byrd and Williams        Juliantown      Nigeria   \n",
      "364                   Salazar Ltd          Jameston      Morocco   \n",
      "481               Jenkins-Murillo  South Rogerhaven        Yemen   \n",
      "930                  Ortiz-Morgan       Lake Thomas  Afghanistan   \n",
      "\n",
      "                Phone 1               Phone 2                          Email  \\\n",
      "0     846-790-4623x4715   (422)787-2331x71127  marieyates@gomez-spencer.info   \n",
      "69    (976)996-6527x679   +1-562-845-1571x407               ylutz@sawyer.com   \n",
      "364   139-882-2263x6505         (223)999-5846               dawn64@brock.com   \n",
      "481          2530282881      119-162-3054x983    martinjeanette@petersen.com   \n",
      "930  118-578-4457x94867  001-323-204-4852x177          marthayoung@ellis.net   \n",
      "\n",
      "    Subscription Date                                Website  \n",
      "0          2021-07-26                   http://www.shea.biz/  \n",
      "69         2020-07-15            https://rhodes-ellison.org/  \n",
      "364        2021-05-21  http://www.valenzuela-maldonado.info/  \n",
      "481        2021-10-01                    http://www.orr.org/  \n",
      "930        2022-02-08         https://rowland-hendricks.com/  \n",
      "Retrieve last name for corresponding to first name 'Andrew'\n",
      ".loc['Andrew', 'Last Name']\n",
      "Goodman\n"
     ]
    }
   ],
   "source": [
    "import pandas as pd\n",
    "\n",
    "df = pd.read_csv('customers-1000.csv')\n",
    "# unique values\n",
    "print('Unique Function ~ Usable on Series')\n",
    "print(df['Last Name'].unique()[0:5])\n",
    "# conditionals for data\n",
    "print('Data Frame Conditional')\n",
    "df_bettercall = df[df['Last Name']=='Goodman']\n",
    "print('iloc[0] ~ First Column of Data associated to its headings')\n",
    "print(df_bettercall.iloc[0])\n",
    "print('iloc[0,1]')\n",
    "print(df_bettercall.iloc[0,1])\n",
    "print('loc[0,\\'First Name\\']')\n",
    "print(df_bettercall.loc[0, 'First Name'])\n",
    "print(df_bettercall)\n",
    "df_bettercall.to_csv('betterCallSaul.csv')\n",
    "\n",
    "# Note iloc ~ returns based on indexes [row index(int), column index(int)]\n",
    "# Note loc ~ returns based on references [row index, column header]\n",
    "    # Row index can be set using df.set_index(new index column)\n",
    "# Re-index with names as the index\n",
    "df_bettercall_names = df_bettercall.set_index('First Name')\n",
    "print('Retrieve last name for corresponding to first name \\'Andrew\\'\\n.loc[\\'Andrew\\', \\'Last Name\\']')\n",
    "print(df_bettercall_names.loc['Andrew', 'Last Name'])"
   ]
  },
  {
   "cell_type": "code",
   "execution_count": 150,
   "id": "671a92c3",
   "metadata": {},
   "outputs": [
    {
     "name": "stdout",
     "output_type": "stream",
     "text": [
      "file download successfully to Product-Sales.csv\n"
     ]
    }
   ],
   "source": [
    "\n",
    "import requests\n",
    "import pandas as pd\n",
    "\n",
    "url = \"https://cf-courses-data.s3.us.cloud-object-storage.appdomain.cloud/LXjSAttmoxJfEG6il1Bqfw/Product-sales.csv\"\n",
    "filename = 'Product-Sales.csv'\n",
    "\n",
    "def download_file(url, filename):\n",
    "    try:\n",
    "        response = requests.get(url)\n",
    "        response.raise_for_status()\n",
    "\n",
    "        with open(filename, 'wb') as f:\n",
    "            f.write(response.content)\n",
    "        print(f'file download successfully to {filename}')\n",
    "    except requests.exceptions.RequestException as e:\n",
    "        print(f'error downloading file: {e}')\n",
    "\n",
    "download_file(url, filename)\n",
    "df = pd.read_csv(\"Product-sales.csv\")"
   ]
  },
  {
   "cell_type": "code",
   "execution_count": 151,
   "id": "0f0b5c69",
   "metadata": {},
   "outputs": [
    {
     "data": {
      "text/html": [
       "<div>\n",
       "<style scoped>\n",
       "    .dataframe tbody tr th:only-of-type {\n",
       "        vertical-align: middle;\n",
       "    }\n",
       "\n",
       "    .dataframe tbody tr th {\n",
       "        vertical-align: top;\n",
       "    }\n",
       "\n",
       "    .dataframe thead th {\n",
       "        text-align: right;\n",
       "    }\n",
       "</style>\n",
       "<table border=\"1\" class=\"dataframe\">\n",
       "  <thead>\n",
       "    <tr style=\"text-align: right;\">\n",
       "      <th></th>\n",
       "      <th>OrderID</th>\n",
       "      <th>Product</th>\n",
       "      <th>Category</th>\n",
       "      <th>Quantity</th>\n",
       "      <th>Price</th>\n",
       "      <th>Total</th>\n",
       "      <th>OrderDate</th>\n",
       "      <th>CustomerCity</th>\n",
       "    </tr>\n",
       "  </thead>\n",
       "  <tbody>\n",
       "    <tr>\n",
       "      <th>0</th>\n",
       "      <td>1</td>\n",
       "      <td>Laptop</td>\n",
       "      <td>Electronics</td>\n",
       "      <td>2</td>\n",
       "      <td>800</td>\n",
       "      <td>1600</td>\n",
       "      <td>2022-01-10</td>\n",
       "      <td>New York</td>\n",
       "    </tr>\n",
       "    <tr>\n",
       "      <th>1</th>\n",
       "      <td>2</td>\n",
       "      <td>Smartphone</td>\n",
       "      <td>Electronics</td>\n",
       "      <td>3</td>\n",
       "      <td>600</td>\n",
       "      <td>1800</td>\n",
       "      <td>2022-02-15</td>\n",
       "      <td>Los Angeles</td>\n",
       "    </tr>\n",
       "    <tr>\n",
       "      <th>2</th>\n",
       "      <td>3</td>\n",
       "      <td>Desk Chair</td>\n",
       "      <td>Furniture</td>\n",
       "      <td>5</td>\n",
       "      <td>150</td>\n",
       "      <td>750</td>\n",
       "      <td>2022-03-12</td>\n",
       "      <td>Chicago</td>\n",
       "    </tr>\n",
       "    <tr>\n",
       "      <th>3</th>\n",
       "      <td>4</td>\n",
       "      <td>Notebook</td>\n",
       "      <td>Stationery</td>\n",
       "      <td>10</td>\n",
       "      <td>2</td>\n",
       "      <td>20</td>\n",
       "      <td>2022-04-05</td>\n",
       "      <td>Houston</td>\n",
       "    </tr>\n",
       "    <tr>\n",
       "      <th>4</th>\n",
       "      <td>5</td>\n",
       "      <td>Monitor</td>\n",
       "      <td>Electronics</td>\n",
       "      <td>1</td>\n",
       "      <td>300</td>\n",
       "      <td>300</td>\n",
       "      <td>2022-05-21</td>\n",
       "      <td>Miami</td>\n",
       "    </tr>\n",
       "  </tbody>\n",
       "</table>\n",
       "</div>"
      ],
      "text/plain": [
       "   OrderID     Product     Category  Quantity  Price  Total   OrderDate  \\\n",
       "0        1      Laptop  Electronics         2    800   1600  2022-01-10   \n",
       "1        2  Smartphone  Electronics         3    600   1800  2022-02-15   \n",
       "2        3  Desk Chair    Furniture         5    150    750  2022-03-12   \n",
       "3        4    Notebook   Stationery        10      2     20  2022-04-05   \n",
       "4        5     Monitor  Electronics         1    300    300  2022-05-21   \n",
       "\n",
       "  CustomerCity  \n",
       "0     New York  \n",
       "1  Los Angeles  \n",
       "2      Chicago  \n",
       "3      Houston  \n",
       "4        Miami  "
      ]
     },
     "execution_count": 151,
     "metadata": {},
     "output_type": "execute_result"
    }
   ],
   "source": [
    "df = pd.read_csv(\"Product-sales.csv\")\n",
    "df.head()"
   ]
  },
  {
   "cell_type": "code",
   "execution_count": 3,
   "id": "fd1ad69c",
   "metadata": {},
   "outputs": [
    {
     "name": "stdout",
     "output_type": "stream",
     "text": [
      "None\n",
      "file download successfully to Product-sales.xlsx\n"
     ]
    },
    {
     "data": {
      "text/html": [
       "<div>\n",
       "<style scoped>\n",
       "    .dataframe tbody tr th:only-of-type {\n",
       "        vertical-align: middle;\n",
       "    }\n",
       "\n",
       "    .dataframe tbody tr th {\n",
       "        vertical-align: top;\n",
       "    }\n",
       "\n",
       "    .dataframe thead th {\n",
       "        text-align: right;\n",
       "    }\n",
       "</style>\n",
       "<table border=\"1\" class=\"dataframe\">\n",
       "  <thead>\n",
       "    <tr style=\"text-align: right;\">\n",
       "      <th></th>\n",
       "      <th>OrderID</th>\n",
       "      <th>Product</th>\n",
       "      <th>Category</th>\n",
       "      <th>Quantity</th>\n",
       "      <th>Price</th>\n",
       "      <th>Total</th>\n",
       "      <th>OrderDate</th>\n",
       "      <th>CustomerCity</th>\n",
       "    </tr>\n",
       "  </thead>\n",
       "  <tbody>\n",
       "    <tr>\n",
       "      <th>0</th>\n",
       "      <td>1</td>\n",
       "      <td>Laptop</td>\n",
       "      <td>Electronics</td>\n",
       "      <td>2</td>\n",
       "      <td>800</td>\n",
       "      <td>1600</td>\n",
       "      <td>2022-01-10</td>\n",
       "      <td>New York</td>\n",
       "    </tr>\n",
       "    <tr>\n",
       "      <th>1</th>\n",
       "      <td>2</td>\n",
       "      <td>Smartphone</td>\n",
       "      <td>Electronics</td>\n",
       "      <td>3</td>\n",
       "      <td>600</td>\n",
       "      <td>1800</td>\n",
       "      <td>2022-02-15</td>\n",
       "      <td>Los Angeles</td>\n",
       "    </tr>\n",
       "    <tr>\n",
       "      <th>2</th>\n",
       "      <td>3</td>\n",
       "      <td>Desk Chair</td>\n",
       "      <td>Furniture</td>\n",
       "      <td>5</td>\n",
       "      <td>150</td>\n",
       "      <td>750</td>\n",
       "      <td>2022-03-12</td>\n",
       "      <td>Chicago</td>\n",
       "    </tr>\n",
       "    <tr>\n",
       "      <th>3</th>\n",
       "      <td>4</td>\n",
       "      <td>Notebook</td>\n",
       "      <td>Stationery</td>\n",
       "      <td>10</td>\n",
       "      <td>2</td>\n",
       "      <td>20</td>\n",
       "      <td>2022-04-05</td>\n",
       "      <td>Houston</td>\n",
       "    </tr>\n",
       "    <tr>\n",
       "      <th>4</th>\n",
       "      <td>5</td>\n",
       "      <td>Monitor</td>\n",
       "      <td>Electronics</td>\n",
       "      <td>1</td>\n",
       "      <td>300</td>\n",
       "      <td>300</td>\n",
       "      <td>2022-05-21</td>\n",
       "      <td>Miami</td>\n",
       "    </tr>\n",
       "  </tbody>\n",
       "</table>\n",
       "</div>"
      ],
      "text/plain": [
       "   OrderID     Product     Category  Quantity  Price  Total  OrderDate  \\\n",
       "0        1      Laptop  Electronics         2    800   1600 2022-01-10   \n",
       "1        2  Smartphone  Electronics         3    600   1800 2022-02-15   \n",
       "2        3  Desk Chair    Furniture         5    150    750 2022-03-12   \n",
       "3        4    Notebook   Stationery        10      2     20 2022-04-05   \n",
       "4        5     Monitor  Electronics         1    300    300 2022-05-21   \n",
       "\n",
       "  CustomerCity  \n",
       "0     New York  \n",
       "1  Los Angeles  \n",
       "2      Chicago  \n",
       "3      Houston  \n",
       "4        Miami  "
      ]
     },
     "execution_count": 3,
     "metadata": {},
     "output_type": "execute_result"
    }
   ],
   "source": [
    "import pandas as pd\n",
    "\n",
    "import sys\n",
    "print(sys.path.append(r'C:\\\\Code\\\\Python\\\\HelperFunctions'))\n",
    "from helperFunctions import download_file\n",
    "\n",
    "xlsx_path = 'https://cf-courses-data.s3.us.cloud-object-storage.appdomain.cloud/n9LOuKI9SlUa1b5zkaCMeg/Product-sales.xlsx'\n",
    "\n",
    "download_file(xlsx_path, \"Product-sales.xlsx\")\n",
    "df = pd.read_excel(\"Product-sales.xlsx\")\n",
    "df.head()\n"
   ]
  },
  {
   "cell_type": "code",
   "execution_count": 8,
   "id": "e6468b0c",
   "metadata": {},
   "outputs": [
    {
     "name": "stdout",
     "output_type": "stream",
     "text": [
      "   OrderID     Product     Category  Quantity  Price  Total  OrderDate  \\\n",
      "0        1      Laptop  Electronics         2    800   1600 2022-01-10   \n",
      "1        2  Smartphone  Electronics         3    600   1800 2022-02-15   \n",
      "2        3  Desk Chair    Furniture         5    150    750 2022-03-12   \n",
      "3        4    Notebook   Stationery        10      2     20 2022-04-05   \n",
      "4        5     Monitor  Electronics         1    300    300 2022-05-21   \n",
      "\n",
      "  CustomerCity  \n",
      "0     New York  \n",
      "1  Los Angeles  \n",
      "2      Chicago  \n",
      "3      Houston  \n",
      "4        Miami  \n",
      "0        Laptop\n",
      "1    Smartphone\n",
      "2    Desk Chair\n",
      "3      Notebook\n",
      "4       Monitor\n",
      "Name: Product, dtype: object\n",
      "      Product     Category  Quantity\n",
      "0      Laptop  Electronics         2\n",
      "1  Smartphone  Electronics         3\n",
      "2  Desk Chair    Furniture         5\n",
      "3    Notebook   Stationery        10\n",
      "4     Monitor  Electronics         1\n"
     ]
    }
   ],
   "source": [
    "import pandas as pd\n",
    "\n",
    "df = pd.read_excel(\"Product-sales.xlsx\")\n",
    "print(df)\n",
    "x = df['Product']\n",
    "print(x)\n",
    "y = df[['Product', 'Category', 'Quantity']]\n",
    "print(y)"
   ]
  },
  {
   "cell_type": "code",
   "execution_count": null,
   "id": "453f2ded",
   "metadata": {},
   "outputs": [
    {
     "name": "stdout",
     "output_type": "stream",
     "text": [
      "   OrderID     Product     Category  Quantity  Price  Total  OrderDate  \\\n",
      "0        1      Laptop  Electronics         2    800   1600 2022-01-10   \n",
      "1        2  Smartphone  Electronics         3    600   1800 2022-02-15   \n",
      "2        3  Desk Chair    Furniture         5    150    750 2022-03-12   \n",
      "3        4    Notebook   Stationery        10      2     20 2022-04-05   \n",
      "4        5     Monitor  Electronics         1    300    300 2022-05-21   \n",
      "\n",
      "  CustomerCity  \n",
      "0     New York  \n",
      "1  Los Angeles  \n",
      "2      Chicago  \n",
      "3      Houston  \n",
      "4        Miami  \n",
      "df.iloc[0,2]: Electronics\n",
      "df.iloc[1,2]: Electronics\n",
      "df.loc[0, 'Product']: Laptop\n",
      "df.loc[0, 'Category']: Electronics\n",
      "df.loc[0, 'Total']: 1600\n"
     ]
    }
   ],
   "source": [
    "import pandas as pd\n",
    "\n",
    "# Using index location iloc and location loc\n",
    "df = pd.read_excel(\"Product-sales.xlsx\")\n",
    "print(df)\n",
    "print('df.iloc[0,2]:', df.iloc[0,2])\n",
    "print('df.iloc[1,2]:', df.iloc[1,2])\n",
    "print('df.loc[0, \\'Product\\']:', df.loc[0, 'Product'])\n",
    "print('df.loc[0, \\'Category\\']:', df.loc[0, 'Category'])\n",
    "print('df.loc[0, \\'Total\\']:', df.loc[0, 'Total'])\n",
    "\n",
    "\n"
   ]
  },
  {
   "cell_type": "code",
   "execution_count": 16,
   "id": "8d738107",
   "metadata": {},
   "outputs": [
    {
     "name": "stdout",
     "output_type": "stream",
     "text": [
      "df.iloc[0:2,1:3]:\n",
      "      Product     Category\n",
      "0      Laptop  Electronics\n",
      "1  Smartphone  Electronics\n",
      "df.iloc[0:3,'Product':'Total']:\n",
      "      Product     Category  Quantity  Price  Total\n",
      "0      Laptop  Electronics         2    800   1600\n",
      "1  Smartphone  Electronics         3    600   1800\n",
      "2  Desk Chair    Furniture         5    150    750\n",
      "3    Notebook   Stationery        10      2     20\n"
     ]
    }
   ],
   "source": [
    "import pandas as pd\n",
    "\n",
    "# Using Slices \n",
    "df = pd.read_excel(\"Product-sales.xlsx\")\n",
    "indexSlice = df.iloc[0:2,1:3]\n",
    "print('df.iloc[0:2,1:3]:')\n",
    "print(indexSlice)\n",
    "locSlice = df.loc[0:3, 'Product':'Total']\n",
    "print('df.iloc[0:3,\\'Product\\':\\'Total\\']:')\n",
    "print(locSlice)\n",
    "\n",
    "\n",
    "\n"
   ]
  },
  {
   "cell_type": "code",
   "execution_count": 29,
   "id": "ffba194d",
   "metadata": {},
   "outputs": [
    {
     "name": "stdout",
     "output_type": "stream",
     "text": [
      "   Price\n",
      "0    800\n",
      "1    600\n",
      "2    150\n",
      "3      2\n",
      "4    300\n",
      "      Product     Category\n",
      "0      Laptop  Electronics\n",
      "1  Smartphone  Electronics\n",
      "2  Desk Chair    Furniture\n",
      "3    Notebook   Stationery\n",
      "4     Monitor  Electronics\n",
      "Electronics\n",
      "New York\n"
     ]
    }
   ],
   "source": [
    "import pandas as pd\n",
    "\n",
    "# Quiz \n",
    "df = pd.read_excel(\"Product-sales.xlsx\")\n",
    "q = df[['Price']]\n",
    "r = df[['Product','Category']]\n",
    "\n",
    "print(q)\n",
    "print(r)\n",
    "print(df.iloc[1,2])\n",
    "newIndexes = ['a', 'b', 'c', 'd', 'e']\n",
    "df_new = df[:]\n",
    "df_new.index = newIndexes\n",
    "print(df_new.loc['a', 'CustomerCity'])\n"
   ]
  },
  {
   "cell_type": "markdown",
   "id": "1a4cfc64",
   "metadata": {},
   "source": [
    "## Module 4 Project 4 ~ Numpy"
   ]
  },
  {
   "cell_type": "markdown",
   "id": "17f7d876",
   "metadata": {},
   "source": [
    "### Simple Numpy Functions and 1d Arrays"
   ]
  },
  {
   "cell_type": "code",
   "execution_count": 77,
   "id": "e11b8a91",
   "metadata": {},
   "outputs": [
    {
     "name": "stdout",
     "output_type": "stream",
     "text": [
      "Raw Array:\n",
      "[0 1 2 3 4 5]\n",
      "Type: <class 'numpy.ndarray'>\n",
      "DataType of Array: int64\n",
      "Size of the Array 6\n",
      "Shape of the Array: (6,)\n",
      "N-Dimensions of the Array: 1\n"
     ]
    }
   ],
   "source": [
    "# Simple Array Characteristics\n",
    "import numpy as np\n",
    "a = np.array([0, 1, 2, 3, 4, 5])\n",
    "print('Raw Array:')\n",
    "print(a)\n",
    "print('Type:', type(a))\n",
    "print('DataType of Array:', a.dtype)\n",
    "print('Size of the Array', a.size)\n",
    "print('Shape of the Array:', a.shape)\n",
    "print('N-Dimensions of the Array:', a.ndim)"
   ]
  },
  {
   "cell_type": "code",
   "execution_count": 78,
   "id": "9b85bc08",
   "metadata": {},
   "outputs": [
    {
     "name": "stdout",
     "output_type": "stream",
     "text": [
      "Raw Array:\n",
      "[0 1 2 3 4 5]\n",
      "Updated Array:\n",
      "[100   1   2   3   4   5]\n",
      "2nd Updated Array:\n",
      "[100   1   2   3   0   5]\n",
      "Sliced Array:\n",
      "[3 0]\n",
      "3rd Updated Array:\n",
      "[100   1   2 300 400   5]\n"
     ]
    }
   ],
   "source": [
    "# Slicing and Editing Arrays\n",
    "import numpy as np\n",
    "a = np.array([0, 1, 2, 3, 4, 5])\n",
    "print('Raw Array:')\n",
    "print(a)\n",
    "a[0] = 100\n",
    "print('Updated Array:')\n",
    "print(a)\n",
    "a[4] = 0\n",
    "print('2nd Updated Array:')\n",
    "print(a)\n",
    "b = a[3:5]\n",
    "print('Sliced Array:')\n",
    "print(b)\n",
    "a[3:5] = [300, 400]\n",
    "print('3rd Updated Array:')\n",
    "print(a)"
   ]
  },
  {
   "cell_type": "code",
   "execution_count": 79,
   "id": "c519fade",
   "metadata": {},
   "outputs": [
    {
     "name": "stdout",
     "output_type": "stream",
     "text": [
      "Raw Arrays:\n",
      "a:\n",
      "[0 1 2]\n",
      "b:\n",
      "[3 4 5]\n",
      "a * b: [ 0  4 10]\n",
      "a * b: [3 5 7]\n",
      "a * 3: [0 3 6]\n",
      "4 + b: [7 8 9]\n",
      "np.dot(a, b): 14\n",
      "grades array:\n",
      "[60 99 85 75 93 83 78 87 96 68]\n",
      "grades.max(): 99\n",
      "grades.min(): 60\n",
      "grades.mean(): 82.4\n",
      "grades.std(): 11.766052864066182\n"
     ]
    }
   ],
   "source": [
    "# Basic Numpy Operations\n",
    "# Vector Addition: \n",
    "# [0] + [1] = [1]\n",
    "# [1]   [0]   [1]\n",
    "# simply array addition ~ i.e. a + b ~ for array a and b\n",
    "# Vector Multiplication with Scalar\n",
    "# [2] * 2 = [4]\n",
    "# [4]       [8]\n",
    "# simply scalar multiply by array ~ i.e. 2*x ~ for array x and scalar 2\n",
    "# Array Multiplication ~ Hadamard Product\n",
    "# [1] * [3] = [3]\n",
    "# [2]   [2]   [4]\n",
    "# simply array multiplication ~ i.e. a * b ~ for array a and b\n",
    "# Dot Product\n",
    "# [1] * [3] = (3 * 1) + (2 * 1) = 5\n",
    "# [2]   [1]   \n",
    "# done using built in dot product function ~ i.e. np.dot(u, v) ~ for arrays u and v\n",
    "# Scalar addition:\n",
    "# [2] + 1 = [3]\n",
    "# [4]       [5]\n",
    "# simply scalar add to array ~ i.e. x + 1 ~ for array x and scalar 1\n",
    "\n",
    "# Universal functions\n",
    "import numpy as np\n",
    "a = np.array([0, 1, 2])\n",
    "b = np.array([3, 4, 5])\n",
    "print('Raw Arrays:')\n",
    "print('a:')\n",
    "print(a)\n",
    "print('b:')\n",
    "print(b)\n",
    "print('a * b:', a * b)\n",
    "print('a * b:', a + b)\n",
    "print('a * 3:', a * 3)\n",
    "print('4 + b:', 4 + b)\n",
    "print('np.dot(a, b):', np.dot(a, b))\n",
    "\n",
    "grades = np.array([60, 99, 85, 75, 93, 83, 78, 87, 96, 68])\n",
    "print('grades array:')\n",
    "print(grades)\n",
    "print('grades.max():', grades.max())\n",
    "print('grades.min():', grades.min())\n",
    "print('grades.mean():', grades.mean())\n",
    "print('grades.std():', grades.std())\n"
   ]
  },
  {
   "cell_type": "code",
   "execution_count": 73,
   "id": "8f6deb76",
   "metadata": {},
   "outputs": [
    {
     "name": "stdout",
     "output_type": "stream",
     "text": [
      "Array x:\n",
      "[0.         1.57079633 3.14159265]\n",
      "Array y (sin(x)):\n",
      "[0.0000000e+00 1.0000000e+00 1.2246468e-16]\n",
      "np.linspace(-5, 5, num=21):\n",
      "[-5.  -4.5 -4.  -3.5 -3.  -2.5 -2.  -1.5 -1.  -0.5  0.   0.5  1.   1.5\n",
      "  2.   2.5  3.   3.5  4.   4.5  5. ]\n"
     ]
    },
    {
     "data": {
      "text/plain": [
       "[<matplotlib.lines.Line2D at 0x18f30150280>]"
      ]
     },
     "execution_count": 73,
     "metadata": {},
     "output_type": "execute_result"
    },
    {
     "data": {
      "image/png": "[encoded data removed]",
      "text/plain": [
       "<Figure size 640x480 with 1 Axes>"
      ]
     },
     "metadata": {},
     "output_type": "display_data"
    }
   ],
   "source": [
    "# Functions applied to arrays i.e. \"sin\" import numpy as np\n",
    "\n",
    "x = np.array([0, np.pi/2, np.pi])\n",
    "y = np.sin(x)\n",
    "print('Array x:')\n",
    "print(x)\n",
    "print('Array y (sin(x)):')\n",
    "print(y)\n",
    "\n",
    "# Linespace ~ useful in generating evenly distributed points\n",
    "points = np.linspace(-5, 5, num=21)\n",
    "print('np.linspace(-5, 5, num=21):')\n",
    "print(points)\n",
    "\n",
    "# example with plots\n",
    "import matplotlib.pyplot as plt\n",
    "\n",
    "x = np.linspace(0, 2 * np.pi, num=100)\n",
    "y = np.sin(x)\n",
    "plt.plot(x,y)\n",
    "\n"
   ]
  },
  {
   "cell_type": "code",
   "execution_count": 74,
   "id": "8f77a71b",
   "metadata": {},
   "outputs": [
    {
     "data": {
      "image/png": "[encoded data removed]",
      "text/plain": [
       "<Figure size 640x480 with 1 Axes>"
      ]
     },
     "metadata": {},
     "output_type": "display_data"
    }
   ],
   "source": [
    "# Plotting functions\n",
    "\n",
    "\n",
    "import time \n",
    "import sys\n",
    "import numpy as np \n",
    "\n",
    "import matplotlib.pyplot as plt\n",
    "\n",
    "\n",
    "def Plotvec1(u, z, v):\n",
    "    \n",
    "    ax = plt.axes() # to generate the full window axes\n",
    "    ax.arrow(0, 0, *u, head_width=0.05, color='r', head_length=0.1)# Add an arrow to the  U Axes with arrow head width 0.05, color red and arrow head length 0.1\n",
    "    plt.text(*(u + 0.1), 'u')#Adds the text u to the Axes \n",
    "    \n",
    "    ax.arrow(0, 0, *v, head_width=0.05, color='b', head_length=0.1)# Add an arrow to the  v Axes with arrow head width 0.05, color red and arrow head length 0.1\n",
    "    plt.text(*(v + 0.1), 'v')#Adds the text v to the Axes \n",
    "    \n",
    "    ax.arrow(0, 0, *z, head_width=0.05, head_length=0.1)\n",
    "    plt.text(*(z + 0.1), 'z')#Adds the text z to the Axes \n",
    "    plt.ylim(-2, 2)#set the ylim to bottom(-2), top(2)\n",
    "    plt.xlim(-2, 2)#set the xlim to left(-2), right(2)\n",
    "\n",
    "\n",
    "u = np.array([1, 0])\n",
    "v = np.array([1, 0])\n",
    "z = np.add(u, v)\n",
    "\n",
    "Plotvec1(u, z, v)\n"
   ]
  },
  {
   "cell_type": "code",
   "execution_count": 75,
   "id": "394a1c87",
   "metadata": {},
   "outputs": [
    {
     "name": "stdout",
     "output_type": "stream",
     "text": [
      "array 1:\n",
      "[10 11 12 13 14 15]\n",
      "array 2:\n",
      "[20 21 22 23 24 25]\n",
      "array 1 + array 2\n",
      "[30 32 34 36 38 40]\n",
      "array 1 + array 2\n",
      "[-10 -10 -10 -10 -10 -10]\n",
      "array 3:\n",
      "[10 20 30 40 50 60]\n",
      "array 4:\n",
      "[2 1 2 3 4 5]\n",
      "array 3 * array 4:\n",
      "[ 20  20  60 120 200 300]\n",
      "array 3 / array 4:\n",
      "[ 5.         20.         15.         13.33333333 12.5        12.        ]\n",
      "dot product array 3 & array 4:\n",
      "720\n"
     ]
    }
   ],
   "source": [
    "# Numpy Quiz\n",
    "arr1 = np.array([10, 11, 12, 13, 14, 15])\n",
    "arr2 = np.array([20, 21, 22, 23, 24, 25])\n",
    "arrAdd = arr1 + arr2\n",
    "print('array 1:')\n",
    "print(arr1)\n",
    "print('array 2:')\n",
    "print(arr2)\n",
    "print('array 1 + array 2')\n",
    "print(arrAdd)\n",
    "print('array 1 + array 2')\n",
    "print(np.subtract(arr1, arr2))\n",
    "\n",
    "arr3 = np.array([10, 20, 30, 40, 50, 60])\n",
    "arr4 = np.array([2, 1, 2, 3, 4, 5])\n",
    "print('array 3:')\n",
    "print(arr3)\n",
    "print('array 4:')\n",
    "print(arr4)\n",
    "print('array 3 * array 4:')\n",
    "print(np.multiply(arr3, arr4))\n",
    "print('array 3 / array 4:')\n",
    "print(arr3 / arr4)\n",
    "print('dot product array 3 & array 4:')\n",
    "print(np.dot(arr3, arr4))\n",
    "\n",
    "\n"
   ]
  },
  {
   "cell_type": "code",
   "execution_count": 76,
   "id": "f969ab4e",
   "metadata": {},
   "outputs": [
    {
     "name": "stdout",
     "output_type": "stream",
     "text": [
      "10\n",
      "20\n",
      "30\n",
      "40\n",
      "50\n",
      "60\n"
     ]
    }
   ],
   "source": [
    "import numpy as np\n",
    "arr = np.array([10, 20, 30, 40, 50, 60])\n",
    "for x in arr:\n",
    "    print(x)"
   ]
  },
  {
   "cell_type": "markdown",
   "id": "27124525",
   "metadata": {},
   "source": [
    "### Complex Numpy Functions and 2d Arrays"
   ]
  },
  {
   "cell_type": "code",
   "execution_count": 84,
   "id": "ae311cca",
   "metadata": {},
   "outputs": [
    {
     "name": "stdout",
     "output_type": "stream",
     "text": [
      "Raw Array:\n",
      "[[11 12 13]\n",
      " [21 22 23]\n",
      " [31 32 33]]\n",
      "Type: <class 'numpy.ndarray'>\n",
      "DataType of Array: int64\n",
      "Size of the Array 9\n",
      "Shape of the Array: (3, 3)\n",
      "N-Dimensions of the Array: 2\n",
      "Accessing Elements from the list via Indexes ~ Array[Row][Column]\n",
      "a[0][0]: 11\n",
      "a[1][1]: 22\n",
      "a[2][0]: 31\n",
      "Accessing Elements from single index ~ Array[Row, Column]\n",
      "a[2, 2]: 33\n",
      "a[1, 1]: 22\n",
      "a[0, 2]: 13\n"
     ]
    }
   ],
   "source": [
    "import numpy as np\n",
    "# Dimensions are accomplished via List Nesting 1d = [1, 2, 3], 2d = [[1],[2],[3]]\n",
    "a = np.array([[11, 12, 13],[21, 22, 23],[31, 32, 33]])\n",
    "print('Raw Array:')\n",
    "print(a)\n",
    "print('Type:', type(a))\n",
    "print('DataType of Array:', a.dtype)\n",
    "print('Size of the Array', a.size)\n",
    "print('Shape of the Array:', a.shape)\n",
    "print('N-Dimensions of the Array:', a.ndim)\n",
    "print('Accessing Elements from the list via Indexes ~ Array[Row][Column]')\n",
    "print('a[0][0]:', a[0][0])\n",
    "print('a[1][1]:', a[1][1])\n",
    "print('a[2][0]:', a[2][0])\n",
    "print('Accessing Elements from single index ~ Array[Row, Column]')\n",
    "print('a[2, 2]:', a[2, 2])\n",
    "print('a[1, 1]:', a[1, 1])\n",
    "print('a[0, 2]:', a[0, 2])"
   ]
  },
  {
   "cell_type": "code",
   "execution_count": 86,
   "id": "b3e33700",
   "metadata": {},
   "outputs": [
    {
     "name": "stdout",
     "output_type": "stream",
     "text": [
      "Raw Array:\n",
      "[[11 12 13]\n",
      " [21 22 23]\n",
      " [31 32 33]]\n",
      "Sliced 0:2, 0:2 ~\n",
      "[[11 12]\n",
      " [21 22]]\n"
     ]
    }
   ],
   "source": [
    "# Slicing 2d Arrays\n",
    "a = np.array([[11, 12, 13],[21, 22, 23],[31, 32, 33]])\n",
    "print('Raw Array:')\n",
    "print(a)\n",
    "b = a[0:2, 0:2]\n",
    "print('Sliced 0:2, 0:2 ~')\n",
    "print(b)"
   ]
  },
  {
   "cell_type": "code",
   "execution_count": 92,
   "id": "becc9930",
   "metadata": {},
   "outputs": [
    {
     "name": "stdout",
     "output_type": "stream",
     "text": [
      "x:\n",
      "[[1 0]\n",
      " [0 1]]\n",
      "y:\n",
      "[[2 1]\n",
      " [1 2]]\n",
      "x + y\n",
      "[[3 1]\n",
      " [1 3]]\n",
      "3 * x\n",
      "[[3 0]\n",
      " [0 3]]\n",
      "x * y\n",
      "[[2 0]\n",
      " [0 2]]\n",
      "np.dot(x, y)\n",
      "[[2 1]\n",
      " [1 2]]\n"
     ]
    }
   ],
   "source": [
    "# Array operations\n",
    "x = np.array([[1, 0],[0, 1]])\n",
    "y = np.array([[2, 1],[1, 2]])\n",
    "print('x:')\n",
    "print(x)\n",
    "print('y:')\n",
    "print(y)\n",
    "print('x + y')\n",
    "print(x + y)\n",
    "print('3 * x')\n",
    "print(x * 3)\n",
    "print('x * y')\n",
    "print(x * y)\n",
    "print('np.dot(x, y)')\n",
    "print(np.dot(x,y))\n"
   ]
  },
  {
   "cell_type": "code",
   "execution_count": 100,
   "id": "2daaf303",
   "metadata": {},
   "outputs": [
    {
     "name": "stdout",
     "output_type": "stream",
     "text": [
      "a:\n",
      "[[0 1 1]\n",
      " [1 0 1]]\n",
      "b:\n",
      "[[ 1  1]\n",
      " [ 1  1]\n",
      " [-1  1]]\n",
      "a * b:\n",
      "[[0 2]\n",
      " [0 2]]\n",
      "b * a:\n",
      "[[ 1  1  2]\n",
      " [ 1  1  2]\n",
      " [ 1 -1  0]]\n",
      "sin(a * b):\n",
      "[[0.         0.90929743]\n",
      " [0.         0.90929743]]\n",
      "original b:\n",
      "[[ 1  1]\n",
      " [ 1  1]\n",
      " [-1  1]]\n",
      "transpose b (b.T):\n",
      "[[ 1  1 -1]\n",
      " [ 1  1  1]]\n"
     ]
    }
   ],
   "source": [
    "# matrix multiplication\n",
    "a = np.array([[0, 1, 1],[1, 0, 1]])\n",
    "b = np.array([[1, 1],[1, 1],[-1, 1]])\n",
    "print('a:')\n",
    "print(a)\n",
    "print('b:')\n",
    "print(b)\n",
    "c = np.matmul(a, b)\n",
    "print('a * b:')\n",
    "print(c)\n",
    "d = np.matmul(b, a)\n",
    "print('b * a:')\n",
    "print(d)\n",
    "z = np.sin(np.dot(a, b))\n",
    "print('sin(a * b):')\n",
    "print(z)\n",
    "print('original b:')\n",
    "print(b)\n",
    "print('transpose b (b.T):')\n",
    "print(b.T)"
   ]
  },
  {
   "cell_type": "code",
   "execution_count": 105,
   "id": "2cc0b30c",
   "metadata": {},
   "outputs": [
    {
     "name": "stdout",
     "output_type": "stream",
     "text": [
      "size a: 12\n",
      "slice a:\n",
      "[1 2]\n",
      "a:\n",
      "[[ 1  2  3  4]\n",
      " [ 5  6  7  8]\n",
      " [ 9 10 11 12]]\n",
      "b\n",
      "[[ 0  1]\n",
      " [ 1  0]\n",
      " [ 1  1]\n",
      " [-1  0]]\n",
      "a * b\n",
      "[[ 1  4]\n",
      " [ 5 12]\n",
      " [ 9 20]]\n"
     ]
    }
   ],
   "source": [
    "# Quiz\n",
    "\n",
    "a = np.array([[1, 2, 3, 4], [5, 6, 7, 8], [9, 10, 11, 12]])\n",
    "print('size a:', a.size)\n",
    "print('slice a:')\n",
    "print(a[0][0:2])\n",
    "b = np.array([[0, 1], [1, 0], [1, 1], [-1, 0]])\n",
    "print('a:')\n",
    "print(a)\n",
    "print('b')\n",
    "print(b)\n",
    "print('a * b')\n",
    "c = np.matmul(a, b)\n",
    "print(c)"
   ]
  },
  {
   "cell_type": "code",
   "execution_count": null,
   "id": "b4e7fb1b",
   "metadata": {},
   "outputs": [],
   "source": []
  }
 ],
 "metadata": {
  "kernelspec": {
   "display_name": "Python 3",
   "language": "python",
   "name": "python3"
  },
  "language_info": {
   "codemirror_mode": {
    "name": "ipython",
    "version": 3
   },
   "file_extension": ".py",
   "mimetype": "text/x-python",
   "name": "python",
   "nbconvert_exporter": "python",
   "pygments_lexer": "ipython3",
   "version": "3.9.1"
  }
 },
 "nbformat": 4,
 "nbformat_minor": 5
}
